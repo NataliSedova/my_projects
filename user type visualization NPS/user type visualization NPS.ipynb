{
 "cells": [
  {
   "cell_type": "markdown",
   "id": "97ceb5d5",
   "metadata": {},
   "source": [
    "# Исследование и визуализация портрета пользователя (сторонника) телеком-компании"
   ]
  },
  {
   "cell_type": "code",
   "execution_count": 1,
   "id": "9da75cb7",
   "metadata": {
    "tags": [
     "aa81075c-062f-4de0-b5fe-14c73dc7468e"
    ]
   },
   "outputs": [],
   "source": [
    "import pandas as pd\n",
    "import numpy as np\n",
    "\n",
    "from sqlalchemy import create_engine"
   ]
  },
  {
   "cell_type": "code",
   "execution_count": 2,
   "id": "d9ed7a6b",
   "metadata": {},
   "outputs": [],
   "source": [
    "path_to_db = '/datasets/telecomm_csi.db'\n",
    "engine = create_engine(f'sqlite:///{path_to_db}', echo = False)"
   ]
  },
  {
   "cell_type": "code",
   "execution_count": 3,
   "id": "e9b32379",
   "metadata": {},
   "outputs": [],
   "source": [
    "query = \"\"\"\n",
    "        SELECT user.user_id,\n",
    "               user.lt_day,\n",
    "       CASE\n",
    "           WHEN user.lt_day <= 365 THEN 'новый'\n",
    "           WHEN user.lt_day > 365 THEN 'не новый'\n",
    "       END AS is_new,\n",
    "       \n",
    "               user.age,\n",
    "               \n",
    "       CASE \n",
    "           WHEN user.gender_segment = 1 THEN 'женщина'\n",
    "           WHEN user.gender_segment = 0 THEN 'мужчина'\n",
    "       END AS gender_segment,\n",
    "       \n",
    "               user.os_name,\n",
    "               user.cpe_type_name,\n",
    "               location.country,\n",
    "               location.city,\n",
    "               age_segment.title AS age_segment,\n",
    "               traffic_segment.title AS traffic_segment,\n",
    "               lifetime_segment.title AS lifetime_segment,\n",
    "               user.nps_score,\n",
    "       CASE \n",
    "           WHEN user.nps_score <= 6 THEN 'критик'\n",
    "           WHEN user.nps_score > 6 AND user.nps_score < 9 THEN 'нейтральный'\n",
    "           WHEN user.nps_score >= 9 THEN 'сторонник'\n",
    "       END AS nps_group\n",
    "FROM user AS user\n",
    "JOIN location AS location ON user.location_id = location.location_id\n",
    "JOIN age_segment AS age_segment ON user.age_gr_id = age_segment.age_gr_id\n",
    "JOIN traffic_segment AS traffic_segment ON user.tr_gr_id = traffic_segment.tr_gr_id\n",
    "JOIN lifetime_segment AS lifetime_segment ON user.lt_gr_id = lifetime_segment.lt_gr_id;\n",
    "\"\"\""
   ]
  },
  {
   "cell_type": "code",
   "execution_count": 4,
   "id": "024c3492",
   "metadata": {},
   "outputs": [
    {
     "data": {
      "text/html": [
       "<div>\n",
       "<style scoped>\n",
       "    .dataframe tbody tr th:only-of-type {\n",
       "        vertical-align: middle;\n",
       "    }\n",
       "\n",
       "    .dataframe tbody tr th {\n",
       "        vertical-align: top;\n",
       "    }\n",
       "\n",
       "    .dataframe thead th {\n",
       "        text-align: right;\n",
       "    }\n",
       "</style>\n",
       "<table border=\"1\" class=\"dataframe\">\n",
       "  <thead>\n",
       "    <tr style=\"text-align: right;\">\n",
       "      <th></th>\n",
       "      <th>user_id</th>\n",
       "      <th>lt_day</th>\n",
       "      <th>is_new</th>\n",
       "      <th>age</th>\n",
       "      <th>gender_segment</th>\n",
       "      <th>os_name</th>\n",
       "      <th>cpe_type_name</th>\n",
       "      <th>country</th>\n",
       "      <th>city</th>\n",
       "      <th>age_segment</th>\n",
       "      <th>traffic_segment</th>\n",
       "      <th>lifetime_segment</th>\n",
       "      <th>nps_score</th>\n",
       "      <th>nps_group</th>\n",
       "    </tr>\n",
       "  </thead>\n",
       "  <tbody>\n",
       "    <tr>\n",
       "      <th>0</th>\n",
       "      <td>A001A2</td>\n",
       "      <td>2320</td>\n",
       "      <td>не новый</td>\n",
       "      <td>45.0</td>\n",
       "      <td>женщина</td>\n",
       "      <td>ANDROID</td>\n",
       "      <td>SMARTPHONE</td>\n",
       "      <td>Россия</td>\n",
       "      <td>Уфа</td>\n",
       "      <td>05 45-54</td>\n",
       "      <td>04 1-5</td>\n",
       "      <td>08 36+</td>\n",
       "      <td>10</td>\n",
       "      <td>сторонник</td>\n",
       "    </tr>\n",
       "    <tr>\n",
       "      <th>1</th>\n",
       "      <td>A001WF</td>\n",
       "      <td>2344</td>\n",
       "      <td>не новый</td>\n",
       "      <td>53.0</td>\n",
       "      <td>мужчина</td>\n",
       "      <td>ANDROID</td>\n",
       "      <td>SMARTPHONE</td>\n",
       "      <td>Россия</td>\n",
       "      <td>Киров</td>\n",
       "      <td>05 45-54</td>\n",
       "      <td>04 1-5</td>\n",
       "      <td>08 36+</td>\n",
       "      <td>10</td>\n",
       "      <td>сторонник</td>\n",
       "    </tr>\n",
       "    <tr>\n",
       "      <th>2</th>\n",
       "      <td>A003Q7</td>\n",
       "      <td>467</td>\n",
       "      <td>не новый</td>\n",
       "      <td>57.0</td>\n",
       "      <td>мужчина</td>\n",
       "      <td>ANDROID</td>\n",
       "      <td>SMARTPHONE</td>\n",
       "      <td>Россия</td>\n",
       "      <td>Москва</td>\n",
       "      <td>06 55-64</td>\n",
       "      <td>08 20-25</td>\n",
       "      <td>06 13-24</td>\n",
       "      <td>10</td>\n",
       "      <td>сторонник</td>\n",
       "    </tr>\n",
       "  </tbody>\n",
       "</table>\n",
       "</div>"
      ],
      "text/plain": [
       "  user_id  lt_day    is_new   age gender_segment  os_name cpe_type_name  \\\n",
       "0  A001A2    2320  не новый  45.0        женщина  ANDROID    SMARTPHONE   \n",
       "1  A001WF    2344  не новый  53.0        мужчина  ANDROID    SMARTPHONE   \n",
       "2  A003Q7     467  не новый  57.0        мужчина  ANDROID    SMARTPHONE   \n",
       "\n",
       "  country    city age_segment traffic_segment lifetime_segment  nps_score  \\\n",
       "0  Россия     Уфа    05 45-54          04 1-5           08 36+         10   \n",
       "1  Россия   Киров    05 45-54          04 1-5           08 36+         10   \n",
       "2  Россия  Москва    06 55-64        08 20-25         06 13-24         10   \n",
       "\n",
       "   nps_group  \n",
       "0  сторонник  \n",
       "1  сторонник  \n",
       "2  сторонник  "
      ]
     },
     "execution_count": 4,
     "metadata": {},
     "output_type": "execute_result"
    }
   ],
   "source": [
    "data = pd.read_sql(query, engine)\n",
    "data.head(3)"
   ]
  },
  {
   "cell_type": "code",
   "execution_count": 5,
   "id": "8827d207",
   "metadata": {},
   "outputs": [],
   "source": [
    "data.to_csv('data_telecom.csv', index=False)"
   ]
  },
  {
   "cell_type": "markdown",
   "id": "63df54ad",
   "metadata": {},
   "source": [
    "### Cсылка на дашборд на сайте Tableau Public:"
   ]
  },
  {
   "cell_type": "markdown",
   "id": "96e4a895",
   "metadata": {},
   "source": [
    "https://public.tableau.com/app/profile/natali.sedova/viz/NPS__16512155537250/Dashboard12"
   ]
  },
  {
   "cell_type": "markdown",
   "id": "cfc11074",
   "metadata": {},
   "source": [
    "### Ссылка на pdf-файл с презентацией:"
   ]
  },
  {
   "cell_type": "markdown",
   "id": "775245d4",
   "metadata": {},
   "source": [
    "https://disk.yandex.ru/i/584W-pDKLUIw0Q "
   ]
  }
 ],
 "metadata": {
  "ExecuteTimeLog": [
   {
    "duration": 752,
    "start_time": "2021-10-03T17:40:52.731Z"
   },
   {
    "duration": 20,
    "start_time": "2021-10-03T17:40:53.486Z"
   },
   {
    "duration": 4,
    "start_time": "2021-10-03T17:41:04.638Z"
   },
   {
    "duration": 461,
    "start_time": "2021-10-03T17:41:04.912Z"
   },
   {
    "duration": 284,
    "start_time": "2021-10-03T17:41:05.376Z"
   },
   {
    "duration": 574,
    "start_time": "2021-10-06T07:55:05.029Z"
   },
   {
    "duration": 6,
    "start_time": "2021-10-06T07:55:05.605Z"
   },
   {
    "duration": 3,
    "start_time": "2021-10-06T07:55:14.685Z"
   },
   {
    "duration": 406,
    "start_time": "2021-10-06T07:55:15.522Z"
   },
   {
    "duration": 67,
    "start_time": "2021-10-06T07:55:15.929Z"
   },
   {
    "duration": 840,
    "start_time": "2021-10-07T07:54:04.647Z"
   },
   {
    "duration": 10,
    "start_time": "2021-10-07T07:54:05.490Z"
   },
   {
    "duration": 4,
    "start_time": "2021-10-07T07:54:05.544Z"
   },
   {
    "duration": 391,
    "start_time": "2021-10-07T07:54:06.237Z"
   },
   {
    "duration": 293,
    "start_time": "2021-10-07T07:54:06.654Z"
   },
   {
    "duration": 501,
    "start_time": "2022-04-28T16:25:34.688Z"
   },
   {
    "duration": 19,
    "start_time": "2022-04-28T16:25:37.084Z"
   },
   {
    "duration": 3,
    "start_time": "2022-04-28T16:25:41.157Z"
   },
   {
    "duration": 8820,
    "start_time": "2022-04-28T16:26:26.597Z"
   },
   {
    "duration": 4453,
    "start_time": "2022-04-28T16:27:14.942Z"
   },
   {
    "duration": 7856,
    "start_time": "2022-04-28T16:28:06.125Z"
   },
   {
    "duration": 522,
    "start_time": "2022-04-29T05:43:04.536Z"
   },
   {
    "duration": 13,
    "start_time": "2022-04-29T05:43:05.060Z"
   },
   {
    "duration": 3,
    "start_time": "2022-04-29T05:43:05.075Z"
   },
   {
    "duration": 5130,
    "start_time": "2022-04-29T05:43:05.080Z"
   },
   {
    "duration": 3635,
    "start_time": "2022-04-29T05:43:10.212Z"
   },
   {
    "duration": 514,
    "start_time": "2022-04-30T04:15:23.192Z"
   },
   {
    "duration": 62,
    "start_time": "2022-04-30T04:15:23.708Z"
   },
   {
    "duration": 3,
    "start_time": "2022-04-30T04:15:23.772Z"
   },
   {
    "duration": 5118,
    "start_time": "2022-04-30T04:15:23.777Z"
   },
   {
    "duration": 4534,
    "start_time": "2022-04-30T04:15:28.897Z"
   }
  ],
  "kernelspec": {
   "display_name": "Python 3 (ipykernel)",
   "language": "python",
   "name": "python3"
  },
  "language_info": {
   "codemirror_mode": {
    "name": "ipython",
    "version": 3
   },
   "file_extension": ".py",
   "mimetype": "text/x-python",
   "name": "python",
   "nbconvert_exporter": "python",
   "pygments_lexer": "ipython3",
   "version": "3.7.8"
  },
  "toc": {
   "base_numbering": 1,
   "nav_menu": {},
   "number_sections": true,
   "sideBar": true,
   "skip_h1_title": true,
   "title_cell": "Table of Contents",
   "title_sidebar": "Contents",
   "toc_cell": false,
   "toc_position": {},
   "toc_section_display": true,
   "toc_window_display": false
  }
 },
 "nbformat": 4,
 "nbformat_minor": 5
}
