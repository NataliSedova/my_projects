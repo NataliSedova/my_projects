{
 "cells": [
  {
   "cell_type": "markdown",
   "metadata": {},
   "source": [
    "# Исследование параметров, влияющих на рыночную стоимость жилья в СанктПетерберге\n",
    "\n",
    "Исследование основано на данных сервиса Яндекс.Недвижимость о жилых объектах Санкт-Петербурга и соседних населенных пунктов, выставленных на продажу через объявления на сервисе в период с 2015 по 2019 год.\n",
    "\n",
    "**Цель исследования:**\n",
    "\n",
    "Установить параметры, влияющие на рыночную стоимость объектов недвижимости.\n",
    "\n",
    "Результаты исследования будут использоваться при создании автоматизированной системы выявления аномалий и мошеннической деятельности.\n"
   ]
  },
  {
   "cell_type": "markdown",
   "metadata": {
    "toc": true
   },
   "source": [
    "<h1>Ход исследования<span class=\"tocSkip\"></span></h1>\n",
    "<div class=\"toc\"><ul class=\"toc-item\"><li><span><a href=\"#Изучение-данных-и-изменение-типа-данных\" data-toc-modified-id=\"Изучение-данных-и-изменение-типа-данных-1\"><span class=\"toc-item-num\">1&nbsp;&nbsp;</span>Изучение данных и изменение типа данных</a></span><ul class=\"toc-item\"><li><span><a href=\"#Вывод\" data-toc-modified-id=\"Вывод-1.1\"><span class=\"toc-item-num\">1.1&nbsp;&nbsp;</span>Вывод</a></span></li></ul></li><li><span><a href=\"#Предобработка-данных:-изучение-и-удаление-пропусков\" data-toc-modified-id=\"Предобработка-данных:-изучение-и-удаление-пропусков-2\"><span class=\"toc-item-num\">2&nbsp;&nbsp;</span>Предобработка данных: изучение и удаление пропусков</a></span><ul class=\"toc-item\"><li><span><a href=\"#Вывод\" data-toc-modified-id=\"Вывод-2.1\"><span class=\"toc-item-num\">2.1&nbsp;&nbsp;</span>Вывод</a></span></li></ul></li><li><span><a href=\"#Расчёты-и-добавление-результатов-в-таблицу\" data-toc-modified-id=\"Расчёты-и-добавление-результатов-в-таблицу-3\"><span class=\"toc-item-num\">3&nbsp;&nbsp;</span>Расчёты и добавление результатов в таблицу</a></span><ul class=\"toc-item\"><li><span><a href=\"#Цена-за-квадратный-метр\" data-toc-modified-id=\"Цена-за-квадратный-метр-3.1\"><span class=\"toc-item-num\">3.1&nbsp;&nbsp;</span>Цена за квадратный метр</a></span></li><li><span><a href=\"#День-недели,-месяц-и-год-публикации\" data-toc-modified-id=\"День-недели,-месяц-и-год-публикации-3.2\"><span class=\"toc-item-num\">3.2&nbsp;&nbsp;</span>День недели, месяц и год публикации</a></span></li><li><span><a href=\"#Категории-этажности\" data-toc-modified-id=\"Категории-этажности-3.3\"><span class=\"toc-item-num\">3.3&nbsp;&nbsp;</span>Категории этажности</a></span></li><li><span><a href=\"#Соотношение-площадей\" data-toc-modified-id=\"Соотношение-площадей-3.4\"><span class=\"toc-item-num\">3.4&nbsp;&nbsp;</span>Соотношение площадей</a></span></li><li><span><a href=\"#Вывод\" data-toc-modified-id=\"Вывод-3.5\"><span class=\"toc-item-num\">3.5&nbsp;&nbsp;</span>Вывод</a></span></li></ul></li><li><span><a href=\"#Исследовательский-анализ-данных\" data-toc-modified-id=\"Исследовательский-анализ-данных-4\"><span class=\"toc-item-num\">4&nbsp;&nbsp;</span>Исследовательский анализ данных</a></span><ul class=\"toc-item\"><li><span><a href=\"#Обшая-площадь\" data-toc-modified-id=\"Обшая-площадь-4.1\"><span class=\"toc-item-num\">4.1&nbsp;&nbsp;</span>Обшая площадь</a></span></li><li><span><a href=\"#Цена-квартиры\" data-toc-modified-id=\"Цена-квартиры-4.2\"><span class=\"toc-item-num\">4.2&nbsp;&nbsp;</span>Цена квартиры</a></span></li><li><span><a href=\"#Число-комнат\" data-toc-modified-id=\"Число-комнат-4.3\"><span class=\"toc-item-num\">4.3&nbsp;&nbsp;</span>Число комнат</a></span></li><li><span><a href=\"#Высота-потолков\" data-toc-modified-id=\"Высота-потолков-4.4\"><span class=\"toc-item-num\">4.4&nbsp;&nbsp;</span>Высота потолков</a></span></li><li><span><a href=\"#Время-экспозиции\" data-toc-modified-id=\"Время-экспозиции-4.5\"><span class=\"toc-item-num\">4.5&nbsp;&nbsp;</span>Время экспозиции</a></span></li><li><span><a href=\"#Вывод\" data-toc-modified-id=\"Вывод-4.6\"><span class=\"toc-item-num\">4.6&nbsp;&nbsp;</span>Вывод</a></span></li></ul></li><li><span><a href=\"#Факторы,-влияющие-на-стоимость-жилья\" data-toc-modified-id=\"Факторы,-влияющие-на-стоимость-жилья-5\"><span class=\"toc-item-num\">5&nbsp;&nbsp;</span>Факторы, влияющие на стоимость жилья</a></span><ul class=\"toc-item\"><li><span><a href=\"#Зависимость-цены-объекта-от-общей-площади-квартиры\" data-toc-modified-id=\"Зависимость-цены-объекта-от-общей-площади-квартиры-5.1\"><span class=\"toc-item-num\">5.1&nbsp;&nbsp;</span>Зависимость цены объекта от общей площади квартиры</a></span></li><li><span><a href=\"#Зависимость-цены-от-этажа\" data-toc-modified-id=\"Зависимость-цены-от-этажа-5.2\"><span class=\"toc-item-num\">5.2&nbsp;&nbsp;</span>Зависимость цены от этажа</a></span></li><li><span><a href=\"#Взаимосвязь-количества-комнат-и-цены-на-объект\" data-toc-modified-id=\"Взаимосвязь-количества-комнат-и-цены-на-объект-5.3\"><span class=\"toc-item-num\">5.3&nbsp;&nbsp;</span>Взаимосвязь количества комнат и цены на объект</a></span></li><li><span><a href=\"#Зависимость-цены-от-даты-размещения:-дня-недели,-месяца-и-года\" data-toc-modified-id=\"Зависимость-цены-от-даты-размещения:-дня-недели,-месяца-и-года-5.4\"><span class=\"toc-item-num\">5.4&nbsp;&nbsp;</span>Зависимость цены от даты размещения: дня недели, месяца и года</a></span></li><li><span><a href=\"#Населенный-пункт-и-удаленность-от-центра\" data-toc-modified-id=\"Населенный-пункт-и-удаленность-от-центра-5.5\"><span class=\"toc-item-num\">5.5&nbsp;&nbsp;</span>Населенный пункт и удаленность от центра</a></span></li><li><span><a href=\"#Вывод\" data-toc-modified-id=\"Вывод-5.6\"><span class=\"toc-item-num\">5.6&nbsp;&nbsp;</span>Вывод</a></span></li></ul></li><li><span><a href=\"#Общий-вывод\" data-toc-modified-id=\"Общий-вывод-6\"><span class=\"toc-item-num\">6&nbsp;&nbsp;</span>Общий вывод</a></span><ul class=\"toc-item\"><li><span><a href=\"#Рекомендации:\" data-toc-modified-id=\"Рекомендации:-6.1\"><span class=\"toc-item-num\">6.1&nbsp;&nbsp;</span>Рекомендации:</a></span></li></ul></li>"
   ]
  },
  {
   "cell_type": "markdown",
   "metadata": {},
   "source": [
    "## Изучение данных и изменение типа данных"
   ]
  },
  {
   "cell_type": "code",
   "execution_count": 1,
   "metadata": {},
   "outputs": [],
   "source": [
    "import pandas as pd\n",
    "import matplotlib.pyplot as plt\n",
    "\n",
    "pd.set_option('display.float_format', lambda x: '%.3f' % x)"
   ]
  },
  {
   "cell_type": "code",
   "execution_count": 2,
   "metadata": {},
   "outputs": [],
   "source": [
    "data=pd.read_csv('/datasets/real_estate_data.csv', sep='\\t', decimal=',')"
   ]
  },
  {
   "cell_type": "code",
   "execution_count": 3,
   "metadata": {},
   "outputs": [
    {
     "data": {
      "text/html": [
       "<div>\n",
       "<style scoped>\n",
       "    .dataframe tbody tr th:only-of-type {\n",
       "        vertical-align: middle;\n",
       "    }\n",
       "\n",
       "    .dataframe tbody tr th {\n",
       "        vertical-align: top;\n",
       "    }\n",
       "\n",
       "    .dataframe thead th {\n",
       "        text-align: right;\n",
       "    }\n",
       "</style>\n",
       "<table border=\"1\" class=\"dataframe\">\n",
       "  <thead>\n",
       "    <tr style=\"text-align: right;\">\n",
       "      <th></th>\n",
       "      <th>total_images</th>\n",
       "      <th>last_price</th>\n",
       "      <th>total_area</th>\n",
       "      <th>first_day_exposition</th>\n",
       "      <th>rooms</th>\n",
       "      <th>ceiling_height</th>\n",
       "      <th>floors_total</th>\n",
       "      <th>living_area</th>\n",
       "      <th>floor</th>\n",
       "      <th>is_apartment</th>\n",
       "      <th>...</th>\n",
       "      <th>kitchen_area</th>\n",
       "      <th>balcony</th>\n",
       "      <th>locality_name</th>\n",
       "      <th>airports_nearest</th>\n",
       "      <th>cityCenters_nearest</th>\n",
       "      <th>parks_around3000</th>\n",
       "      <th>parks_nearest</th>\n",
       "      <th>ponds_around3000</th>\n",
       "      <th>ponds_nearest</th>\n",
       "      <th>days_exposition</th>\n",
       "    </tr>\n",
       "  </thead>\n",
       "  <tbody>\n",
       "    <tr>\n",
       "      <td>7944</td>\n",
       "      <td>14</td>\n",
       "      <td>2990000.0</td>\n",
       "      <td>35.0</td>\n",
       "      <td>2019-03-29T00:00:00</td>\n",
       "      <td>1</td>\n",
       "      <td>NaN</td>\n",
       "      <td>17.0</td>\n",
       "      <td>16.0</td>\n",
       "      <td>10</td>\n",
       "      <td>NaN</td>\n",
       "      <td>...</td>\n",
       "      <td>9.0</td>\n",
       "      <td>NaN</td>\n",
       "      <td>Мурино</td>\n",
       "      <td>NaN</td>\n",
       "      <td>NaN</td>\n",
       "      <td>NaN</td>\n",
       "      <td>NaN</td>\n",
       "      <td>NaN</td>\n",
       "      <td>NaN</td>\n",
       "      <td>NaN</td>\n",
       "    </tr>\n",
       "    <tr>\n",
       "      <td>7539</td>\n",
       "      <td>8</td>\n",
       "      <td>3790000.0</td>\n",
       "      <td>33.0</td>\n",
       "      <td>2018-12-18T00:00:00</td>\n",
       "      <td>1</td>\n",
       "      <td>2.5</td>\n",
       "      <td>7.0</td>\n",
       "      <td>18.0</td>\n",
       "      <td>2</td>\n",
       "      <td>NaN</td>\n",
       "      <td>...</td>\n",
       "      <td>5.6</td>\n",
       "      <td>NaN</td>\n",
       "      <td>Санкт-Петербург</td>\n",
       "      <td>27455.0</td>\n",
       "      <td>8621.0</td>\n",
       "      <td>1.0</td>\n",
       "      <td>217.0</td>\n",
       "      <td>0.0</td>\n",
       "      <td>NaN</td>\n",
       "      <td>90.00000000000001</td>\n",
       "    </tr>\n",
       "    <tr>\n",
       "      <td>9889</td>\n",
       "      <td>1</td>\n",
       "      <td>12990000.0</td>\n",
       "      <td>191.0</td>\n",
       "      <td>2017-08-31T00:00:00</td>\n",
       "      <td>7</td>\n",
       "      <td>3.3</td>\n",
       "      <td>5.0</td>\n",
       "      <td>136.1</td>\n",
       "      <td>2</td>\n",
       "      <td>NaN</td>\n",
       "      <td>...</td>\n",
       "      <td>16.0</td>\n",
       "      <td>0.0</td>\n",
       "      <td>Санкт-Петербург</td>\n",
       "      <td>26856.0</td>\n",
       "      <td>5704.0</td>\n",
       "      <td>0.0</td>\n",
       "      <td>NaN</td>\n",
       "      <td>1.0</td>\n",
       "      <td>1017.0</td>\n",
       "      <td>77.0</td>\n",
       "    </tr>\n",
       "    <tr>\n",
       "      <td>649</td>\n",
       "      <td>1</td>\n",
       "      <td>7210000.0</td>\n",
       "      <td>61.5</td>\n",
       "      <td>2018-10-02T00:00:00</td>\n",
       "      <td>3</td>\n",
       "      <td>2.92</td>\n",
       "      <td>5.0</td>\n",
       "      <td>43.2</td>\n",
       "      <td>4</td>\n",
       "      <td>NaN</td>\n",
       "      <td>...</td>\n",
       "      <td>5.7</td>\n",
       "      <td>1.0</td>\n",
       "      <td>Санкт-Петербург</td>\n",
       "      <td>25407.0</td>\n",
       "      <td>3982.0</td>\n",
       "      <td>1.0</td>\n",
       "      <td>483.0</td>\n",
       "      <td>0.0</td>\n",
       "      <td>NaN</td>\n",
       "      <td>89.00000000000001</td>\n",
       "    </tr>\n",
       "    <tr>\n",
       "      <td>13768</td>\n",
       "      <td>10</td>\n",
       "      <td>550000.0</td>\n",
       "      <td>36.0</td>\n",
       "      <td>2017-08-22T00:00:00</td>\n",
       "      <td>1</td>\n",
       "      <td>NaN</td>\n",
       "      <td>2.0</td>\n",
       "      <td>20.0</td>\n",
       "      <td>1</td>\n",
       "      <td>NaN</td>\n",
       "      <td>...</td>\n",
       "      <td>8.0</td>\n",
       "      <td>0.0</td>\n",
       "      <td>Сланцы</td>\n",
       "      <td>NaN</td>\n",
       "      <td>NaN</td>\n",
       "      <td>NaN</td>\n",
       "      <td>NaN</td>\n",
       "      <td>NaN</td>\n",
       "      <td>NaN</td>\n",
       "      <td>92.0</td>\n",
       "    </tr>\n",
       "    <tr>\n",
       "      <td>12927</td>\n",
       "      <td>6</td>\n",
       "      <td>5800000.0</td>\n",
       "      <td>52.3</td>\n",
       "      <td>2017-06-12T00:00:00</td>\n",
       "      <td>2</td>\n",
       "      <td>NaN</td>\n",
       "      <td>12.0</td>\n",
       "      <td>30.5</td>\n",
       "      <td>8</td>\n",
       "      <td>NaN</td>\n",
       "      <td>...</td>\n",
       "      <td>10.3</td>\n",
       "      <td>0.0</td>\n",
       "      <td>Санкт-Петербург</td>\n",
       "      <td>36811.0</td>\n",
       "      <td>9487.0</td>\n",
       "      <td>1.0</td>\n",
       "      <td>307.0</td>\n",
       "      <td>0.0</td>\n",
       "      <td>NaN</td>\n",
       "      <td>17.0</td>\n",
       "    </tr>\n",
       "    <tr>\n",
       "      <td>4449</td>\n",
       "      <td>13</td>\n",
       "      <td>4400000.0</td>\n",
       "      <td>62.0</td>\n",
       "      <td>2017-11-16T00:00:00</td>\n",
       "      <td>2</td>\n",
       "      <td>NaN</td>\n",
       "      <td>12.0</td>\n",
       "      <td>33.0</td>\n",
       "      <td>4</td>\n",
       "      <td>NaN</td>\n",
       "      <td>...</td>\n",
       "      <td>14.0</td>\n",
       "      <td>NaN</td>\n",
       "      <td>Санкт-Петербург</td>\n",
       "      <td>31481.0</td>\n",
       "      <td>12074.0</td>\n",
       "      <td>0.0</td>\n",
       "      <td>NaN</td>\n",
       "      <td>0.0</td>\n",
       "      <td>NaN</td>\n",
       "      <td>68.0</td>\n",
       "    </tr>\n",
       "    <tr>\n",
       "      <td>16651</td>\n",
       "      <td>11</td>\n",
       "      <td>5550000.0</td>\n",
       "      <td>64.5</td>\n",
       "      <td>2016-09-21T00:00:00</td>\n",
       "      <td>3</td>\n",
       "      <td>NaN</td>\n",
       "      <td>9.0</td>\n",
       "      <td>39.0</td>\n",
       "      <td>7</td>\n",
       "      <td>NaN</td>\n",
       "      <td>...</td>\n",
       "      <td>8.0</td>\n",
       "      <td>0.0</td>\n",
       "      <td>Санкт-Петербург</td>\n",
       "      <td>18870.0</td>\n",
       "      <td>13679.0</td>\n",
       "      <td>1.0</td>\n",
       "      <td>492.0</td>\n",
       "      <td>0.0</td>\n",
       "      <td>NaN</td>\n",
       "      <td>362.00000000000006</td>\n",
       "    </tr>\n",
       "    <tr>\n",
       "      <td>4771</td>\n",
       "      <td>12</td>\n",
       "      <td>9990000.0</td>\n",
       "      <td>117.1</td>\n",
       "      <td>2015-07-09T00:00:00</td>\n",
       "      <td>5</td>\n",
       "      <td>NaN</td>\n",
       "      <td>4.0</td>\n",
       "      <td>NaN</td>\n",
       "      <td>4</td>\n",
       "      <td>NaN</td>\n",
       "      <td>...</td>\n",
       "      <td>NaN</td>\n",
       "      <td>NaN</td>\n",
       "      <td>Санкт-Петербург</td>\n",
       "      <td>21465.0</td>\n",
       "      <td>1404.0</td>\n",
       "      <td>1.0</td>\n",
       "      <td>378.0</td>\n",
       "      <td>2.0</td>\n",
       "      <td>103.0</td>\n",
       "      <td>946.0</td>\n",
       "    </tr>\n",
       "    <tr>\n",
       "      <td>12731</td>\n",
       "      <td>20</td>\n",
       "      <td>5350000.0</td>\n",
       "      <td>65.2</td>\n",
       "      <td>2018-10-11T00:00:00</td>\n",
       "      <td>3</td>\n",
       "      <td>NaN</td>\n",
       "      <td>9.0</td>\n",
       "      <td>40.0</td>\n",
       "      <td>4</td>\n",
       "      <td>NaN</td>\n",
       "      <td>...</td>\n",
       "      <td>8.5</td>\n",
       "      <td>NaN</td>\n",
       "      <td>Сосновый Бор</td>\n",
       "      <td>NaN</td>\n",
       "      <td>NaN</td>\n",
       "      <td>NaN</td>\n",
       "      <td>NaN</td>\n",
       "      <td>NaN</td>\n",
       "      <td>NaN</td>\n",
       "      <td>186.00000000000003</td>\n",
       "    </tr>\n",
       "  </tbody>\n",
       "</table>\n",
       "<p>10 rows × 22 columns</p>\n",
       "</div>"
      ],
      "text/plain": [
       "       total_images  last_price total_area first_day_exposition  rooms  \\\n",
       "7944             14   2990000.0       35.0  2019-03-29T00:00:00      1   \n",
       "7539              8   3790000.0       33.0  2018-12-18T00:00:00      1   \n",
       "9889              1  12990000.0      191.0  2017-08-31T00:00:00      7   \n",
       "649               1   7210000.0       61.5  2018-10-02T00:00:00      3   \n",
       "13768            10    550000.0       36.0  2017-08-22T00:00:00      1   \n",
       "12927             6   5800000.0       52.3  2017-06-12T00:00:00      2   \n",
       "4449             13   4400000.0       62.0  2017-11-16T00:00:00      2   \n",
       "16651            11   5550000.0       64.5  2016-09-21T00:00:00      3   \n",
       "4771             12   9990000.0      117.1  2015-07-09T00:00:00      5   \n",
       "12731            20   5350000.0       65.2  2018-10-11T00:00:00      3   \n",
       "\n",
       "      ceiling_height floors_total living_area  floor is_apartment  ...  \\\n",
       "7944             NaN         17.0        16.0     10          NaN  ...   \n",
       "7539             2.5          7.0        18.0      2          NaN  ...   \n",
       "9889             3.3          5.0       136.1      2          NaN  ...   \n",
       "649             2.92          5.0        43.2      4          NaN  ...   \n",
       "13768            NaN          2.0        20.0      1          NaN  ...   \n",
       "12927            NaN         12.0        30.5      8          NaN  ...   \n",
       "4449             NaN         12.0        33.0      4          NaN  ...   \n",
       "16651            NaN          9.0        39.0      7          NaN  ...   \n",
       "4771             NaN          4.0         NaN      4          NaN  ...   \n",
       "12731            NaN          9.0        40.0      4          NaN  ...   \n",
       "\n",
       "       kitchen_area  balcony    locality_name airports_nearest  \\\n",
       "7944            9.0      NaN           Мурино              NaN   \n",
       "7539            5.6      NaN  Санкт-Петербург          27455.0   \n",
       "9889           16.0      0.0  Санкт-Петербург          26856.0   \n",
       "649             5.7      1.0  Санкт-Петербург          25407.0   \n",
       "13768           8.0      0.0           Сланцы              NaN   \n",
       "12927          10.3      0.0  Санкт-Петербург          36811.0   \n",
       "4449           14.0      NaN  Санкт-Петербург          31481.0   \n",
       "16651           8.0      0.0  Санкт-Петербург          18870.0   \n",
       "4771            NaN      NaN  Санкт-Петербург          21465.0   \n",
       "12731           8.5      NaN     Сосновый Бор              NaN   \n",
       "\n",
       "      cityCenters_nearest parks_around3000 parks_nearest ponds_around3000  \\\n",
       "7944                  NaN              NaN           NaN              NaN   \n",
       "7539               8621.0              1.0         217.0              0.0   \n",
       "9889               5704.0              0.0           NaN              1.0   \n",
       "649                3982.0              1.0         483.0              0.0   \n",
       "13768                 NaN              NaN           NaN              NaN   \n",
       "12927              9487.0              1.0         307.0              0.0   \n",
       "4449              12074.0              0.0           NaN              0.0   \n",
       "16651             13679.0              1.0         492.0              0.0   \n",
       "4771               1404.0              1.0         378.0              2.0   \n",
       "12731                 NaN              NaN           NaN              NaN   \n",
       "\n",
       "      ponds_nearest     days_exposition  \n",
       "7944            NaN                 NaN  \n",
       "7539            NaN   90.00000000000001  \n",
       "9889         1017.0                77.0  \n",
       "649             NaN   89.00000000000001  \n",
       "13768           NaN                92.0  \n",
       "12927           NaN                17.0  \n",
       "4449            NaN                68.0  \n",
       "16651           NaN  362.00000000000006  \n",
       "4771          103.0               946.0  \n",
       "12731           NaN  186.00000000000003  \n",
       "\n",
       "[10 rows x 22 columns]"
      ]
     },
     "execution_count": 3,
     "metadata": {},
     "output_type": "execute_result"
    }
   ],
   "source": [
    "data.sample(10, random_state=42)"
   ]
  },
  {
   "cell_type": "code",
   "execution_count": 4,
   "metadata": {},
   "outputs": [
    {
     "name": "stdout",
     "output_type": "stream",
     "text": [
      "<class 'pandas.core.frame.DataFrame'>\n",
      "RangeIndex: 23699 entries, 0 to 23698\n",
      "Data columns (total 22 columns):\n",
      "total_images            23699 non-null int64\n",
      "last_price              23699 non-null object\n",
      "total_area              23699 non-null object\n",
      "first_day_exposition    23699 non-null object\n",
      "rooms                   23699 non-null int64\n",
      "ceiling_height          14504 non-null object\n",
      "floors_total            23613 non-null object\n",
      "living_area             21796 non-null object\n",
      "floor                   23699 non-null int64\n",
      "is_apartment            2775 non-null object\n",
      "studio                  23699 non-null bool\n",
      "open_plan               23699 non-null bool\n",
      "kitchen_area            21421 non-null object\n",
      "balcony                 12180 non-null object\n",
      "locality_name           23650 non-null object\n",
      "airports_nearest        18157 non-null object\n",
      "cityCenters_nearest     18180 non-null object\n",
      "parks_around3000        18181 non-null object\n",
      "parks_nearest           8079 non-null object\n",
      "ponds_around3000        18181 non-null object\n",
      "ponds_nearest           9110 non-null object\n",
      "days_exposition         20518 non-null object\n",
      "dtypes: bool(2), int64(3), object(17)\n",
      "memory usage: 3.7+ MB\n"
     ]
    }
   ],
   "source": [
    "data.info()"
   ]
  },
  {
   "cell_type": "markdown",
   "metadata": {},
   "source": [
    "Согласно исходной документации, часть data – данные, заполненные пользователем, часть (параметры, связанные с локацией и картографией) – автоматически сформированные столбцы (airports_nearest, cityCenters_nearest, parks_around3000, parks_nearest, ponds_around3000, ponds_nearest)."
   ]
  },
  {
   "cell_type": "markdown",
   "metadata": {},
   "source": [
    "Многие столбцы с числовыми значениями имеют тип object, что не позволит получить объективное представление о данных, поэтому для дальнейшего изучения датасета считаю необходимым изменить тип данных в ряде колонок на этом этапе."
   ]
  },
  {
   "cell_type": "markdown",
   "metadata": {},
   "source": [
    "**Изменение типа данных**\n",
    "\n",
    "Колонка is_apartment, согласно документации и здравому смыслу,должна иметь булевый тип значений. На данный момент она имеет тип object и отображает значения некорректно. Заменим тип для этого параметра."
   ]
  },
  {
   "cell_type": "code",
   "execution_count": 5,
   "metadata": {},
   "outputs": [],
   "source": [
    "data['is_apartment']=data['is_apartment'].astype('bool')"
   ]
  },
  {
   "cell_type": "markdown",
   "metadata": {},
   "source": [
    "Большинство значений в нашем датасете имеет числовое выражение, однако самый частый тип - object. Заменим тип данные для всех столбцов, где это возможно."
   ]
  },
  {
   "cell_type": "code",
   "execution_count": 6,
   "metadata": {},
   "outputs": [],
   "source": [
    "data=data.apply(pd.to_numeric, errors='ignore')"
   ]
  },
  {
   "cell_type": "markdown",
   "metadata": {},
   "source": [
    "Еще один тип значений - значения времени и даты. Приведем эту колонку к типу datetime, чтобы иметь возможность более эффективно работать с ним далее."
   ]
  },
  {
   "cell_type": "code",
   "execution_count": 7,
   "metadata": {},
   "outputs": [
    {
     "name": "stdout",
     "output_type": "stream",
     "text": [
      "<class 'pandas.core.frame.DataFrame'>\n",
      "RangeIndex: 23699 entries, 0 to 23698\n",
      "Data columns (total 22 columns):\n",
      "total_images            23699 non-null int64\n",
      "last_price              23699 non-null float64\n",
      "total_area              23699 non-null float64\n",
      "first_day_exposition    23699 non-null datetime64[ns]\n",
      "rooms                   23699 non-null int64\n",
      "ceiling_height          14504 non-null float64\n",
      "floors_total            23613 non-null float64\n",
      "living_area             21796 non-null float64\n",
      "floor                   23699 non-null int64\n",
      "is_apartment            23699 non-null bool\n",
      "studio                  23699 non-null bool\n",
      "open_plan               23699 non-null bool\n",
      "kitchen_area            21421 non-null float64\n",
      "balcony                 12180 non-null float64\n",
      "locality_name           23650 non-null object\n",
      "airports_nearest        18157 non-null float64\n",
      "cityCenters_nearest     18180 non-null float64\n",
      "parks_around3000        18181 non-null float64\n",
      "parks_nearest           8079 non-null float64\n",
      "ponds_around3000        18181 non-null float64\n",
      "ponds_nearest           9110 non-null float64\n",
      "days_exposition         20518 non-null float64\n",
      "dtypes: bool(3), datetime64[ns](1), float64(14), int64(3), object(1)\n",
      "memory usage: 3.5+ MB\n"
     ]
    }
   ],
   "source": [
    "data['first_day_exposition'] = pd.to_datetime(data['first_day_exposition'], format='%Y-%m-%dT%H:%M:%S')\n",
    "data.info()"
   ]
  },
  {
   "cell_type": "markdown",
   "metadata": {},
   "source": [
    "В таком виде мы сможем получить более наглядные числовые показатели датасета"
   ]
  },
  {
   "cell_type": "code",
   "execution_count": 8,
   "metadata": {},
   "outputs": [
    {
     "data": {
      "text/html": [
       "<div>\n",
       "<style scoped>\n",
       "    .dataframe tbody tr th:only-of-type {\n",
       "        vertical-align: middle;\n",
       "    }\n",
       "\n",
       "    .dataframe tbody tr th {\n",
       "        vertical-align: top;\n",
       "    }\n",
       "\n",
       "    .dataframe thead th {\n",
       "        text-align: right;\n",
       "    }\n",
       "</style>\n",
       "<table border=\"1\" class=\"dataframe\">\n",
       "  <thead>\n",
       "    <tr style=\"text-align: right;\">\n",
       "      <th></th>\n",
       "      <th>total_images</th>\n",
       "      <th>last_price</th>\n",
       "      <th>total_area</th>\n",
       "      <th>rooms</th>\n",
       "      <th>ceiling_height</th>\n",
       "      <th>floors_total</th>\n",
       "      <th>living_area</th>\n",
       "      <th>floor</th>\n",
       "      <th>kitchen_area</th>\n",
       "      <th>balcony</th>\n",
       "      <th>airports_nearest</th>\n",
       "      <th>cityCenters_nearest</th>\n",
       "      <th>parks_around3000</th>\n",
       "      <th>parks_nearest</th>\n",
       "      <th>ponds_around3000</th>\n",
       "      <th>ponds_nearest</th>\n",
       "      <th>days_exposition</th>\n",
       "    </tr>\n",
       "  </thead>\n",
       "  <tbody>\n",
       "    <tr>\n",
       "      <td>count</td>\n",
       "      <td>23699.000</td>\n",
       "      <td>23699.000</td>\n",
       "      <td>23699.000</td>\n",
       "      <td>23699.000</td>\n",
       "      <td>14504.000</td>\n",
       "      <td>23613.000</td>\n",
       "      <td>21796.000</td>\n",
       "      <td>23699.000</td>\n",
       "      <td>21421.000</td>\n",
       "      <td>12180.000</td>\n",
       "      <td>18157.000</td>\n",
       "      <td>18180.000</td>\n",
       "      <td>18181.000</td>\n",
       "      <td>8079.000</td>\n",
       "      <td>18181.000</td>\n",
       "      <td>9110.000</td>\n",
       "      <td>20518.000</td>\n",
       "    </tr>\n",
       "    <tr>\n",
       "      <td>mean</td>\n",
       "      <td>9.858</td>\n",
       "      <td>6541548.772</td>\n",
       "      <td>60.349</td>\n",
       "      <td>2.071</td>\n",
       "      <td>2.771</td>\n",
       "      <td>10.674</td>\n",
       "      <td>34.458</td>\n",
       "      <td>5.892</td>\n",
       "      <td>10.570</td>\n",
       "      <td>1.150</td>\n",
       "      <td>28793.672</td>\n",
       "      <td>14191.278</td>\n",
       "      <td>0.611</td>\n",
       "      <td>490.805</td>\n",
       "      <td>0.770</td>\n",
       "      <td>517.981</td>\n",
       "      <td>180.889</td>\n",
       "    </tr>\n",
       "    <tr>\n",
       "      <td>std</td>\n",
       "      <td>5.683</td>\n",
       "      <td>10887013.268</td>\n",
       "      <td>35.654</td>\n",
       "      <td>1.078</td>\n",
       "      <td>1.261</td>\n",
       "      <td>6.597</td>\n",
       "      <td>22.030</td>\n",
       "      <td>4.885</td>\n",
       "      <td>5.905</td>\n",
       "      <td>1.071</td>\n",
       "      <td>12630.881</td>\n",
       "      <td>8608.386</td>\n",
       "      <td>0.802</td>\n",
       "      <td>342.318</td>\n",
       "      <td>0.938</td>\n",
       "      <td>277.721</td>\n",
       "      <td>219.728</td>\n",
       "    </tr>\n",
       "    <tr>\n",
       "      <td>min</td>\n",
       "      <td>0.000</td>\n",
       "      <td>12190.000</td>\n",
       "      <td>12.000</td>\n",
       "      <td>0.000</td>\n",
       "      <td>1.000</td>\n",
       "      <td>1.000</td>\n",
       "      <td>2.000</td>\n",
       "      <td>1.000</td>\n",
       "      <td>1.300</td>\n",
       "      <td>0.000</td>\n",
       "      <td>0.000</td>\n",
       "      <td>181.000</td>\n",
       "      <td>0.000</td>\n",
       "      <td>1.000</td>\n",
       "      <td>0.000</td>\n",
       "      <td>13.000</td>\n",
       "      <td>1.000</td>\n",
       "    </tr>\n",
       "    <tr>\n",
       "      <td>25%</td>\n",
       "      <td>6.000</td>\n",
       "      <td>3400000.000</td>\n",
       "      <td>40.000</td>\n",
       "      <td>1.000</td>\n",
       "      <td>2.520</td>\n",
       "      <td>5.000</td>\n",
       "      <td>18.600</td>\n",
       "      <td>2.000</td>\n",
       "      <td>7.000</td>\n",
       "      <td>0.000</td>\n",
       "      <td>18585.000</td>\n",
       "      <td>9238.000</td>\n",
       "      <td>0.000</td>\n",
       "      <td>288.000</td>\n",
       "      <td>0.000</td>\n",
       "      <td>294.000</td>\n",
       "      <td>45.000</td>\n",
       "    </tr>\n",
       "    <tr>\n",
       "      <td>50%</td>\n",
       "      <td>9.000</td>\n",
       "      <td>4650000.000</td>\n",
       "      <td>52.000</td>\n",
       "      <td>2.000</td>\n",
       "      <td>2.650</td>\n",
       "      <td>9.000</td>\n",
       "      <td>30.000</td>\n",
       "      <td>4.000</td>\n",
       "      <td>9.100</td>\n",
       "      <td>1.000</td>\n",
       "      <td>26726.000</td>\n",
       "      <td>13098.500</td>\n",
       "      <td>0.000</td>\n",
       "      <td>455.000</td>\n",
       "      <td>1.000</td>\n",
       "      <td>502.000</td>\n",
       "      <td>95.000</td>\n",
       "    </tr>\n",
       "    <tr>\n",
       "      <td>75%</td>\n",
       "      <td>14.000</td>\n",
       "      <td>6800000.000</td>\n",
       "      <td>69.900</td>\n",
       "      <td>3.000</td>\n",
       "      <td>2.800</td>\n",
       "      <td>16.000</td>\n",
       "      <td>42.300</td>\n",
       "      <td>8.000</td>\n",
       "      <td>12.000</td>\n",
       "      <td>2.000</td>\n",
       "      <td>37273.000</td>\n",
       "      <td>16293.000</td>\n",
       "      <td>1.000</td>\n",
       "      <td>612.000</td>\n",
       "      <td>1.000</td>\n",
       "      <td>729.000</td>\n",
       "      <td>232.000</td>\n",
       "    </tr>\n",
       "    <tr>\n",
       "      <td>max</td>\n",
       "      <td>50.000</td>\n",
       "      <td>763000000.000</td>\n",
       "      <td>900.000</td>\n",
       "      <td>19.000</td>\n",
       "      <td>100.000</td>\n",
       "      <td>60.000</td>\n",
       "      <td>409.700</td>\n",
       "      <td>33.000</td>\n",
       "      <td>112.000</td>\n",
       "      <td>5.000</td>\n",
       "      <td>84869.000</td>\n",
       "      <td>65968.000</td>\n",
       "      <td>3.000</td>\n",
       "      <td>3190.000</td>\n",
       "      <td>3.000</td>\n",
       "      <td>1344.000</td>\n",
       "      <td>1580.000</td>\n",
       "    </tr>\n",
       "  </tbody>\n",
       "</table>\n",
       "</div>"
      ],
      "text/plain": [
       "       total_images    last_price  total_area     rooms  ceiling_height  \\\n",
       "count     23699.000     23699.000   23699.000 23699.000       14504.000   \n",
       "mean          9.858   6541548.772      60.349     2.071           2.771   \n",
       "std           5.683  10887013.268      35.654     1.078           1.261   \n",
       "min           0.000     12190.000      12.000     0.000           1.000   \n",
       "25%           6.000   3400000.000      40.000     1.000           2.520   \n",
       "50%           9.000   4650000.000      52.000     2.000           2.650   \n",
       "75%          14.000   6800000.000      69.900     3.000           2.800   \n",
       "max          50.000 763000000.000     900.000    19.000         100.000   \n",
       "\n",
       "       floors_total  living_area     floor  kitchen_area   balcony  \\\n",
       "count     23613.000    21796.000 23699.000     21421.000 12180.000   \n",
       "mean         10.674       34.458     5.892        10.570     1.150   \n",
       "std           6.597       22.030     4.885         5.905     1.071   \n",
       "min           1.000        2.000     1.000         1.300     0.000   \n",
       "25%           5.000       18.600     2.000         7.000     0.000   \n",
       "50%           9.000       30.000     4.000         9.100     1.000   \n",
       "75%          16.000       42.300     8.000        12.000     2.000   \n",
       "max          60.000      409.700    33.000       112.000     5.000   \n",
       "\n",
       "       airports_nearest  cityCenters_nearest  parks_around3000  parks_nearest  \\\n",
       "count         18157.000            18180.000         18181.000       8079.000   \n",
       "mean          28793.672            14191.278             0.611        490.805   \n",
       "std           12630.881             8608.386             0.802        342.318   \n",
       "min               0.000              181.000             0.000          1.000   \n",
       "25%           18585.000             9238.000             0.000        288.000   \n",
       "50%           26726.000            13098.500             0.000        455.000   \n",
       "75%           37273.000            16293.000             1.000        612.000   \n",
       "max           84869.000            65968.000             3.000       3190.000   \n",
       "\n",
       "       ponds_around3000  ponds_nearest  days_exposition  \n",
       "count         18181.000       9110.000        20518.000  \n",
       "mean              0.770        517.981          180.889  \n",
       "std               0.938        277.721          219.728  \n",
       "min               0.000         13.000            1.000  \n",
       "25%               0.000        294.000           45.000  \n",
       "50%               1.000        502.000           95.000  \n",
       "75%               1.000        729.000          232.000  \n",
       "max               3.000       1344.000         1580.000  "
      ]
     },
     "execution_count": 8,
     "metadata": {},
     "output_type": "execute_result"
    }
   ],
   "source": [
    "data.describe()"
   ]
  },
  {
   "cell_type": "markdown",
   "metadata": {},
   "source": [
    "### Вывод"
   ]
  },
  {
   "cell_type": "markdown",
   "metadata": {},
   "source": [
    "В результате изучения датасета и приведения типов данных к наиболее удобным, можно увидеть возможные \"выбросы\" в данных о цене сделки, общей площади, количестве комнат, высоте потолка и других. Чтобы подробнее изучить эти явления необходимо избавиться от пропусков в тех колонках, где это имеет смысл.\n",
    "\n",
    "Есть пропуски в данных о высоте потолка, жилой площади, площади кухонь, наличии балконов, количестве дней экспозиции, а также большой массив пропусков в данных, связанных с локацией объекта. Есть странные значения 0 в столбце с количеством комнат, а также очень маленькие площади объектов в в 12 кв.м. Эти явления необходимо изучить и понять, откуда они взялись, что значят пропуски и как с ними работать."
   ]
  },
  {
   "cell_type": "markdown",
   "metadata": {},
   "source": [
    "## Предобработка данных: изучение и удаление пропусков"
   ]
  },
  {
   "cell_type": "markdown",
   "metadata": {},
   "source": [
    "**Изучим пропуски**"
   ]
  },
  {
   "cell_type": "code",
   "execution_count": 9,
   "metadata": {},
   "outputs": [
    {
     "name": "stdout",
     "output_type": "stream",
     "text": [
      "total_images 0.0\n",
      "last_price 0.0\n",
      "total_area 0.0\n",
      "first_day_exposition 0.0\n",
      "rooms 0.0\n",
      "ceiling_height 0.38799105447487237\n",
      "floors_total 0.0036288450989493226\n",
      "living_area 0.08029874678256467\n",
      "floor 0.0\n",
      "is_apartment 0.0\n",
      "studio 0.0\n",
      "open_plan 0.0\n",
      "kitchen_area 0.09612219924891345\n",
      "balcony 0.4860542638929913\n",
      "locality_name 0.002067597788936242\n",
      "airports_nearest 0.23384952951601334\n",
      "cityCenters_nearest 0.23287902443141062\n",
      "parks_around3000 0.232836828558167\n",
      "parks_nearest 0.6590995400649816\n",
      "ponds_around3000 0.232836828558167\n",
      "ponds_nearest 0.6155955947508334\n",
      "days_exposition 0.13422507278788134\n"
     ]
    }
   ],
   "source": [
    "for column in data.columns:\n",
    "    print(column, data[column].isna().mean())"
   ]
  },
  {
   "cell_type": "markdown",
   "metadata": {},
   "source": [
    "Наибольшее количество пропусков в ceiling_height (более 38%), balcony (48%), данных геолокации и сроках экспонирования. Остальные данные имеют менее 10% пропусков, их можно не заменять, но рассмотреть те из них, которые нам наиболее интересны, и найти их причины стоит."
   ]
  },
  {
   "cell_type": "markdown",
   "metadata": {},
   "source": [
    "**Высота потолка и наличие балконов**\n",
    "\n",
    "Так как в документации сказано, что часть данных, которые не связаны с геолокацией, взяты из информации, которую заполняли сами пользователи, эти данные можно считать \"грязными\". Пропуски в данных высоты потолка, скорее всего, связаны с тем, что пользователи не знали этот параметр или не сочли его важным. Так как основной массив продаваемой недвижимости в Санкт-Петербурге и окрестностях - квартиры в типовых домах, предположим, что и высота потолка в большинстве объектов \"типовая\", поэтому заменим пропуски в ceiling_height медианным значением по всему набору данных."
   ]
  },
  {
   "cell_type": "code",
   "execution_count": 10,
   "metadata": {},
   "outputs": [],
   "source": [
    "data.loc[data['ceiling_height'].isna(), 'ceiling_height'] = data['ceiling_height'].median()"
   ]
  },
  {
   "cell_type": "markdown",
   "metadata": {},
   "source": [
    "Столбец с указанием количества балконов содержит более 48,5% пропусков. Можно предположить, что эти пропуски - не заполненные пользователями значения для объектов, в которых нет балкона, поэтому стоит заменить данные пропуски 0."
   ]
  },
  {
   "cell_type": "code",
   "execution_count": 11,
   "metadata": {},
   "outputs": [],
   "source": [
    "data['balcony']=data['balcony'].fillna(0)"
   ]
  },
  {
   "cell_type": "markdown",
   "metadata": {},
   "source": [
    "**Данные геолокации**\n",
    "\n",
    "Колонки airports_nearest, cityCenters_nearest, parks_around3000, parks_nearest, ponds_around3000, ponds_nearest - данные, которые получены автоматически на основе картографических данных. Все они содержат большое количество пропусков. Стоит изучить эти данные и посмотреть, взаимосвязаны ли эти пропуски."
   ]
  },
  {
   "cell_type": "code",
   "execution_count": 12,
   "metadata": {},
   "outputs": [
    {
     "data": {
      "text/html": [
       "<div>\n",
       "<style scoped>\n",
       "    .dataframe tbody tr th:only-of-type {\n",
       "        vertical-align: middle;\n",
       "    }\n",
       "\n",
       "    .dataframe tbody tr th {\n",
       "        vertical-align: top;\n",
       "    }\n",
       "\n",
       "    .dataframe thead th {\n",
       "        text-align: right;\n",
       "    }\n",
       "</style>\n",
       "<table border=\"1\" class=\"dataframe\">\n",
       "  <thead>\n",
       "    <tr style=\"text-align: right;\">\n",
       "      <th></th>\n",
       "      <th>total_images</th>\n",
       "      <th>last_price</th>\n",
       "      <th>total_area</th>\n",
       "      <th>first_day_exposition</th>\n",
       "      <th>rooms</th>\n",
       "      <th>ceiling_height</th>\n",
       "      <th>floors_total</th>\n",
       "      <th>living_area</th>\n",
       "      <th>floor</th>\n",
       "      <th>is_apartment</th>\n",
       "      <th>...</th>\n",
       "      <th>kitchen_area</th>\n",
       "      <th>balcony</th>\n",
       "      <th>locality_name</th>\n",
       "      <th>airports_nearest</th>\n",
       "      <th>cityCenters_nearest</th>\n",
       "      <th>parks_around3000</th>\n",
       "      <th>parks_nearest</th>\n",
       "      <th>ponds_around3000</th>\n",
       "      <th>ponds_nearest</th>\n",
       "      <th>days_exposition</th>\n",
       "    </tr>\n",
       "  </thead>\n",
       "  <tbody>\n",
       "    <tr>\n",
       "      <td>7031</td>\n",
       "      <td>5</td>\n",
       "      <td>4100000.000</td>\n",
       "      <td>56.400</td>\n",
       "      <td>2018-03-20</td>\n",
       "      <td>2</td>\n",
       "      <td>2.650</td>\n",
       "      <td>11.000</td>\n",
       "      <td>27.800</td>\n",
       "      <td>1</td>\n",
       "      <td>True</td>\n",
       "      <td>...</td>\n",
       "      <td>8.900</td>\n",
       "      <td>0.000</td>\n",
       "      <td>Сосновый Бор</td>\n",
       "      <td>nan</td>\n",
       "      <td>nan</td>\n",
       "      <td>nan</td>\n",
       "      <td>nan</td>\n",
       "      <td>nan</td>\n",
       "      <td>nan</td>\n",
       "      <td>45.000</td>\n",
       "    </tr>\n",
       "    <tr>\n",
       "      <td>18078</td>\n",
       "      <td>9</td>\n",
       "      <td>2900000.000</td>\n",
       "      <td>37.000</td>\n",
       "      <td>2016-05-27</td>\n",
       "      <td>1</td>\n",
       "      <td>2.650</td>\n",
       "      <td>6.000</td>\n",
       "      <td>16.000</td>\n",
       "      <td>6</td>\n",
       "      <td>False</td>\n",
       "      <td>...</td>\n",
       "      <td>13.000</td>\n",
       "      <td>0.000</td>\n",
       "      <td>поселок городского типа Токсово</td>\n",
       "      <td>nan</td>\n",
       "      <td>nan</td>\n",
       "      <td>nan</td>\n",
       "      <td>nan</td>\n",
       "      <td>nan</td>\n",
       "      <td>nan</td>\n",
       "      <td>309.000</td>\n",
       "    </tr>\n",
       "    <tr>\n",
       "      <td>11558</td>\n",
       "      <td>10</td>\n",
       "      <td>2700000.000</td>\n",
       "      <td>61.200</td>\n",
       "      <td>2017-04-26</td>\n",
       "      <td>3</td>\n",
       "      <td>2.650</td>\n",
       "      <td>5.000</td>\n",
       "      <td>39.900</td>\n",
       "      <td>3</td>\n",
       "      <td>True</td>\n",
       "      <td>...</td>\n",
       "      <td>7.400</td>\n",
       "      <td>0.000</td>\n",
       "      <td>поселок Войсковицы</td>\n",
       "      <td>nan</td>\n",
       "      <td>nan</td>\n",
       "      <td>nan</td>\n",
       "      <td>nan</td>\n",
       "      <td>nan</td>\n",
       "      <td>nan</td>\n",
       "      <td>342.000</td>\n",
       "    </tr>\n",
       "    <tr>\n",
       "      <td>23073</td>\n",
       "      <td>11</td>\n",
       "      <td>1450000.000</td>\n",
       "      <td>44.000</td>\n",
       "      <td>2018-02-15</td>\n",
       "      <td>2</td>\n",
       "      <td>2.650</td>\n",
       "      <td>4.000</td>\n",
       "      <td>34.000</td>\n",
       "      <td>1</td>\n",
       "      <td>True</td>\n",
       "      <td>...</td>\n",
       "      <td>6.000</td>\n",
       "      <td>0.000</td>\n",
       "      <td>Волхов</td>\n",
       "      <td>nan</td>\n",
       "      <td>nan</td>\n",
       "      <td>nan</td>\n",
       "      <td>nan</td>\n",
       "      <td>nan</td>\n",
       "      <td>nan</td>\n",
       "      <td>363.000</td>\n",
       "    </tr>\n",
       "    <tr>\n",
       "      <td>8036</td>\n",
       "      <td>6</td>\n",
       "      <td>2880000.000</td>\n",
       "      <td>37.000</td>\n",
       "      <td>2015-11-07</td>\n",
       "      <td>1</td>\n",
       "      <td>2.650</td>\n",
       "      <td>16.000</td>\n",
       "      <td>18.000</td>\n",
       "      <td>16</td>\n",
       "      <td>True</td>\n",
       "      <td>...</td>\n",
       "      <td>11.000</td>\n",
       "      <td>0.000</td>\n",
       "      <td>Всеволожск</td>\n",
       "      <td>nan</td>\n",
       "      <td>nan</td>\n",
       "      <td>nan</td>\n",
       "      <td>nan</td>\n",
       "      <td>nan</td>\n",
       "      <td>nan</td>\n",
       "      <td>900.000</td>\n",
       "    </tr>\n",
       "    <tr>\n",
       "      <td>14818</td>\n",
       "      <td>3</td>\n",
       "      <td>2350000.000</td>\n",
       "      <td>30.700</td>\n",
       "      <td>2017-04-07</td>\n",
       "      <td>1</td>\n",
       "      <td>2.650</td>\n",
       "      <td>5.000</td>\n",
       "      <td>18.000</td>\n",
       "      <td>2</td>\n",
       "      <td>False</td>\n",
       "      <td>...</td>\n",
       "      <td>5.500</td>\n",
       "      <td>1.000</td>\n",
       "      <td>Гатчина</td>\n",
       "      <td>nan</td>\n",
       "      <td>nan</td>\n",
       "      <td>nan</td>\n",
       "      <td>nan</td>\n",
       "      <td>nan</td>\n",
       "      <td>nan</td>\n",
       "      <td>33.000</td>\n",
       "    </tr>\n",
       "    <tr>\n",
       "      <td>9358</td>\n",
       "      <td>16</td>\n",
       "      <td>8635000.000</td>\n",
       "      <td>93.480</td>\n",
       "      <td>2018-11-22</td>\n",
       "      <td>3</td>\n",
       "      <td>2.800</td>\n",
       "      <td>18.000</td>\n",
       "      <td>46.140</td>\n",
       "      <td>18</td>\n",
       "      <td>True</td>\n",
       "      <td>...</td>\n",
       "      <td>13.690</td>\n",
       "      <td>0.000</td>\n",
       "      <td>Кудрово</td>\n",
       "      <td>nan</td>\n",
       "      <td>nan</td>\n",
       "      <td>nan</td>\n",
       "      <td>nan</td>\n",
       "      <td>nan</td>\n",
       "      <td>nan</td>\n",
       "      <td>89.000</td>\n",
       "    </tr>\n",
       "    <tr>\n",
       "      <td>6337</td>\n",
       "      <td>17</td>\n",
       "      <td>1050000.000</td>\n",
       "      <td>30.000</td>\n",
       "      <td>2018-10-23</td>\n",
       "      <td>1</td>\n",
       "      <td>2.650</td>\n",
       "      <td>5.000</td>\n",
       "      <td>16.500</td>\n",
       "      <td>4</td>\n",
       "      <td>True</td>\n",
       "      <td>...</td>\n",
       "      <td>5.700</td>\n",
       "      <td>0.000</td>\n",
       "      <td>Кириши</td>\n",
       "      <td>nan</td>\n",
       "      <td>nan</td>\n",
       "      <td>nan</td>\n",
       "      <td>nan</td>\n",
       "      <td>nan</td>\n",
       "      <td>nan</td>\n",
       "      <td>24.000</td>\n",
       "    </tr>\n",
       "    <tr>\n",
       "      <td>12700</td>\n",
       "      <td>3</td>\n",
       "      <td>2700000.000</td>\n",
       "      <td>46.700</td>\n",
       "      <td>2017-02-10</td>\n",
       "      <td>1</td>\n",
       "      <td>2.650</td>\n",
       "      <td>9.000</td>\n",
       "      <td>21.300</td>\n",
       "      <td>3</td>\n",
       "      <td>True</td>\n",
       "      <td>...</td>\n",
       "      <td>11.100</td>\n",
       "      <td>0.000</td>\n",
       "      <td>поселок городского типа Синявино</td>\n",
       "      <td>nan</td>\n",
       "      <td>nan</td>\n",
       "      <td>nan</td>\n",
       "      <td>nan</td>\n",
       "      <td>nan</td>\n",
       "      <td>nan</td>\n",
       "      <td>164.000</td>\n",
       "    </tr>\n",
       "    <tr>\n",
       "      <td>19818</td>\n",
       "      <td>12</td>\n",
       "      <td>6100000.000</td>\n",
       "      <td>84.000</td>\n",
       "      <td>2019-05-01</td>\n",
       "      <td>2</td>\n",
       "      <td>2.650</td>\n",
       "      <td>10.000</td>\n",
       "      <td>41.000</td>\n",
       "      <td>5</td>\n",
       "      <td>True</td>\n",
       "      <td>...</td>\n",
       "      <td>11.000</td>\n",
       "      <td>2.000</td>\n",
       "      <td>посёлок Бугры</td>\n",
       "      <td>nan</td>\n",
       "      <td>nan</td>\n",
       "      <td>nan</td>\n",
       "      <td>nan</td>\n",
       "      <td>nan</td>\n",
       "      <td>nan</td>\n",
       "      <td>nan</td>\n",
       "    </tr>\n",
       "  </tbody>\n",
       "</table>\n",
       "<p>10 rows × 22 columns</p>\n",
       "</div>"
      ],
      "text/plain": [
       "       total_images  last_price  total_area first_day_exposition  rooms  \\\n",
       "7031              5 4100000.000      56.400           2018-03-20      2   \n",
       "18078             9 2900000.000      37.000           2016-05-27      1   \n",
       "11558            10 2700000.000      61.200           2017-04-26      3   \n",
       "23073            11 1450000.000      44.000           2018-02-15      2   \n",
       "8036              6 2880000.000      37.000           2015-11-07      1   \n",
       "14818             3 2350000.000      30.700           2017-04-07      1   \n",
       "9358             16 8635000.000      93.480           2018-11-22      3   \n",
       "6337             17 1050000.000      30.000           2018-10-23      1   \n",
       "12700             3 2700000.000      46.700           2017-02-10      1   \n",
       "19818            12 6100000.000      84.000           2019-05-01      2   \n",
       "\n",
       "       ceiling_height  floors_total  living_area  floor  is_apartment  ...  \\\n",
       "7031            2.650        11.000       27.800      1          True  ...   \n",
       "18078           2.650         6.000       16.000      6         False  ...   \n",
       "11558           2.650         5.000       39.900      3          True  ...   \n",
       "23073           2.650         4.000       34.000      1          True  ...   \n",
       "8036            2.650        16.000       18.000     16          True  ...   \n",
       "14818           2.650         5.000       18.000      2         False  ...   \n",
       "9358            2.800        18.000       46.140     18          True  ...   \n",
       "6337            2.650         5.000       16.500      4          True  ...   \n",
       "12700           2.650         9.000       21.300      3          True  ...   \n",
       "19818           2.650        10.000       41.000      5          True  ...   \n",
       "\n",
       "       kitchen_area  balcony                     locality_name  \\\n",
       "7031          8.900    0.000                      Сосновый Бор   \n",
       "18078        13.000    0.000   поселок городского типа Токсово   \n",
       "11558         7.400    0.000                поселок Войсковицы   \n",
       "23073         6.000    0.000                            Волхов   \n",
       "8036         11.000    0.000                        Всеволожск   \n",
       "14818         5.500    1.000                           Гатчина   \n",
       "9358         13.690    0.000                           Кудрово   \n",
       "6337          5.700    0.000                            Кириши   \n",
       "12700        11.100    0.000  поселок городского типа Синявино   \n",
       "19818        11.000    2.000                     посёлок Бугры   \n",
       "\n",
       "       airports_nearest cityCenters_nearest  parks_around3000  parks_nearest  \\\n",
       "7031                nan                 nan               nan            nan   \n",
       "18078               nan                 nan               nan            nan   \n",
       "11558               nan                 nan               nan            nan   \n",
       "23073               nan                 nan               nan            nan   \n",
       "8036                nan                 nan               nan            nan   \n",
       "14818               nan                 nan               nan            nan   \n",
       "9358                nan                 nan               nan            nan   \n",
       "6337                nan                 nan               nan            nan   \n",
       "12700               nan                 nan               nan            nan   \n",
       "19818               nan                 nan               nan            nan   \n",
       "\n",
       "       ponds_around3000  ponds_nearest  days_exposition  \n",
       "7031                nan            nan           45.000  \n",
       "18078               nan            nan          309.000  \n",
       "11558               nan            nan          342.000  \n",
       "23073               nan            nan          363.000  \n",
       "8036                nan            nan          900.000  \n",
       "14818               nan            nan           33.000  \n",
       "9358                nan            nan           89.000  \n",
       "6337                nan            nan           24.000  \n",
       "12700               nan            nan          164.000  \n",
       "19818               nan            nan              nan  \n",
       "\n",
       "[10 rows x 22 columns]"
      ]
     },
     "execution_count": 12,
     "metadata": {},
     "output_type": "execute_result"
    }
   ],
   "source": [
    "data_no_location = data[data['cityCenters_nearest'].isna()] \n",
    "# создадим отдельную таблицу со строками, содержащими пропуски в колонке cityCenters_nearest так как именно эти данные наиболее интересны для нашего исследования  \n",
    "data_no_location.sample(10, random_state=42)"
   ]
  },
  {
   "cell_type": "code",
   "execution_count": 13,
   "metadata": {},
   "outputs": [
    {
     "name": "stdout",
     "output_type": "stream",
     "text": [
      "<class 'pandas.core.frame.DataFrame'>\n",
      "Int64Index: 5519 entries, 5 to 23698\n",
      "Data columns (total 22 columns):\n",
      "total_images            5519 non-null int64\n",
      "last_price              5519 non-null float64\n",
      "total_area              5519 non-null float64\n",
      "first_day_exposition    5519 non-null datetime64[ns]\n",
      "rooms                   5519 non-null int64\n",
      "ceiling_height          5519 non-null float64\n",
      "floors_total            5509 non-null float64\n",
      "living_area             4896 non-null float64\n",
      "floor                   5519 non-null int64\n",
      "is_apartment            5519 non-null bool\n",
      "studio                  5519 non-null bool\n",
      "open_plan               5519 non-null bool\n",
      "kitchen_area            4804 non-null float64\n",
      "balcony                 5519 non-null float64\n",
      "locality_name           5511 non-null object\n",
      "airports_nearest        1 non-null float64\n",
      "cityCenters_nearest     0 non-null float64\n",
      "parks_around3000        1 non-null float64\n",
      "parks_nearest           1 non-null float64\n",
      "ponds_around3000        1 non-null float64\n",
      "ponds_nearest           0 non-null float64\n",
      "days_exposition         4653 non-null float64\n",
      "dtypes: bool(3), datetime64[ns](1), float64(14), int64(3), object(1)\n",
      "memory usage: 878.5+ KB\n"
     ]
    }
   ],
   "source": [
    "data_no_location.info()"
   ]
  },
  {
   "cell_type": "code",
   "execution_count": 14,
   "metadata": {},
   "outputs": [
    {
     "data": {
      "text/html": [
       "<div>\n",
       "<style scoped>\n",
       "    .dataframe tbody tr th:only-of-type {\n",
       "        vertical-align: middle;\n",
       "    }\n",
       "\n",
       "    .dataframe tbody tr th {\n",
       "        vertical-align: top;\n",
       "    }\n",
       "\n",
       "    .dataframe thead th {\n",
       "        text-align: right;\n",
       "    }\n",
       "</style>\n",
       "<table border=\"1\" class=\"dataframe\">\n",
       "  <thead>\n",
       "    <tr style=\"text-align: right;\">\n",
       "      <th></th>\n",
       "      <th>total_images</th>\n",
       "      <th>last_price</th>\n",
       "      <th>total_area</th>\n",
       "      <th>first_day_exposition</th>\n",
       "      <th>rooms</th>\n",
       "      <th>ceiling_height</th>\n",
       "      <th>floors_total</th>\n",
       "      <th>living_area</th>\n",
       "      <th>floor</th>\n",
       "      <th>is_apartment</th>\n",
       "      <th>...</th>\n",
       "      <th>kitchen_area</th>\n",
       "      <th>balcony</th>\n",
       "      <th>locality_name</th>\n",
       "      <th>airports_nearest</th>\n",
       "      <th>cityCenters_nearest</th>\n",
       "      <th>parks_around3000</th>\n",
       "      <th>parks_nearest</th>\n",
       "      <th>ponds_around3000</th>\n",
       "      <th>ponds_nearest</th>\n",
       "      <th>days_exposition</th>\n",
       "    </tr>\n",
       "  </thead>\n",
       "  <tbody>\n",
       "    <tr>\n",
       "      <td>81</td>\n",
       "      <td>9</td>\n",
       "      <td>10949000.000</td>\n",
       "      <td>68.000</td>\n",
       "      <td>2018-12-27</td>\n",
       "      <td>1</td>\n",
       "      <td>2.650</td>\n",
       "      <td>10.000</td>\n",
       "      <td>nan</td>\n",
       "      <td>6</td>\n",
       "      <td>True</td>\n",
       "      <td>...</td>\n",
       "      <td>nan</td>\n",
       "      <td>0.000</td>\n",
       "      <td>Санкт-Петербург</td>\n",
       "      <td>nan</td>\n",
       "      <td>nan</td>\n",
       "      <td>nan</td>\n",
       "      <td>nan</td>\n",
       "      <td>nan</td>\n",
       "      <td>nan</td>\n",
       "      <td>nan</td>\n",
       "    </tr>\n",
       "    <tr>\n",
       "      <td>593</td>\n",
       "      <td>20</td>\n",
       "      <td>4200000.000</td>\n",
       "      <td>38.300</td>\n",
       "      <td>2019-04-16</td>\n",
       "      <td>1</td>\n",
       "      <td>2.600</td>\n",
       "      <td>16.000</td>\n",
       "      <td>19.800</td>\n",
       "      <td>10</td>\n",
       "      <td>True</td>\n",
       "      <td>...</td>\n",
       "      <td>10.100</td>\n",
       "      <td>2.000</td>\n",
       "      <td>Санкт-Петербург</td>\n",
       "      <td>nan</td>\n",
       "      <td>nan</td>\n",
       "      <td>nan</td>\n",
       "      <td>nan</td>\n",
       "      <td>nan</td>\n",
       "      <td>nan</td>\n",
       "      <td>nan</td>\n",
       "    </tr>\n",
       "    <tr>\n",
       "      <td>604</td>\n",
       "      <td>11</td>\n",
       "      <td>9899000.000</td>\n",
       "      <td>101.000</td>\n",
       "      <td>2018-12-12</td>\n",
       "      <td>3</td>\n",
       "      <td>3.000</td>\n",
       "      <td>5.000</td>\n",
       "      <td>62.000</td>\n",
       "      <td>3</td>\n",
       "      <td>True</td>\n",
       "      <td>...</td>\n",
       "      <td>15.000</td>\n",
       "      <td>0.000</td>\n",
       "      <td>Санкт-Петербург</td>\n",
       "      <td>nan</td>\n",
       "      <td>nan</td>\n",
       "      <td>nan</td>\n",
       "      <td>nan</td>\n",
       "      <td>nan</td>\n",
       "      <td>nan</td>\n",
       "      <td>nan</td>\n",
       "    </tr>\n",
       "    <tr>\n",
       "      <td>742</td>\n",
       "      <td>7</td>\n",
       "      <td>37000000.000</td>\n",
       "      <td>161.000</td>\n",
       "      <td>2016-05-22</td>\n",
       "      <td>3</td>\n",
       "      <td>2.650</td>\n",
       "      <td>9.000</td>\n",
       "      <td>84.000</td>\n",
       "      <td>8</td>\n",
       "      <td>True</td>\n",
       "      <td>...</td>\n",
       "      <td>nan</td>\n",
       "      <td>0.000</td>\n",
       "      <td>Санкт-Петербург</td>\n",
       "      <td>nan</td>\n",
       "      <td>nan</td>\n",
       "      <td>nan</td>\n",
       "      <td>nan</td>\n",
       "      <td>nan</td>\n",
       "      <td>nan</td>\n",
       "      <td>402.000</td>\n",
       "    </tr>\n",
       "    <tr>\n",
       "      <td>795</td>\n",
       "      <td>19</td>\n",
       "      <td>7100000.000</td>\n",
       "      <td>59.600</td>\n",
       "      <td>2019-02-13</td>\n",
       "      <td>2</td>\n",
       "      <td>3.400</td>\n",
       "      <td>5.000</td>\n",
       "      <td>36.600</td>\n",
       "      <td>2</td>\n",
       "      <td>True</td>\n",
       "      <td>...</td>\n",
       "      <td>12.500</td>\n",
       "      <td>0.000</td>\n",
       "      <td>Санкт-Петербург</td>\n",
       "      <td>nan</td>\n",
       "      <td>nan</td>\n",
       "      <td>nan</td>\n",
       "      <td>nan</td>\n",
       "      <td>nan</td>\n",
       "      <td>nan</td>\n",
       "      <td>nan</td>\n",
       "    </tr>\n",
       "    <tr>\n",
       "      <td>...</td>\n",
       "      <td>...</td>\n",
       "      <td>...</td>\n",
       "      <td>...</td>\n",
       "      <td>...</td>\n",
       "      <td>...</td>\n",
       "      <td>...</td>\n",
       "      <td>...</td>\n",
       "      <td>...</td>\n",
       "      <td>...</td>\n",
       "      <td>...</td>\n",
       "      <td>...</td>\n",
       "      <td>...</td>\n",
       "      <td>...</td>\n",
       "      <td>...</td>\n",
       "      <td>...</td>\n",
       "      <td>...</td>\n",
       "      <td>...</td>\n",
       "      <td>...</td>\n",
       "      <td>...</td>\n",
       "      <td>...</td>\n",
       "      <td>...</td>\n",
       "    </tr>\n",
       "    <tr>\n",
       "      <td>21668</td>\n",
       "      <td>9</td>\n",
       "      <td>4500000.000</td>\n",
       "      <td>34.300</td>\n",
       "      <td>2019-03-04</td>\n",
       "      <td>1</td>\n",
       "      <td>2.650</td>\n",
       "      <td>9.000</td>\n",
       "      <td>17.500</td>\n",
       "      <td>3</td>\n",
       "      <td>True</td>\n",
       "      <td>...</td>\n",
       "      <td>8.900</td>\n",
       "      <td>1.000</td>\n",
       "      <td>Санкт-Петербург</td>\n",
       "      <td>nan</td>\n",
       "      <td>nan</td>\n",
       "      <td>nan</td>\n",
       "      <td>nan</td>\n",
       "      <td>nan</td>\n",
       "      <td>nan</td>\n",
       "      <td>nan</td>\n",
       "    </tr>\n",
       "    <tr>\n",
       "      <td>21881</td>\n",
       "      <td>15</td>\n",
       "      <td>44500000.000</td>\n",
       "      <td>169.000</td>\n",
       "      <td>2019-02-28</td>\n",
       "      <td>3</td>\n",
       "      <td>3.300</td>\n",
       "      <td>9.000</td>\n",
       "      <td>101.000</td>\n",
       "      <td>7</td>\n",
       "      <td>True</td>\n",
       "      <td>...</td>\n",
       "      <td>18.000</td>\n",
       "      <td>4.000</td>\n",
       "      <td>Санкт-Петербург</td>\n",
       "      <td>nan</td>\n",
       "      <td>nan</td>\n",
       "      <td>nan</td>\n",
       "      <td>nan</td>\n",
       "      <td>nan</td>\n",
       "      <td>nan</td>\n",
       "      <td>nan</td>\n",
       "    </tr>\n",
       "    <tr>\n",
       "      <td>21955</td>\n",
       "      <td>19</td>\n",
       "      <td>130000000.000</td>\n",
       "      <td>431.000</td>\n",
       "      <td>2017-10-02</td>\n",
       "      <td>7</td>\n",
       "      <td>3.700</td>\n",
       "      <td>8.000</td>\n",
       "      <td>220.000</td>\n",
       "      <td>5</td>\n",
       "      <td>True</td>\n",
       "      <td>...</td>\n",
       "      <td>20.000</td>\n",
       "      <td>5.000</td>\n",
       "      <td>Санкт-Петербург</td>\n",
       "      <td>nan</td>\n",
       "      <td>nan</td>\n",
       "      <td>nan</td>\n",
       "      <td>nan</td>\n",
       "      <td>nan</td>\n",
       "      <td>nan</td>\n",
       "      <td>161.000</td>\n",
       "    </tr>\n",
       "    <tr>\n",
       "      <td>22554</td>\n",
       "      <td>5</td>\n",
       "      <td>3415000.000</td>\n",
       "      <td>31.650</td>\n",
       "      <td>2019-04-16</td>\n",
       "      <td>1</td>\n",
       "      <td>2.650</td>\n",
       "      <td>24.000</td>\n",
       "      <td>nan</td>\n",
       "      <td>14</td>\n",
       "      <td>True</td>\n",
       "      <td>...</td>\n",
       "      <td>8.700</td>\n",
       "      <td>2.000</td>\n",
       "      <td>Санкт-Петербург</td>\n",
       "      <td>nan</td>\n",
       "      <td>nan</td>\n",
       "      <td>nan</td>\n",
       "      <td>nan</td>\n",
       "      <td>nan</td>\n",
       "      <td>nan</td>\n",
       "      <td>nan</td>\n",
       "    </tr>\n",
       "    <tr>\n",
       "      <td>22628</td>\n",
       "      <td>8</td>\n",
       "      <td>8600000.000</td>\n",
       "      <td>74.900</td>\n",
       "      <td>2019-03-14</td>\n",
       "      <td>3</td>\n",
       "      <td>3.000</td>\n",
       "      <td>5.000</td>\n",
       "      <td>53.200</td>\n",
       "      <td>4</td>\n",
       "      <td>True</td>\n",
       "      <td>...</td>\n",
       "      <td>8.000</td>\n",
       "      <td>1.000</td>\n",
       "      <td>Санкт-Петербург</td>\n",
       "      <td>nan</td>\n",
       "      <td>nan</td>\n",
       "      <td>nan</td>\n",
       "      <td>nan</td>\n",
       "      <td>nan</td>\n",
       "      <td>nan</td>\n",
       "      <td>nan</td>\n",
       "    </tr>\n",
       "  </tbody>\n",
       "</table>\n",
       "<p>61 rows × 22 columns</p>\n",
       "</div>"
      ],
      "text/plain": [
       "       total_images    last_price  total_area first_day_exposition  rooms  \\\n",
       "81                9  10949000.000      68.000           2018-12-27      1   \n",
       "593              20   4200000.000      38.300           2019-04-16      1   \n",
       "604              11   9899000.000     101.000           2018-12-12      3   \n",
       "742               7  37000000.000     161.000           2016-05-22      3   \n",
       "795              19   7100000.000      59.600           2019-02-13      2   \n",
       "...             ...           ...         ...                  ...    ...   \n",
       "21668             9   4500000.000      34.300           2019-03-04      1   \n",
       "21881            15  44500000.000     169.000           2019-02-28      3   \n",
       "21955            19 130000000.000     431.000           2017-10-02      7   \n",
       "22554             5   3415000.000      31.650           2019-04-16      1   \n",
       "22628             8   8600000.000      74.900           2019-03-14      3   \n",
       "\n",
       "       ceiling_height  floors_total  living_area  floor  is_apartment  ...  \\\n",
       "81              2.650        10.000          nan      6          True  ...   \n",
       "593             2.600        16.000       19.800     10          True  ...   \n",
       "604             3.000         5.000       62.000      3          True  ...   \n",
       "742             2.650         9.000       84.000      8          True  ...   \n",
       "795             3.400         5.000       36.600      2          True  ...   \n",
       "...               ...           ...          ...    ...           ...  ...   \n",
       "21668           2.650         9.000       17.500      3          True  ...   \n",
       "21881           3.300         9.000      101.000      7          True  ...   \n",
       "21955           3.700         8.000      220.000      5          True  ...   \n",
       "22554           2.650        24.000          nan     14          True  ...   \n",
       "22628           3.000         5.000       53.200      4          True  ...   \n",
       "\n",
       "       kitchen_area  balcony    locality_name  airports_nearest  \\\n",
       "81              nan    0.000  Санкт-Петербург               nan   \n",
       "593          10.100    2.000  Санкт-Петербург               nan   \n",
       "604          15.000    0.000  Санкт-Петербург               nan   \n",
       "742             nan    0.000  Санкт-Петербург               nan   \n",
       "795          12.500    0.000  Санкт-Петербург               nan   \n",
       "...             ...      ...              ...               ...   \n",
       "21668         8.900    1.000  Санкт-Петербург               nan   \n",
       "21881        18.000    4.000  Санкт-Петербург               nan   \n",
       "21955        20.000    5.000  Санкт-Петербург               nan   \n",
       "22554         8.700    2.000  Санкт-Петербург               nan   \n",
       "22628         8.000    1.000  Санкт-Петербург               nan   \n",
       "\n",
       "      cityCenters_nearest  parks_around3000  parks_nearest  ponds_around3000  \\\n",
       "81                    nan               nan            nan               nan   \n",
       "593                   nan               nan            nan               nan   \n",
       "604                   nan               nan            nan               nan   \n",
       "742                   nan               nan            nan               nan   \n",
       "795                   nan               nan            nan               nan   \n",
       "...                   ...               ...            ...               ...   \n",
       "21668                 nan               nan            nan               nan   \n",
       "21881                 nan               nan            nan               nan   \n",
       "21955                 nan               nan            nan               nan   \n",
       "22554                 nan               nan            nan               nan   \n",
       "22628                 nan               nan            nan               nan   \n",
       "\n",
       "       ponds_nearest  days_exposition  \n",
       "81               nan              nan  \n",
       "593              nan              nan  \n",
       "604              nan              nan  \n",
       "742              nan          402.000  \n",
       "795              nan              nan  \n",
       "...              ...              ...  \n",
       "21668            nan              nan  \n",
       "21881            nan              nan  \n",
       "21955            nan          161.000  \n",
       "22554            nan              nan  \n",
       "22628            nan              nan  \n",
       "\n",
       "[61 rows x 22 columns]"
      ]
     },
     "execution_count": 14,
     "metadata": {},
     "output_type": "execute_result"
    }
   ],
   "source": [
    "data_no_location[data_no_location['locality_name']== 'Санкт-Петербург'] \n",
    "# посмотрим не объясняются я ли пропуски в картографии удаленностью населенного пункта выборки от Санкт-Петербурга"
   ]
  },
  {
   "cell_type": "markdown",
   "metadata": {},
   "source": [
    "Уже по общей выборке мы можем увидеть, что в строках, где имеются пропуски в столбце cityCenters_nearest есть пропуски и в других данных, связанных с картографическими изысканиями. Информация по созданному датасету подтверждает, что практически во всех колонках пропуски геолокационных данных дублируются.\n",
    "\n",
    "Гипотеза о том, что эти данные могут отображать удаленные населенные пункты, поэтому для них нет данных об удаленности от аэропорта или центра города не подтвердилась так как в выборке пропущенных значений есть объекты из Санкт-Петербурга. \n",
    "\n",
    "Из этого можно сделать вывод, что пропуски в данных колонках возникли либо при объединении источников данных (причиной того могла стать техническая ошибка, неполный список исследуемых объектов в датасете с картографией), либо в следствие того, что продавец не установил точку геолокации (согласно условиям размещения объявлений на https://yandex.ru/support/realty/owner/home/add-ads-housing.html это не обязательно). Замена подобных значений средними или медианными может сильно исказить картину исследования, поэтому считаю, что заменять их не стоит."
   ]
  },
  {
   "cell_type": "markdown",
   "metadata": {},
   "source": [
    "**Дни экспозиции**\n",
    "\n",
    "Еще один столбец с большим количеством пропущенных значений - days_exposition. Эти данные отражают количество дней, которые объявление \"провисело\" с момента выставления объекта на продажу до момента снятия (заключения сделки). Стоит предположить, что строки с пропущенными значениями - не закрытые сделки: еще не проданные объекты либо объекты, снятые с продажи. Заменять их не стоит, так как это смажет картину общего количества продаж по данной выборке."
   ]
  },
  {
   "cell_type": "markdown",
   "metadata": {},
   "source": [
    "**Жилая площадь и площадь кухни**\n",
    "\n",
    "Колонки kitchen_area и living_area также содержат значительное количество пропусков. Их менее 10%, поэтому заменять их не обязательно, но необходимо понять их природу. Стоит предположить, что эти колонки взаимосвязаны и относятся в большей части к тем объектам, которые являются апартаментами. В этих объектах, согласно действующему законодательству, учитывается только общая площадь."
   ]
  },
  {
   "cell_type": "code",
   "execution_count": 15,
   "metadata": {},
   "outputs": [
    {
     "data": {
      "text/html": [
       "<div>\n",
       "<style scoped>\n",
       "    .dataframe tbody tr th:only-of-type {\n",
       "        vertical-align: middle;\n",
       "    }\n",
       "\n",
       "    .dataframe tbody tr th {\n",
       "        vertical-align: top;\n",
       "    }\n",
       "\n",
       "    .dataframe thead th {\n",
       "        text-align: right;\n",
       "    }\n",
       "</style>\n",
       "<table border=\"1\" class=\"dataframe\">\n",
       "  <thead>\n",
       "    <tr style=\"text-align: right;\">\n",
       "      <th></th>\n",
       "      <th>total_images</th>\n",
       "      <th>last_price</th>\n",
       "      <th>total_area</th>\n",
       "      <th>first_day_exposition</th>\n",
       "      <th>rooms</th>\n",
       "      <th>ceiling_height</th>\n",
       "      <th>floors_total</th>\n",
       "      <th>living_area</th>\n",
       "      <th>floor</th>\n",
       "      <th>is_apartment</th>\n",
       "      <th>...</th>\n",
       "      <th>kitchen_area</th>\n",
       "      <th>balcony</th>\n",
       "      <th>locality_name</th>\n",
       "      <th>airports_nearest</th>\n",
       "      <th>cityCenters_nearest</th>\n",
       "      <th>parks_around3000</th>\n",
       "      <th>parks_nearest</th>\n",
       "      <th>ponds_around3000</th>\n",
       "      <th>ponds_nearest</th>\n",
       "      <th>days_exposition</th>\n",
       "    </tr>\n",
       "  </thead>\n",
       "  <tbody>\n",
       "    <tr>\n",
       "      <td>3</td>\n",
       "      <td>0</td>\n",
       "      <td>64900000.000</td>\n",
       "      <td>159.000</td>\n",
       "      <td>2015-07-24</td>\n",
       "      <td>3</td>\n",
       "      <td>2.650</td>\n",
       "      <td>14.000</td>\n",
       "      <td>nan</td>\n",
       "      <td>9</td>\n",
       "      <td>True</td>\n",
       "      <td>...</td>\n",
       "      <td>nan</td>\n",
       "      <td>0.000</td>\n",
       "      <td>Санкт-Петербург</td>\n",
       "      <td>28098.000</td>\n",
       "      <td>6800.000</td>\n",
       "      <td>2.000</td>\n",
       "      <td>84.000</td>\n",
       "      <td>3.000</td>\n",
       "      <td>234.000</td>\n",
       "      <td>424.000</td>\n",
       "    </tr>\n",
       "    <tr>\n",
       "      <td>30</td>\n",
       "      <td>12</td>\n",
       "      <td>2200000.000</td>\n",
       "      <td>32.800</td>\n",
       "      <td>2018-02-19</td>\n",
       "      <td>1</td>\n",
       "      <td>2.650</td>\n",
       "      <td>9.000</td>\n",
       "      <td>nan</td>\n",
       "      <td>2</td>\n",
       "      <td>True</td>\n",
       "      <td>...</td>\n",
       "      <td>nan</td>\n",
       "      <td>0.000</td>\n",
       "      <td>Коммунар</td>\n",
       "      <td>nan</td>\n",
       "      <td>nan</td>\n",
       "      <td>nan</td>\n",
       "      <td>nan</td>\n",
       "      <td>nan</td>\n",
       "      <td>nan</td>\n",
       "      <td>63.000</td>\n",
       "    </tr>\n",
       "    <tr>\n",
       "      <td>37</td>\n",
       "      <td>10</td>\n",
       "      <td>1990000.000</td>\n",
       "      <td>45.800</td>\n",
       "      <td>2017-10-28</td>\n",
       "      <td>2</td>\n",
       "      <td>2.500</td>\n",
       "      <td>5.000</td>\n",
       "      <td>nan</td>\n",
       "      <td>1</td>\n",
       "      <td>True</td>\n",
       "      <td>...</td>\n",
       "      <td>nan</td>\n",
       "      <td>0.000</td>\n",
       "      <td>поселок городского типа Красный Бор</td>\n",
       "      <td>nan</td>\n",
       "      <td>nan</td>\n",
       "      <td>nan</td>\n",
       "      <td>nan</td>\n",
       "      <td>nan</td>\n",
       "      <td>nan</td>\n",
       "      <td>196.000</td>\n",
       "    </tr>\n",
       "    <tr>\n",
       "      <td>44</td>\n",
       "      <td>13</td>\n",
       "      <td>5350000.000</td>\n",
       "      <td>40.000</td>\n",
       "      <td>2018-11-18</td>\n",
       "      <td>1</td>\n",
       "      <td>2.650</td>\n",
       "      <td>22.000</td>\n",
       "      <td>nan</td>\n",
       "      <td>3</td>\n",
       "      <td>True</td>\n",
       "      <td>...</td>\n",
       "      <td>nan</td>\n",
       "      <td>1.000</td>\n",
       "      <td>Санкт-Петербург</td>\n",
       "      <td>30471.000</td>\n",
       "      <td>11603.000</td>\n",
       "      <td>1.000</td>\n",
       "      <td>620.000</td>\n",
       "      <td>1.000</td>\n",
       "      <td>1152.000</td>\n",
       "      <td>nan</td>\n",
       "    </tr>\n",
       "    <tr>\n",
       "      <td>59</td>\n",
       "      <td>15</td>\n",
       "      <td>6300000.000</td>\n",
       "      <td>46.500</td>\n",
       "      <td>2017-03-06</td>\n",
       "      <td>1</td>\n",
       "      <td>2.650</td>\n",
       "      <td>13.000</td>\n",
       "      <td>nan</td>\n",
       "      <td>13</td>\n",
       "      <td>True</td>\n",
       "      <td>...</td>\n",
       "      <td>nan</td>\n",
       "      <td>0.000</td>\n",
       "      <td>Санкт-Петербург</td>\n",
       "      <td>11125.000</td>\n",
       "      <td>14501.000</td>\n",
       "      <td>0.000</td>\n",
       "      <td>nan</td>\n",
       "      <td>0.000</td>\n",
       "      <td>nan</td>\n",
       "      <td>336.000</td>\n",
       "    </tr>\n",
       "  </tbody>\n",
       "</table>\n",
       "<p>5 rows × 22 columns</p>\n",
       "</div>"
      ],
      "text/plain": [
       "    total_images   last_price  total_area first_day_exposition  rooms  \\\n",
       "3              0 64900000.000     159.000           2015-07-24      3   \n",
       "30            12  2200000.000      32.800           2018-02-19      1   \n",
       "37            10  1990000.000      45.800           2017-10-28      2   \n",
       "44            13  5350000.000      40.000           2018-11-18      1   \n",
       "59            15  6300000.000      46.500           2017-03-06      1   \n",
       "\n",
       "    ceiling_height  floors_total  living_area  floor  is_apartment  ...  \\\n",
       "3            2.650        14.000          nan      9          True  ...   \n",
       "30           2.650         9.000          nan      2          True  ...   \n",
       "37           2.500         5.000          nan      1          True  ...   \n",
       "44           2.650        22.000          nan      3          True  ...   \n",
       "59           2.650        13.000          nan     13          True  ...   \n",
       "\n",
       "    kitchen_area  balcony                        locality_name  \\\n",
       "3            nan    0.000                      Санкт-Петербург   \n",
       "30           nan    0.000                             Коммунар   \n",
       "37           nan    0.000  поселок городского типа Красный Бор   \n",
       "44           nan    1.000                      Санкт-Петербург   \n",
       "59           nan    0.000                      Санкт-Петербург   \n",
       "\n",
       "    airports_nearest cityCenters_nearest  parks_around3000  parks_nearest  \\\n",
       "3          28098.000            6800.000             2.000         84.000   \n",
       "30               nan                 nan               nan            nan   \n",
       "37               nan                 nan               nan            nan   \n",
       "44         30471.000           11603.000             1.000        620.000   \n",
       "59         11125.000           14501.000             0.000            nan   \n",
       "\n",
       "    ponds_around3000  ponds_nearest  days_exposition  \n",
       "3              3.000        234.000          424.000  \n",
       "30               nan            nan           63.000  \n",
       "37               nan            nan          196.000  \n",
       "44             1.000       1152.000              nan  \n",
       "59             0.000            nan          336.000  \n",
       "\n",
       "[5 rows x 22 columns]"
      ]
     },
     "execution_count": 15,
     "metadata": {},
     "output_type": "execute_result"
    }
   ],
   "source": [
    "data[data['kitchen_area'].isna()].head()"
   ]
  },
  {
   "cell_type": "code",
   "execution_count": 16,
   "metadata": {},
   "outputs": [
    {
     "data": {
      "text/html": [
       "<div>\n",
       "<style scoped>\n",
       "    .dataframe tbody tr th:only-of-type {\n",
       "        vertical-align: middle;\n",
       "    }\n",
       "\n",
       "    .dataframe tbody tr th {\n",
       "        vertical-align: top;\n",
       "    }\n",
       "\n",
       "    .dataframe thead th {\n",
       "        text-align: right;\n",
       "    }\n",
       "</style>\n",
       "<table border=\"1\" class=\"dataframe\">\n",
       "  <thead>\n",
       "    <tr style=\"text-align: right;\">\n",
       "      <th></th>\n",
       "      <th>kitchen_area</th>\n",
       "      <th>living_area</th>\n",
       "    </tr>\n",
       "    <tr>\n",
       "      <th>is_apartment</th>\n",
       "      <th></th>\n",
       "      <th></th>\n",
       "    </tr>\n",
       "  </thead>\n",
       "  <tbody>\n",
       "    <tr>\n",
       "      <td>False</td>\n",
       "      <td>547</td>\n",
       "      <td>579</td>\n",
       "    </tr>\n",
       "    <tr>\n",
       "      <td>True</td>\n",
       "      <td>4257</td>\n",
       "      <td>4317</td>\n",
       "    </tr>\n",
       "  </tbody>\n",
       "</table>\n",
       "</div>"
      ],
      "text/plain": [
       "              kitchen_area  living_area\n",
       "is_apartment                           \n",
       "False                  547          579\n",
       "True                  4257         4317"
      ]
     },
     "execution_count": 16,
     "metadata": {},
     "output_type": "execute_result"
    }
   ],
   "source": [
    "data_no_location.pivot_table(index='is_apartment', values=['kitchen_area', 'living_area'], aggfunc='count')"
   ]
  },
  {
   "cell_type": "markdown",
   "metadata": {},
   "source": [
    "Можно наблюдать, что предположение о возможной связи появления пропусков в колонках kitchen_area и living_area с типом квартиры справедливо и может быть одной из объективных причин появления пропусков. Удалять или заменять эти значения не стоит, так как апартаменты - важныя часть современного рынка недвижимости, более того, мошеннические схемы часто имеют место именно с объетками этого типа, поэтому они важны для главной цели нашего исследования, стоит сохранить их в полном объеме."
   ]
  },
  {
   "cell_type": "markdown",
   "metadata": {},
   "source": [
    "**Количество комнат, равное 0**\n",
    "\n",
    "Полагаю, что минимальное значение 0 в столбце rooms имеет ту же природу и относится к апартаментам."
   ]
  },
  {
   "cell_type": "code",
   "execution_count": 17,
   "metadata": {},
   "outputs": [
    {
     "data": {
      "text/html": [
       "<div>\n",
       "<style scoped>\n",
       "    .dataframe tbody tr th:only-of-type {\n",
       "        vertical-align: middle;\n",
       "    }\n",
       "\n",
       "    .dataframe tbody tr th {\n",
       "        vertical-align: top;\n",
       "    }\n",
       "\n",
       "    .dataframe thead th {\n",
       "        text-align: right;\n",
       "    }\n",
       "</style>\n",
       "<table border=\"1\" class=\"dataframe\">\n",
       "  <thead>\n",
       "    <tr style=\"text-align: right;\">\n",
       "      <th></th>\n",
       "      <th>total_images</th>\n",
       "      <th>last_price</th>\n",
       "      <th>total_area</th>\n",
       "      <th>first_day_exposition</th>\n",
       "      <th>rooms</th>\n",
       "      <th>ceiling_height</th>\n",
       "      <th>floors_total</th>\n",
       "      <th>living_area</th>\n",
       "      <th>floor</th>\n",
       "      <th>is_apartment</th>\n",
       "      <th>...</th>\n",
       "      <th>kitchen_area</th>\n",
       "      <th>balcony</th>\n",
       "      <th>locality_name</th>\n",
       "      <th>airports_nearest</th>\n",
       "      <th>cityCenters_nearest</th>\n",
       "      <th>parks_around3000</th>\n",
       "      <th>parks_nearest</th>\n",
       "      <th>ponds_around3000</th>\n",
       "      <th>ponds_nearest</th>\n",
       "      <th>days_exposition</th>\n",
       "    </tr>\n",
       "  </thead>\n",
       "  <tbody>\n",
       "    <tr>\n",
       "      <td>144</td>\n",
       "      <td>1</td>\n",
       "      <td>2450000.000</td>\n",
       "      <td>27.000</td>\n",
       "      <td>2017-03-30</td>\n",
       "      <td>0</td>\n",
       "      <td>2.650</td>\n",
       "      <td>24.000</td>\n",
       "      <td>15.500</td>\n",
       "      <td>2</td>\n",
       "      <td>True</td>\n",
       "      <td>...</td>\n",
       "      <td>nan</td>\n",
       "      <td>2.000</td>\n",
       "      <td>посёлок Мурино</td>\n",
       "      <td>nan</td>\n",
       "      <td>nan</td>\n",
       "      <td>nan</td>\n",
       "      <td>nan</td>\n",
       "      <td>nan</td>\n",
       "      <td>nan</td>\n",
       "      <td>181.000</td>\n",
       "    </tr>\n",
       "    <tr>\n",
       "      <td>349</td>\n",
       "      <td>4</td>\n",
       "      <td>2320000.000</td>\n",
       "      <td>25.000</td>\n",
       "      <td>2017-09-27</td>\n",
       "      <td>0</td>\n",
       "      <td>2.650</td>\n",
       "      <td>14.000</td>\n",
       "      <td>17.000</td>\n",
       "      <td>1</td>\n",
       "      <td>True</td>\n",
       "      <td>...</td>\n",
       "      <td>nan</td>\n",
       "      <td>0.000</td>\n",
       "      <td>деревня Кудрово</td>\n",
       "      <td>nan</td>\n",
       "      <td>nan</td>\n",
       "      <td>nan</td>\n",
       "      <td>nan</td>\n",
       "      <td>nan</td>\n",
       "      <td>nan</td>\n",
       "      <td>45.000</td>\n",
       "    </tr>\n",
       "    <tr>\n",
       "      <td>440</td>\n",
       "      <td>8</td>\n",
       "      <td>2480000.000</td>\n",
       "      <td>27.110</td>\n",
       "      <td>2018-03-12</td>\n",
       "      <td>0</td>\n",
       "      <td>2.650</td>\n",
       "      <td>17.000</td>\n",
       "      <td>24.750</td>\n",
       "      <td>4</td>\n",
       "      <td>True</td>\n",
       "      <td>...</td>\n",
       "      <td>nan</td>\n",
       "      <td>2.000</td>\n",
       "      <td>Санкт-Петербург</td>\n",
       "      <td>38171.000</td>\n",
       "      <td>15015.000</td>\n",
       "      <td>0.000</td>\n",
       "      <td>nan</td>\n",
       "      <td>2.000</td>\n",
       "      <td>982.000</td>\n",
       "      <td>64.000</td>\n",
       "    </tr>\n",
       "    <tr>\n",
       "      <td>508</td>\n",
       "      <td>0</td>\n",
       "      <td>3375000.000</td>\n",
       "      <td>34.400</td>\n",
       "      <td>2017-03-28</td>\n",
       "      <td>0</td>\n",
       "      <td>2.650</td>\n",
       "      <td>26.000</td>\n",
       "      <td>24.300</td>\n",
       "      <td>19</td>\n",
       "      <td>True</td>\n",
       "      <td>...</td>\n",
       "      <td>nan</td>\n",
       "      <td>1.000</td>\n",
       "      <td>посёлок Парголово</td>\n",
       "      <td>53115.000</td>\n",
       "      <td>19292.000</td>\n",
       "      <td>0.000</td>\n",
       "      <td>nan</td>\n",
       "      <td>1.000</td>\n",
       "      <td>593.000</td>\n",
       "      <td>430.000</td>\n",
       "    </tr>\n",
       "    <tr>\n",
       "      <td>608</td>\n",
       "      <td>2</td>\n",
       "      <td>1850000.000</td>\n",
       "      <td>25.000</td>\n",
       "      <td>2019-02-20</td>\n",
       "      <td>0</td>\n",
       "      <td>2.650</td>\n",
       "      <td>10.000</td>\n",
       "      <td>nan</td>\n",
       "      <td>7</td>\n",
       "      <td>True</td>\n",
       "      <td>...</td>\n",
       "      <td>nan</td>\n",
       "      <td>0.000</td>\n",
       "      <td>посёлок Шушары</td>\n",
       "      <td>nan</td>\n",
       "      <td>nan</td>\n",
       "      <td>nan</td>\n",
       "      <td>nan</td>\n",
       "      <td>nan</td>\n",
       "      <td>nan</td>\n",
       "      <td>29.000</td>\n",
       "    </tr>\n",
       "  </tbody>\n",
       "</table>\n",
       "<p>5 rows × 22 columns</p>\n",
       "</div>"
      ],
      "text/plain": [
       "     total_images  last_price  total_area first_day_exposition  rooms  \\\n",
       "144             1 2450000.000      27.000           2017-03-30      0   \n",
       "349             4 2320000.000      25.000           2017-09-27      0   \n",
       "440             8 2480000.000      27.110           2018-03-12      0   \n",
       "508             0 3375000.000      34.400           2017-03-28      0   \n",
       "608             2 1850000.000      25.000           2019-02-20      0   \n",
       "\n",
       "     ceiling_height  floors_total  living_area  floor  is_apartment  ...  \\\n",
       "144           2.650        24.000       15.500      2          True  ...   \n",
       "349           2.650        14.000       17.000      1          True  ...   \n",
       "440           2.650        17.000       24.750      4          True  ...   \n",
       "508           2.650        26.000       24.300     19          True  ...   \n",
       "608           2.650        10.000          nan      7          True  ...   \n",
       "\n",
       "     kitchen_area  balcony      locality_name  airports_nearest  \\\n",
       "144           nan    2.000     посёлок Мурино               nan   \n",
       "349           nan    0.000    деревня Кудрово               nan   \n",
       "440           nan    2.000    Санкт-Петербург         38171.000   \n",
       "508           nan    1.000  посёлок Парголово         53115.000   \n",
       "608           nan    0.000     посёлок Шушары               nan   \n",
       "\n",
       "    cityCenters_nearest  parks_around3000  parks_nearest  ponds_around3000  \\\n",
       "144                 nan               nan            nan               nan   \n",
       "349                 nan               nan            nan               nan   \n",
       "440           15015.000             0.000            nan             2.000   \n",
       "508           19292.000             0.000            nan             1.000   \n",
       "608                 nan               nan            nan               nan   \n",
       "\n",
       "     ponds_nearest  days_exposition  \n",
       "144            nan          181.000  \n",
       "349            nan           45.000  \n",
       "440        982.000           64.000  \n",
       "508        593.000          430.000  \n",
       "608            nan           29.000  \n",
       "\n",
       "[5 rows x 22 columns]"
      ]
     },
     "execution_count": 17,
     "metadata": {},
     "output_type": "execute_result"
    }
   ],
   "source": [
    "data[data['rooms'] == 0].head()"
   ]
  },
  {
   "cell_type": "code",
   "execution_count": 18,
   "metadata": {},
   "outputs": [
    {
     "data": {
      "text/plain": [
       "total_images            197\n",
       "last_price              197\n",
       "total_area              197\n",
       "first_day_exposition    197\n",
       "rooms                   197\n",
       "ceiling_height          197\n",
       "floors_total            194\n",
       "living_area             183\n",
       "floor                   197\n",
       "is_apartment            197\n",
       "studio                  197\n",
       "open_plan               197\n",
       "kitchen_area              0\n",
       "balcony                 197\n",
       "locality_name           197\n",
       "airports_nearest        118\n",
       "cityCenters_nearest     118\n",
       "parks_around3000        118\n",
       "parks_nearest            29\n",
       "ponds_around3000        118\n",
       "ponds_nearest            69\n",
       "days_exposition         183\n",
       "dtype: int64"
      ]
     },
     "execution_count": 18,
     "metadata": {},
     "output_type": "execute_result"
    }
   ],
   "source": [
    "data.query('rooms == 0').count()"
   ]
  },
  {
   "cell_type": "code",
   "execution_count": 19,
   "metadata": {},
   "outputs": [
    {
     "data": {
      "text/plain": [
       "total_images            191\n",
       "last_price              191\n",
       "total_area              191\n",
       "first_day_exposition    191\n",
       "rooms                   191\n",
       "ceiling_height          191\n",
       "floors_total            188\n",
       "living_area             177\n",
       "floor                   191\n",
       "is_apartment            191\n",
       "studio                  191\n",
       "open_plan               191\n",
       "kitchen_area              0\n",
       "balcony                 191\n",
       "locality_name           191\n",
       "airports_nearest        116\n",
       "cityCenters_nearest     116\n",
       "parks_around3000        116\n",
       "parks_nearest            28\n",
       "ponds_around3000        116\n",
       "ponds_nearest            68\n",
       "days_exposition         177\n",
       "dtype: int64"
      ]
     },
     "execution_count": 19,
     "metadata": {},
     "output_type": "execute_result"
    }
   ],
   "source": [
    "data.query('rooms == 0 and is_apartment == True').count()"
   ]
  },
  {
   "cell_type": "markdown",
   "metadata": {},
   "source": [
    "Таким образом, можно сделать вывод о том, что значения 0 в колонке rooms - не аномалии, а значения, относящиеся к апартаментам или иным формам недвижимости."
   ]
  },
  {
   "cell_type": "markdown",
   "metadata": {},
   "source": [
    "### Вывод"
   ]
  },
  {
   "cell_type": "markdown",
   "metadata": {},
   "source": [
    "Мы смогли заменить пропуски в данных о высоте потолка и наличии балконов, пришли к выводу о том, что пропущенные значения в колонках с данными картографии взаимосвязаны отсутствием геолокации в объявлении либо может быть техническим сбоем объединения данных (этот вопрос стоит поднять при обсуждении датасета с коллегами). Кроме того, мы нашли четкую взаимосвязь между пропусками в значениях жилой площади, площади кухни и количеством комнат 0, и поняли, что эти явления в подавляющем большинстве связаны с типом объектов - апартаментами. В итоге мы получили более информативный датасет, лучше поняли распределение данных и причины тех или иных пропусков и значений."
   ]
  },
  {
   "cell_type": "markdown",
   "metadata": {},
   "source": [
    "## Расчёты и добавление результатов в таблицу"
   ]
  },
  {
   "cell_type": "markdown",
   "metadata": {},
   "source": [
    "Чтобы было проще оперировать значениями и данными, добавим в датасет ряд новых колонок, которые пригодятся нам в исследовательском анализе:\n",
    "\n",
    "• определим и добавим цену квадратного метра;\n",
    "\n",
    "• выделим в отдельные колонки день недели, месяц и год публикации объявления;\n",
    "\n",
    "• категоризируем этажность: выделим первый, последний этаж и другие;\n",
    "\n",
    "• посмотрим на соотношение жилой и общей площади, а также отношение площади кухни к общей."
   ]
  },
  {
   "cell_type": "markdown",
   "metadata": {},
   "source": [
    "### Цена за квадратный метр"
   ]
  },
  {
   "cell_type": "markdown",
   "metadata": {},
   "source": [
    "Одним из главных показателей рынка недвижимости является цена за квадратный метр. Добавим в датасет столбец m2_price с этим параметром."
   ]
  },
  {
   "cell_type": "code",
   "execution_count": 20,
   "metadata": {},
   "outputs": [
    {
     "data": {
      "text/html": [
       "<div>\n",
       "<style scoped>\n",
       "    .dataframe tbody tr th:only-of-type {\n",
       "        vertical-align: middle;\n",
       "    }\n",
       "\n",
       "    .dataframe tbody tr th {\n",
       "        vertical-align: top;\n",
       "    }\n",
       "\n",
       "    .dataframe thead th {\n",
       "        text-align: right;\n",
       "    }\n",
       "</style>\n",
       "<table border=\"1\" class=\"dataframe\">\n",
       "  <thead>\n",
       "    <tr style=\"text-align: right;\">\n",
       "      <th></th>\n",
       "      <th>total_images</th>\n",
       "      <th>last_price</th>\n",
       "      <th>total_area</th>\n",
       "      <th>rooms</th>\n",
       "      <th>ceiling_height</th>\n",
       "      <th>floors_total</th>\n",
       "      <th>living_area</th>\n",
       "      <th>floor</th>\n",
       "      <th>kitchen_area</th>\n",
       "      <th>balcony</th>\n",
       "      <th>airports_nearest</th>\n",
       "      <th>cityCenters_nearest</th>\n",
       "      <th>parks_around3000</th>\n",
       "      <th>parks_nearest</th>\n",
       "      <th>ponds_around3000</th>\n",
       "      <th>ponds_nearest</th>\n",
       "      <th>days_exposition</th>\n",
       "      <th>m2_price</th>\n",
       "    </tr>\n",
       "  </thead>\n",
       "  <tbody>\n",
       "    <tr>\n",
       "      <td>count</td>\n",
       "      <td>23699.000</td>\n",
       "      <td>23699.000</td>\n",
       "      <td>23699.000</td>\n",
       "      <td>23699.000</td>\n",
       "      <td>23699.000</td>\n",
       "      <td>23613.000</td>\n",
       "      <td>21796.000</td>\n",
       "      <td>23699.000</td>\n",
       "      <td>21421.000</td>\n",
       "      <td>23699.000</td>\n",
       "      <td>18157.000</td>\n",
       "      <td>18180.000</td>\n",
       "      <td>18181.000</td>\n",
       "      <td>8079.000</td>\n",
       "      <td>18181.000</td>\n",
       "      <td>9110.000</td>\n",
       "      <td>20518.000</td>\n",
       "      <td>23699.000</td>\n",
       "    </tr>\n",
       "    <tr>\n",
       "      <td>mean</td>\n",
       "      <td>9.858</td>\n",
       "      <td>6541548.772</td>\n",
       "      <td>60.349</td>\n",
       "      <td>2.071</td>\n",
       "      <td>2.724</td>\n",
       "      <td>10.674</td>\n",
       "      <td>34.458</td>\n",
       "      <td>5.892</td>\n",
       "      <td>10.570</td>\n",
       "      <td>0.591</td>\n",
       "      <td>28793.672</td>\n",
       "      <td>14191.278</td>\n",
       "      <td>0.611</td>\n",
       "      <td>490.805</td>\n",
       "      <td>0.770</td>\n",
       "      <td>517.981</td>\n",
       "      <td>180.889</td>\n",
       "      <td>99421.656</td>\n",
       "    </tr>\n",
       "    <tr>\n",
       "      <td>std</td>\n",
       "      <td>5.683</td>\n",
       "      <td>10887013.268</td>\n",
       "      <td>35.654</td>\n",
       "      <td>1.078</td>\n",
       "      <td>0.988</td>\n",
       "      <td>6.597</td>\n",
       "      <td>22.030</td>\n",
       "      <td>4.885</td>\n",
       "      <td>5.905</td>\n",
       "      <td>0.959</td>\n",
       "      <td>12630.881</td>\n",
       "      <td>8608.386</td>\n",
       "      <td>0.802</td>\n",
       "      <td>342.318</td>\n",
       "      <td>0.938</td>\n",
       "      <td>277.721</td>\n",
       "      <td>219.728</td>\n",
       "      <td>50306.802</td>\n",
       "    </tr>\n",
       "    <tr>\n",
       "      <td>min</td>\n",
       "      <td>0.000</td>\n",
       "      <td>12190.000</td>\n",
       "      <td>12.000</td>\n",
       "      <td>0.000</td>\n",
       "      <td>1.000</td>\n",
       "      <td>1.000</td>\n",
       "      <td>2.000</td>\n",
       "      <td>1.000</td>\n",
       "      <td>1.300</td>\n",
       "      <td>0.000</td>\n",
       "      <td>0.000</td>\n",
       "      <td>181.000</td>\n",
       "      <td>0.000</td>\n",
       "      <td>1.000</td>\n",
       "      <td>0.000</td>\n",
       "      <td>13.000</td>\n",
       "      <td>1.000</td>\n",
       "      <td>111.835</td>\n",
       "    </tr>\n",
       "    <tr>\n",
       "      <td>25%</td>\n",
       "      <td>6.000</td>\n",
       "      <td>3400000.000</td>\n",
       "      <td>40.000</td>\n",
       "      <td>1.000</td>\n",
       "      <td>2.600</td>\n",
       "      <td>5.000</td>\n",
       "      <td>18.600</td>\n",
       "      <td>2.000</td>\n",
       "      <td>7.000</td>\n",
       "      <td>0.000</td>\n",
       "      <td>18585.000</td>\n",
       "      <td>9238.000</td>\n",
       "      <td>0.000</td>\n",
       "      <td>288.000</td>\n",
       "      <td>0.000</td>\n",
       "      <td>294.000</td>\n",
       "      <td>45.000</td>\n",
       "      <td>76585.470</td>\n",
       "    </tr>\n",
       "    <tr>\n",
       "      <td>50%</td>\n",
       "      <td>9.000</td>\n",
       "      <td>4650000.000</td>\n",
       "      <td>52.000</td>\n",
       "      <td>2.000</td>\n",
       "      <td>2.650</td>\n",
       "      <td>9.000</td>\n",
       "      <td>30.000</td>\n",
       "      <td>4.000</td>\n",
       "      <td>9.100</td>\n",
       "      <td>0.000</td>\n",
       "      <td>26726.000</td>\n",
       "      <td>13098.500</td>\n",
       "      <td>0.000</td>\n",
       "      <td>455.000</td>\n",
       "      <td>1.000</td>\n",
       "      <td>502.000</td>\n",
       "      <td>95.000</td>\n",
       "      <td>95000.000</td>\n",
       "    </tr>\n",
       "    <tr>\n",
       "      <td>75%</td>\n",
       "      <td>14.000</td>\n",
       "      <td>6800000.000</td>\n",
       "      <td>69.900</td>\n",
       "      <td>3.000</td>\n",
       "      <td>2.700</td>\n",
       "      <td>16.000</td>\n",
       "      <td>42.300</td>\n",
       "      <td>8.000</td>\n",
       "      <td>12.000</td>\n",
       "      <td>1.000</td>\n",
       "      <td>37273.000</td>\n",
       "      <td>16293.000</td>\n",
       "      <td>1.000</td>\n",
       "      <td>612.000</td>\n",
       "      <td>1.000</td>\n",
       "      <td>729.000</td>\n",
       "      <td>232.000</td>\n",
       "      <td>114256.326</td>\n",
       "    </tr>\n",
       "    <tr>\n",
       "      <td>max</td>\n",
       "      <td>50.000</td>\n",
       "      <td>763000000.000</td>\n",
       "      <td>900.000</td>\n",
       "      <td>19.000</td>\n",
       "      <td>100.000</td>\n",
       "      <td>60.000</td>\n",
       "      <td>409.700</td>\n",
       "      <td>33.000</td>\n",
       "      <td>112.000</td>\n",
       "      <td>5.000</td>\n",
       "      <td>84869.000</td>\n",
       "      <td>65968.000</td>\n",
       "      <td>3.000</td>\n",
       "      <td>3190.000</td>\n",
       "      <td>3.000</td>\n",
       "      <td>1344.000</td>\n",
       "      <td>1580.000</td>\n",
       "      <td>1907500.000</td>\n",
       "    </tr>\n",
       "  </tbody>\n",
       "</table>\n",
       "</div>"
      ],
      "text/plain": [
       "       total_images    last_price  total_area     rooms  ceiling_height  \\\n",
       "count     23699.000     23699.000   23699.000 23699.000       23699.000   \n",
       "mean          9.858   6541548.772      60.349     2.071           2.724   \n",
       "std           5.683  10887013.268      35.654     1.078           0.988   \n",
       "min           0.000     12190.000      12.000     0.000           1.000   \n",
       "25%           6.000   3400000.000      40.000     1.000           2.600   \n",
       "50%           9.000   4650000.000      52.000     2.000           2.650   \n",
       "75%          14.000   6800000.000      69.900     3.000           2.700   \n",
       "max          50.000 763000000.000     900.000    19.000         100.000   \n",
       "\n",
       "       floors_total  living_area     floor  kitchen_area   balcony  \\\n",
       "count     23613.000    21796.000 23699.000     21421.000 23699.000   \n",
       "mean         10.674       34.458     5.892        10.570     0.591   \n",
       "std           6.597       22.030     4.885         5.905     0.959   \n",
       "min           1.000        2.000     1.000         1.300     0.000   \n",
       "25%           5.000       18.600     2.000         7.000     0.000   \n",
       "50%           9.000       30.000     4.000         9.100     0.000   \n",
       "75%          16.000       42.300     8.000        12.000     1.000   \n",
       "max          60.000      409.700    33.000       112.000     5.000   \n",
       "\n",
       "       airports_nearest  cityCenters_nearest  parks_around3000  parks_nearest  \\\n",
       "count         18157.000            18180.000         18181.000       8079.000   \n",
       "mean          28793.672            14191.278             0.611        490.805   \n",
       "std           12630.881             8608.386             0.802        342.318   \n",
       "min               0.000              181.000             0.000          1.000   \n",
       "25%           18585.000             9238.000             0.000        288.000   \n",
       "50%           26726.000            13098.500             0.000        455.000   \n",
       "75%           37273.000            16293.000             1.000        612.000   \n",
       "max           84869.000            65968.000             3.000       3190.000   \n",
       "\n",
       "       ponds_around3000  ponds_nearest  days_exposition    m2_price  \n",
       "count         18181.000       9110.000        20518.000   23699.000  \n",
       "mean              0.770        517.981          180.889   99421.656  \n",
       "std               0.938        277.721          219.728   50306.802  \n",
       "min               0.000         13.000            1.000     111.835  \n",
       "25%               0.000        294.000           45.000   76585.470  \n",
       "50%               1.000        502.000           95.000   95000.000  \n",
       "75%               1.000        729.000          232.000  114256.326  \n",
       "max               3.000       1344.000         1580.000 1907500.000  "
      ]
     },
     "execution_count": 20,
     "metadata": {},
     "output_type": "execute_result"
    }
   ],
   "source": [
    "data['m2_price'] = data['last_price'] / data['total_area'] \n",
    "data.describe()"
   ]
  },
  {
   "cell_type": "code",
   "execution_count": 21,
   "metadata": {},
   "outputs": [
    {
     "data": {
      "text/plain": [
       "<matplotlib.axes._subplots.AxesSubplot at 0x7f7842b5fbd0>"
      ]
     },
     "execution_count": 21,
     "metadata": {},
     "output_type": "execute_result"
    },
    {
     "data": {
      "image/png": "[encoded data removed]",
      "text/plain": [
       "<Figure size 432x288 with 1 Axes>"
      ]
     },
     "metadata": {
      "needs_background": "light"
     },
     "output_type": "display_data"
    }
   ],
   "source": [
    "data['m2_price'].hist(range=(0, 500000), bins=100)"
   ]
  },
  {
   "cell_type": "markdown",
   "metadata": {},
   "source": [
    "В средних значениях график показывает нормальное распределение, есть выбивающиеся высокие значения, с ними мы будем работать далее."
   ]
  },
  {
   "cell_type": "markdown",
   "metadata": {},
   "source": [
    "### День недели, месяц и год публикации"
   ]
  },
  {
   "cell_type": "markdown",
   "metadata": {},
   "source": [
    "Для удобства анализа временных и сезонных показателей сделок с недвижимостью выделим месяцы и годы дат выставления объявлений в отдельные столбцы, а также добавим колонку с днями недели."
   ]
  },
  {
   "cell_type": "code",
   "execution_count": 22,
   "metadata": {},
   "outputs": [
    {
     "data": {
      "text/html": [
       "<div>\n",
       "<style scoped>\n",
       "    .dataframe tbody tr th:only-of-type {\n",
       "        vertical-align: middle;\n",
       "    }\n",
       "\n",
       "    .dataframe tbody tr th {\n",
       "        vertical-align: top;\n",
       "    }\n",
       "\n",
       "    .dataframe thead th {\n",
       "        text-align: right;\n",
       "    }\n",
       "</style>\n",
       "<table border=\"1\" class=\"dataframe\">\n",
       "  <thead>\n",
       "    <tr style=\"text-align: right;\">\n",
       "      <th></th>\n",
       "      <th>total_images</th>\n",
       "      <th>last_price</th>\n",
       "      <th>total_area</th>\n",
       "      <th>first_day_exposition</th>\n",
       "      <th>rooms</th>\n",
       "      <th>ceiling_height</th>\n",
       "      <th>floors_total</th>\n",
       "      <th>living_area</th>\n",
       "      <th>floor</th>\n",
       "      <th>is_apartment</th>\n",
       "      <th>...</th>\n",
       "      <th>cityCenters_nearest</th>\n",
       "      <th>parks_around3000</th>\n",
       "      <th>parks_nearest</th>\n",
       "      <th>ponds_around3000</th>\n",
       "      <th>ponds_nearest</th>\n",
       "      <th>days_exposition</th>\n",
       "      <th>m2_price</th>\n",
       "      <th>weekday_exposition</th>\n",
       "      <th>month_exposition</th>\n",
       "      <th>year_exposition</th>\n",
       "    </tr>\n",
       "  </thead>\n",
       "  <tbody>\n",
       "    <tr>\n",
       "      <td>0</td>\n",
       "      <td>20</td>\n",
       "      <td>13000000.000</td>\n",
       "      <td>108.000</td>\n",
       "      <td>2019-03-07</td>\n",
       "      <td>3</td>\n",
       "      <td>2.700</td>\n",
       "      <td>16.000</td>\n",
       "      <td>51.000</td>\n",
       "      <td>8</td>\n",
       "      <td>True</td>\n",
       "      <td>...</td>\n",
       "      <td>16028.000</td>\n",
       "      <td>1.000</td>\n",
       "      <td>482.000</td>\n",
       "      <td>2.000</td>\n",
       "      <td>755.000</td>\n",
       "      <td>nan</td>\n",
       "      <td>120370.370</td>\n",
       "      <td>3</td>\n",
       "      <td>03</td>\n",
       "      <td>2019</td>\n",
       "    </tr>\n",
       "    <tr>\n",
       "      <td>1</td>\n",
       "      <td>7</td>\n",
       "      <td>3350000.000</td>\n",
       "      <td>40.400</td>\n",
       "      <td>2018-12-04</td>\n",
       "      <td>1</td>\n",
       "      <td>2.650</td>\n",
       "      <td>11.000</td>\n",
       "      <td>18.600</td>\n",
       "      <td>1</td>\n",
       "      <td>True</td>\n",
       "      <td>...</td>\n",
       "      <td>18603.000</td>\n",
       "      <td>0.000</td>\n",
       "      <td>nan</td>\n",
       "      <td>0.000</td>\n",
       "      <td>nan</td>\n",
       "      <td>81.000</td>\n",
       "      <td>82920.792</td>\n",
       "      <td>1</td>\n",
       "      <td>12</td>\n",
       "      <td>2018</td>\n",
       "    </tr>\n",
       "    <tr>\n",
       "      <td>2</td>\n",
       "      <td>10</td>\n",
       "      <td>5196000.000</td>\n",
       "      <td>56.000</td>\n",
       "      <td>2015-08-20</td>\n",
       "      <td>2</td>\n",
       "      <td>2.650</td>\n",
       "      <td>5.000</td>\n",
       "      <td>34.300</td>\n",
       "      <td>4</td>\n",
       "      <td>True</td>\n",
       "      <td>...</td>\n",
       "      <td>13933.000</td>\n",
       "      <td>1.000</td>\n",
       "      <td>90.000</td>\n",
       "      <td>2.000</td>\n",
       "      <td>574.000</td>\n",
       "      <td>558.000</td>\n",
       "      <td>92785.714</td>\n",
       "      <td>3</td>\n",
       "      <td>08</td>\n",
       "      <td>2015</td>\n",
       "    </tr>\n",
       "    <tr>\n",
       "      <td>3</td>\n",
       "      <td>0</td>\n",
       "      <td>64900000.000</td>\n",
       "      <td>159.000</td>\n",
       "      <td>2015-07-24</td>\n",
       "      <td>3</td>\n",
       "      <td>2.650</td>\n",
       "      <td>14.000</td>\n",
       "      <td>nan</td>\n",
       "      <td>9</td>\n",
       "      <td>True</td>\n",
       "      <td>...</td>\n",
       "      <td>6800.000</td>\n",
       "      <td>2.000</td>\n",
       "      <td>84.000</td>\n",
       "      <td>3.000</td>\n",
       "      <td>234.000</td>\n",
       "      <td>424.000</td>\n",
       "      <td>408176.101</td>\n",
       "      <td>4</td>\n",
       "      <td>07</td>\n",
       "      <td>2015</td>\n",
       "    </tr>\n",
       "    <tr>\n",
       "      <td>4</td>\n",
       "      <td>2</td>\n",
       "      <td>10000000.000</td>\n",
       "      <td>100.000</td>\n",
       "      <td>2018-06-19</td>\n",
       "      <td>2</td>\n",
       "      <td>3.030</td>\n",
       "      <td>14.000</td>\n",
       "      <td>32.000</td>\n",
       "      <td>13</td>\n",
       "      <td>True</td>\n",
       "      <td>...</td>\n",
       "      <td>8098.000</td>\n",
       "      <td>2.000</td>\n",
       "      <td>112.000</td>\n",
       "      <td>1.000</td>\n",
       "      <td>48.000</td>\n",
       "      <td>121.000</td>\n",
       "      <td>100000.000</td>\n",
       "      <td>1</td>\n",
       "      <td>06</td>\n",
       "      <td>2018</td>\n",
       "    </tr>\n",
       "  </tbody>\n",
       "</table>\n",
       "<p>5 rows × 26 columns</p>\n",
       "</div>"
      ],
      "text/plain": [
       "   total_images   last_price  total_area first_day_exposition  rooms  \\\n",
       "0            20 13000000.000     108.000           2019-03-07      3   \n",
       "1             7  3350000.000      40.400           2018-12-04      1   \n",
       "2            10  5196000.000      56.000           2015-08-20      2   \n",
       "3             0 64900000.000     159.000           2015-07-24      3   \n",
       "4             2 10000000.000     100.000           2018-06-19      2   \n",
       "\n",
       "   ceiling_height  floors_total  living_area  floor  is_apartment  ...  \\\n",
       "0           2.700        16.000       51.000      8          True  ...   \n",
       "1           2.650        11.000       18.600      1          True  ...   \n",
       "2           2.650         5.000       34.300      4          True  ...   \n",
       "3           2.650        14.000          nan      9          True  ...   \n",
       "4           3.030        14.000       32.000     13          True  ...   \n",
       "\n",
       "   cityCenters_nearest  parks_around3000  parks_nearest  ponds_around3000  \\\n",
       "0            16028.000             1.000        482.000             2.000   \n",
       "1            18603.000             0.000            nan             0.000   \n",
       "2            13933.000             1.000         90.000             2.000   \n",
       "3             6800.000             2.000         84.000             3.000   \n",
       "4             8098.000             2.000        112.000             1.000   \n",
       "\n",
       "  ponds_nearest  days_exposition   m2_price  weekday_exposition  \\\n",
       "0       755.000              nan 120370.370                   3   \n",
       "1           nan           81.000  82920.792                   1   \n",
       "2       574.000          558.000  92785.714                   3   \n",
       "3       234.000          424.000 408176.101                   4   \n",
       "4        48.000          121.000 100000.000                   1   \n",
       "\n",
       "   month_exposition  year_exposition  \n",
       "0                03             2019  \n",
       "1                12             2018  \n",
       "2                08             2015  \n",
       "3                07             2015  \n",
       "4                06             2018  \n",
       "\n",
       "[5 rows x 26 columns]"
      ]
     },
     "execution_count": 22,
     "metadata": {},
     "output_type": "execute_result"
    }
   ],
   "source": [
    "data['weekday_exposition'] = data['first_day_exposition'].dt.weekday\n",
    "data['month_exposition'] = data['first_day_exposition'].dt.strftime('%m')\n",
    "data['year_exposition'] = data['first_day_exposition'].dt.strftime('%Y')\n",
    "data.head()"
   ]
  },
  {
   "cell_type": "markdown",
   "metadata": {},
   "source": [
    "### Категории этажности"
   ]
  },
  {
   "cell_type": "markdown",
   "metadata": {},
   "source": [
    "Категоризируем колонку с указанием этажа, так как квартиры на первом и последнем этаже отличаются по цене и часто имеют отличный спрос, изучение которых может показать важные тенденции."
   ]
  },
  {
   "cell_type": "code",
   "execution_count": 23,
   "metadata": {},
   "outputs": [],
   "source": [
    "def floor_category(row): \n",
    "    if row['floor'] == 1: return 'первый'\n",
    "    if row['floor'] == row['floors_total']: return 'последний'\n",
    "    return 'другой'\n",
    "data['floor_category'] = data.apply(floor_category, axis = 1)"
   ]
  },
  {
   "cell_type": "markdown",
   "metadata": {},
   "source": [
    "### Соотношение площадей"
   ]
  },
  {
   "cell_type": "markdown",
   "metadata": {},
   "source": [
    "Вычислим соотношение жилой и общей площади квартир, а также то, как соотносится площадь кухни с общей площадью."
   ]
  },
  {
   "cell_type": "code",
   "execution_count": 24,
   "metadata": {},
   "outputs": [],
   "source": [
    "data['ratio_living_total_area'] = data['living_area'] / data['total_area']\n",
    "data['ratio_kitchen_total_area'] = data['kitchen_area'] / data['total_area']"
   ]
  },
  {
   "cell_type": "code",
   "execution_count": 25,
   "metadata": {},
   "outputs": [
    {
     "data": {
      "text/html": [
       "<div>\n",
       "<style scoped>\n",
       "    .dataframe tbody tr th:only-of-type {\n",
       "        vertical-align: middle;\n",
       "    }\n",
       "\n",
       "    .dataframe tbody tr th {\n",
       "        vertical-align: top;\n",
       "    }\n",
       "\n",
       "    .dataframe thead th {\n",
       "        text-align: right;\n",
       "    }\n",
       "</style>\n",
       "<table border=\"1\" class=\"dataframe\">\n",
       "  <thead>\n",
       "    <tr style=\"text-align: right;\">\n",
       "      <th></th>\n",
       "      <th>total_images</th>\n",
       "      <th>last_price</th>\n",
       "      <th>total_area</th>\n",
       "      <th>rooms</th>\n",
       "      <th>ceiling_height</th>\n",
       "      <th>floors_total</th>\n",
       "      <th>living_area</th>\n",
       "      <th>floor</th>\n",
       "      <th>kitchen_area</th>\n",
       "      <th>balcony</th>\n",
       "      <th>...</th>\n",
       "      <th>cityCenters_nearest</th>\n",
       "      <th>parks_around3000</th>\n",
       "      <th>parks_nearest</th>\n",
       "      <th>ponds_around3000</th>\n",
       "      <th>ponds_nearest</th>\n",
       "      <th>days_exposition</th>\n",
       "      <th>m2_price</th>\n",
       "      <th>weekday_exposition</th>\n",
       "      <th>ratio_living_total_area</th>\n",
       "      <th>ratio_kitchen_total_area</th>\n",
       "    </tr>\n",
       "  </thead>\n",
       "  <tbody>\n",
       "    <tr>\n",
       "      <td>count</td>\n",
       "      <td>23699.000</td>\n",
       "      <td>23699.000</td>\n",
       "      <td>23699.000</td>\n",
       "      <td>23699.000</td>\n",
       "      <td>23699.000</td>\n",
       "      <td>23613.000</td>\n",
       "      <td>21796.000</td>\n",
       "      <td>23699.000</td>\n",
       "      <td>21421.000</td>\n",
       "      <td>23699.000</td>\n",
       "      <td>...</td>\n",
       "      <td>18180.000</td>\n",
       "      <td>18181.000</td>\n",
       "      <td>8079.000</td>\n",
       "      <td>18181.000</td>\n",
       "      <td>9110.000</td>\n",
       "      <td>20518.000</td>\n",
       "      <td>23699.000</td>\n",
       "      <td>23699.000</td>\n",
       "      <td>21796.000</td>\n",
       "      <td>21421.000</td>\n",
       "    </tr>\n",
       "    <tr>\n",
       "      <td>mean</td>\n",
       "      <td>9.858</td>\n",
       "      <td>6541548.772</td>\n",
       "      <td>60.349</td>\n",
       "      <td>2.071</td>\n",
       "      <td>2.724</td>\n",
       "      <td>10.674</td>\n",
       "      <td>34.458</td>\n",
       "      <td>5.892</td>\n",
       "      <td>10.570</td>\n",
       "      <td>0.591</td>\n",
       "      <td>...</td>\n",
       "      <td>14191.278</td>\n",
       "      <td>0.611</td>\n",
       "      <td>490.805</td>\n",
       "      <td>0.770</td>\n",
       "      <td>517.981</td>\n",
       "      <td>180.889</td>\n",
       "      <td>99421.656</td>\n",
       "      <td>2.569</td>\n",
       "      <td>0.565</td>\n",
       "      <td>0.187</td>\n",
       "    </tr>\n",
       "    <tr>\n",
       "      <td>std</td>\n",
       "      <td>5.683</td>\n",
       "      <td>10887013.268</td>\n",
       "      <td>35.654</td>\n",
       "      <td>1.078</td>\n",
       "      <td>0.988</td>\n",
       "      <td>6.597</td>\n",
       "      <td>22.030</td>\n",
       "      <td>4.885</td>\n",
       "      <td>5.905</td>\n",
       "      <td>0.959</td>\n",
       "      <td>...</td>\n",
       "      <td>8608.386</td>\n",
       "      <td>0.802</td>\n",
       "      <td>342.318</td>\n",
       "      <td>0.938</td>\n",
       "      <td>277.721</td>\n",
       "      <td>219.728</td>\n",
       "      <td>50306.802</td>\n",
       "      <td>1.789</td>\n",
       "      <td>0.105</td>\n",
       "      <td>0.073</td>\n",
       "    </tr>\n",
       "    <tr>\n",
       "      <td>min</td>\n",
       "      <td>0.000</td>\n",
       "      <td>12190.000</td>\n",
       "      <td>12.000</td>\n",
       "      <td>0.000</td>\n",
       "      <td>1.000</td>\n",
       "      <td>1.000</td>\n",
       "      <td>2.000</td>\n",
       "      <td>1.000</td>\n",
       "      <td>1.300</td>\n",
       "      <td>0.000</td>\n",
       "      <td>...</td>\n",
       "      <td>181.000</td>\n",
       "      <td>0.000</td>\n",
       "      <td>1.000</td>\n",
       "      <td>0.000</td>\n",
       "      <td>13.000</td>\n",
       "      <td>1.000</td>\n",
       "      <td>111.835</td>\n",
       "      <td>0.000</td>\n",
       "      <td>0.022</td>\n",
       "      <td>0.025</td>\n",
       "    </tr>\n",
       "    <tr>\n",
       "      <td>25%</td>\n",
       "      <td>6.000</td>\n",
       "      <td>3400000.000</td>\n",
       "      <td>40.000</td>\n",
       "      <td>1.000</td>\n",
       "      <td>2.600</td>\n",
       "      <td>5.000</td>\n",
       "      <td>18.600</td>\n",
       "      <td>2.000</td>\n",
       "      <td>7.000</td>\n",
       "      <td>0.000</td>\n",
       "      <td>...</td>\n",
       "      <td>9238.000</td>\n",
       "      <td>0.000</td>\n",
       "      <td>288.000</td>\n",
       "      <td>0.000</td>\n",
       "      <td>294.000</td>\n",
       "      <td>45.000</td>\n",
       "      <td>76585.470</td>\n",
       "      <td>1.000</td>\n",
       "      <td>0.495</td>\n",
       "      <td>0.133</td>\n",
       "    </tr>\n",
       "    <tr>\n",
       "      <td>50%</td>\n",
       "      <td>9.000</td>\n",
       "      <td>4650000.000</td>\n",
       "      <td>52.000</td>\n",
       "      <td>2.000</td>\n",
       "      <td>2.650</td>\n",
       "      <td>9.000</td>\n",
       "      <td>30.000</td>\n",
       "      <td>4.000</td>\n",
       "      <td>9.100</td>\n",
       "      <td>0.000</td>\n",
       "      <td>...</td>\n",
       "      <td>13098.500</td>\n",
       "      <td>0.000</td>\n",
       "      <td>455.000</td>\n",
       "      <td>1.000</td>\n",
       "      <td>502.000</td>\n",
       "      <td>95.000</td>\n",
       "      <td>95000.000</td>\n",
       "      <td>3.000</td>\n",
       "      <td>0.568</td>\n",
       "      <td>0.172</td>\n",
       "    </tr>\n",
       "    <tr>\n",
       "      <td>75%</td>\n",
       "      <td>14.000</td>\n",
       "      <td>6800000.000</td>\n",
       "      <td>69.900</td>\n",
       "      <td>3.000</td>\n",
       "      <td>2.700</td>\n",
       "      <td>16.000</td>\n",
       "      <td>42.300</td>\n",
       "      <td>8.000</td>\n",
       "      <td>12.000</td>\n",
       "      <td>1.000</td>\n",
       "      <td>...</td>\n",
       "      <td>16293.000</td>\n",
       "      <td>1.000</td>\n",
       "      <td>612.000</td>\n",
       "      <td>1.000</td>\n",
       "      <td>729.000</td>\n",
       "      <td>232.000</td>\n",
       "      <td>114256.326</td>\n",
       "      <td>4.000</td>\n",
       "      <td>0.638</td>\n",
       "      <td>0.232</td>\n",
       "    </tr>\n",
       "    <tr>\n",
       "      <td>max</td>\n",
       "      <td>50.000</td>\n",
       "      <td>763000000.000</td>\n",
       "      <td>900.000</td>\n",
       "      <td>19.000</td>\n",
       "      <td>100.000</td>\n",
       "      <td>60.000</td>\n",
       "      <td>409.700</td>\n",
       "      <td>33.000</td>\n",
       "      <td>112.000</td>\n",
       "      <td>5.000</td>\n",
       "      <td>...</td>\n",
       "      <td>65968.000</td>\n",
       "      <td>3.000</td>\n",
       "      <td>3190.000</td>\n",
       "      <td>3.000</td>\n",
       "      <td>1344.000</td>\n",
       "      <td>1580.000</td>\n",
       "      <td>1907500.000</td>\n",
       "      <td>6.000</td>\n",
       "      <td>1.000</td>\n",
       "      <td>0.788</td>\n",
       "    </tr>\n",
       "  </tbody>\n",
       "</table>\n",
       "<p>8 rows × 21 columns</p>\n",
       "</div>"
      ],
      "text/plain": [
       "       total_images    last_price  total_area     rooms  ceiling_height  \\\n",
       "count     23699.000     23699.000   23699.000 23699.000       23699.000   \n",
       "mean          9.858   6541548.772      60.349     2.071           2.724   \n",
       "std           5.683  10887013.268      35.654     1.078           0.988   \n",
       "min           0.000     12190.000      12.000     0.000           1.000   \n",
       "25%           6.000   3400000.000      40.000     1.000           2.600   \n",
       "50%           9.000   4650000.000      52.000     2.000           2.650   \n",
       "75%          14.000   6800000.000      69.900     3.000           2.700   \n",
       "max          50.000 763000000.000     900.000    19.000         100.000   \n",
       "\n",
       "       floors_total  living_area     floor  kitchen_area   balcony  ...  \\\n",
       "count     23613.000    21796.000 23699.000     21421.000 23699.000  ...   \n",
       "mean         10.674       34.458     5.892        10.570     0.591  ...   \n",
       "std           6.597       22.030     4.885         5.905     0.959  ...   \n",
       "min           1.000        2.000     1.000         1.300     0.000  ...   \n",
       "25%           5.000       18.600     2.000         7.000     0.000  ...   \n",
       "50%           9.000       30.000     4.000         9.100     0.000  ...   \n",
       "75%          16.000       42.300     8.000        12.000     1.000  ...   \n",
       "max          60.000      409.700    33.000       112.000     5.000  ...   \n",
       "\n",
       "       cityCenters_nearest  parks_around3000  parks_nearest  ponds_around3000  \\\n",
       "count            18180.000         18181.000       8079.000         18181.000   \n",
       "mean             14191.278             0.611        490.805             0.770   \n",
       "std               8608.386             0.802        342.318             0.938   \n",
       "min                181.000             0.000          1.000             0.000   \n",
       "25%               9238.000             0.000        288.000             0.000   \n",
       "50%              13098.500             0.000        455.000             1.000   \n",
       "75%              16293.000             1.000        612.000             1.000   \n",
       "max              65968.000             3.000       3190.000             3.000   \n",
       "\n",
       "       ponds_nearest  days_exposition    m2_price  weekday_exposition  \\\n",
       "count       9110.000        20518.000   23699.000           23699.000   \n",
       "mean         517.981          180.889   99421.656               2.569   \n",
       "std          277.721          219.728   50306.802               1.789   \n",
       "min           13.000            1.000     111.835               0.000   \n",
       "25%          294.000           45.000   76585.470               1.000   \n",
       "50%          502.000           95.000   95000.000               3.000   \n",
       "75%          729.000          232.000  114256.326               4.000   \n",
       "max         1344.000         1580.000 1907500.000               6.000   \n",
       "\n",
       "       ratio_living_total_area  ratio_kitchen_total_area  \n",
       "count                21796.000                 21421.000  \n",
       "mean                     0.565                     0.187  \n",
       "std                      0.105                     0.073  \n",
       "min                      0.022                     0.025  \n",
       "25%                      0.495                     0.133  \n",
       "50%                      0.568                     0.172  \n",
       "75%                      0.638                     0.232  \n",
       "max                      1.000                     0.788  \n",
       "\n",
       "[8 rows x 21 columns]"
      ]
     },
     "execution_count": 25,
     "metadata": {},
     "output_type": "execute_result"
    }
   ],
   "source": [
    "data.describe()"
   ]
  },
  {
   "cell_type": "markdown",
   "metadata": {},
   "source": [
    "### Вывод"
   ]
  },
  {
   "cell_type": "markdown",
   "metadata": {},
   "source": [
    "Нами добавлены новые данные, которые помогут в дальнейшем исследовании. В таблице появились столбцы с ценой квадратного метра, днем недели, месяцеми годом выставления объекта, категории этажности и представление о том,к ак соотносится общая площадь объекта с площадью кухни и жилой площадью."
   ]
  },
  {
   "cell_type": "markdown",
   "metadata": {},
   "source": [
    "## Исследовательский анализ данных"
   ]
  },
  {
   "cell_type": "markdown",
   "metadata": {},
   "source": [
    "Исследуем площадь квартир, их цену, а также число комнат и высоту потолков"
   ]
  },
  {
   "cell_type": "markdown",
   "metadata": {},
   "source": [
    "### Обшая площадь"
   ]
  },
  {
   "cell_type": "code",
   "execution_count": 26,
   "metadata": {},
   "outputs": [
    {
     "data": {
      "text/plain": [
       "count   23699.000\n",
       "mean       60.349\n",
       "std        35.654\n",
       "min        12.000\n",
       "25%        40.000\n",
       "50%        52.000\n",
       "75%        69.900\n",
       "max       900.000\n",
       "Name: total_area, dtype: float64"
      ]
     },
     "execution_count": 26,
     "metadata": {},
     "output_type": "execute_result"
    }
   ],
   "source": [
    "data['total_area'].describe(include='all')"
   ]
  },
  {
   "cell_type": "code",
   "execution_count": 27,
   "metadata": {},
   "outputs": [
    {
     "data": {
      "text/plain": [
       "<matplotlib.axes._subplots.AxesSubplot at 0x7f7843715e10>"
      ]
     },
     "execution_count": 27,
     "metadata": {},
     "output_type": "execute_result"
    },
    {
     "data": {
      "image/png": "[encoded data removed]",
      "text/plain": [
       "<Figure size 576x360 with 1 Axes>"
      ]
     },
     "metadata": {
      "needs_background": "light"
     },
     "output_type": "display_data"
    }
   ],
   "source": [
    "data.plot(y ='total_area', kind ='hist', bins=100, grid=True, figsize = (8,5))"
   ]
  },
  {
   "cell_type": "code",
   "execution_count": 28,
   "metadata": {},
   "outputs": [
    {
     "data": {
      "text/plain": [
       "(0, 150)"
      ]
     },
     "execution_count": 28,
     "metadata": {},
     "output_type": "execute_result"
    },
    {
     "data": {
      "image/png": "[encoded data removed]",
      "text/plain": [
       "<Figure size 432x288 with 1 Axes>"
      ]
     },
     "metadata": {
      "needs_background": "light"
     },
     "output_type": "display_data"
    }
   ],
   "source": [
    "data.boxplot(column='total_area')\n",
    "plt.ylim(0, 150)"
   ]
  },
  {
   "cell_type": "markdown",
   "metadata": {},
   "source": [
    "И числовые данные и гистограмма без определения границ range показывают наличие слишком больших значений, которые можно рассмотривать как выборсы. В средних значениях распределение данных близко к нормальным. Необходимо избавиться от редких слишкоми больших значений.\n",
    "\n",
    "Общая площадь в наших данных колеблется от 12 до 900 кв.м (12 кв.м можно объяснить большим количеством апартаментов и студий на рынке недвижимости, а значения в 900 - явно аномальные объекты). Среднее значение общей площади в нашей выборке равно 60, медиана - 52. Нижняя граница наших данных входит в допустимые показатели, а вот верхнюю стоит ограничить 1,5 IQR."
   ]
  },
  {
   "cell_type": "code",
   "execution_count": 29,
   "metadata": {},
   "outputs": [
    {
     "data": {
      "text/plain": [
       "112.5"
      ]
     },
     "execution_count": 29,
     "metadata": {},
     "output_type": "execute_result"
    }
   ],
   "source": [
    "Q75=69\n",
    "Q25=40\n",
    "max_boxplot = Q75+(1.5*(Q75-Q25))\n",
    "max_boxplot"
   ]
  },
  {
   "cell_type": "code",
   "execution_count": 30,
   "metadata": {},
   "outputs": [
    {
     "data": {
      "text/plain": [
       "<matplotlib.axes._subplots.AxesSubplot at 0x7f78435a55d0>"
      ]
     },
     "execution_count": 30,
     "metadata": {},
     "output_type": "execute_result"
    },
    {
     "data": {
      "image/png": "[encoded data removed]",
      "text/plain": [
       "<Figure size 576x360 with 1 Axes>"
      ]
     },
     "metadata": {
      "needs_background": "light"
     },
     "output_type": "display_data"
    }
   ],
   "source": [
    "normal_data = data.query('total_area <112.5') # создадим новый датафайл без значений, которые можно расценивать, как выбросы\n",
    "normal_data.plot(y='total_area', kind ='hist', bins=100, grid=True, figsize = (8,5))"
   ]
  },
  {
   "cell_type": "code",
   "execution_count": 31,
   "metadata": {},
   "outputs": [
    {
     "data": {
      "text/html": [
       "<div>\n",
       "<style scoped>\n",
       "    .dataframe tbody tr th:only-of-type {\n",
       "        vertical-align: middle;\n",
       "    }\n",
       "\n",
       "    .dataframe tbody tr th {\n",
       "        vertical-align: top;\n",
       "    }\n",
       "\n",
       "    .dataframe thead th {\n",
       "        text-align: right;\n",
       "    }\n",
       "</style>\n",
       "<table border=\"1\" class=\"dataframe\">\n",
       "  <thead>\n",
       "    <tr style=\"text-align: right;\">\n",
       "      <th></th>\n",
       "      <th>total_images</th>\n",
       "      <th>last_price</th>\n",
       "      <th>total_area</th>\n",
       "      <th>rooms</th>\n",
       "      <th>ceiling_height</th>\n",
       "      <th>floors_total</th>\n",
       "      <th>living_area</th>\n",
       "      <th>floor</th>\n",
       "      <th>kitchen_area</th>\n",
       "      <th>balcony</th>\n",
       "      <th>...</th>\n",
       "      <th>cityCenters_nearest</th>\n",
       "      <th>parks_around3000</th>\n",
       "      <th>parks_nearest</th>\n",
       "      <th>ponds_around3000</th>\n",
       "      <th>ponds_nearest</th>\n",
       "      <th>days_exposition</th>\n",
       "      <th>m2_price</th>\n",
       "      <th>weekday_exposition</th>\n",
       "      <th>ratio_living_total_area</th>\n",
       "      <th>ratio_kitchen_total_area</th>\n",
       "    </tr>\n",
       "  </thead>\n",
       "  <tbody>\n",
       "    <tr>\n",
       "      <td>count</td>\n",
       "      <td>22385.000</td>\n",
       "      <td>22385.000</td>\n",
       "      <td>22385.000</td>\n",
       "      <td>22385.000</td>\n",
       "      <td>22385.000</td>\n",
       "      <td>22304.000</td>\n",
       "      <td>20617.000</td>\n",
       "      <td>22385.000</td>\n",
       "      <td>20226.000</td>\n",
       "      <td>22385.000</td>\n",
       "      <td>...</td>\n",
       "      <td>16915.000</td>\n",
       "      <td>16916.000</td>\n",
       "      <td>7243.000</td>\n",
       "      <td>16916.000</td>\n",
       "      <td>8277.000</td>\n",
       "      <td>19536.000</td>\n",
       "      <td>22385.000</td>\n",
       "      <td>22385.000</td>\n",
       "      <td>20617.000</td>\n",
       "      <td>20226.000</td>\n",
       "    </tr>\n",
       "    <tr>\n",
       "      <td>mean</td>\n",
       "      <td>9.771</td>\n",
       "      <td>5276473.506</td>\n",
       "      <td>54.169</td>\n",
       "      <td>1.944</td>\n",
       "      <td>2.709</td>\n",
       "      <td>10.793</td>\n",
       "      <td>30.954</td>\n",
       "      <td>5.919</td>\n",
       "      <td>9.879</td>\n",
       "      <td>0.596</td>\n",
       "      <td>...</td>\n",
       "      <td>14646.385</td>\n",
       "      <td>0.578</td>\n",
       "      <td>494.002</td>\n",
       "      <td>0.737</td>\n",
       "      <td>525.188</td>\n",
       "      <td>174.782</td>\n",
       "      <td>95925.518</td>\n",
       "      <td>2.572</td>\n",
       "      <td>0.564</td>\n",
       "      <td>0.190</td>\n",
       "    </tr>\n",
       "    <tr>\n",
       "      <td>std</td>\n",
       "      <td>5.599</td>\n",
       "      <td>3312497.419</td>\n",
       "      <td>19.115</td>\n",
       "      <td>0.896</td>\n",
       "      <td>1.010</td>\n",
       "      <td>6.638</td>\n",
       "      <td>13.335</td>\n",
       "      <td>4.911</td>\n",
       "      <td>4.305</td>\n",
       "      <td>0.952</td>\n",
       "      <td>...</td>\n",
       "      <td>8512.464</td>\n",
       "      <td>0.778</td>\n",
       "      <td>341.047</td>\n",
       "      <td>0.914</td>\n",
       "      <td>276.936</td>\n",
       "      <td>212.756</td>\n",
       "      <td>37684.851</td>\n",
       "      <td>1.794</td>\n",
       "      <td>0.105</td>\n",
       "      <td>0.072</td>\n",
       "    </tr>\n",
       "    <tr>\n",
       "      <td>min</td>\n",
       "      <td>0.000</td>\n",
       "      <td>12190.000</td>\n",
       "      <td>12.000</td>\n",
       "      <td>0.000</td>\n",
       "      <td>1.000</td>\n",
       "      <td>1.000</td>\n",
       "      <td>2.000</td>\n",
       "      <td>1.000</td>\n",
       "      <td>1.300</td>\n",
       "      <td>0.000</td>\n",
       "      <td>...</td>\n",
       "      <td>208.000</td>\n",
       "      <td>0.000</td>\n",
       "      <td>1.000</td>\n",
       "      <td>0.000</td>\n",
       "      <td>13.000</td>\n",
       "      <td>1.000</td>\n",
       "      <td>111.835</td>\n",
       "      <td>0.000</td>\n",
       "      <td>0.038</td>\n",
       "      <td>0.044</td>\n",
       "    </tr>\n",
       "    <tr>\n",
       "      <td>25%</td>\n",
       "      <td>6.000</td>\n",
       "      <td>3350000.000</td>\n",
       "      <td>39.300</td>\n",
       "      <td>1.000</td>\n",
       "      <td>2.600</td>\n",
       "      <td>5.000</td>\n",
       "      <td>18.280</td>\n",
       "      <td>2.000</td>\n",
       "      <td>7.000</td>\n",
       "      <td>0.000</td>\n",
       "      <td>...</td>\n",
       "      <td>10122.000</td>\n",
       "      <td>0.000</td>\n",
       "      <td>289.000</td>\n",
       "      <td>0.000</td>\n",
       "      <td>305.000</td>\n",
       "      <td>44.000</td>\n",
       "      <td>75740.480</td>\n",
       "      <td>1.000</td>\n",
       "      <td>0.494</td>\n",
       "      <td>0.136</td>\n",
       "    </tr>\n",
       "    <tr>\n",
       "      <td>50%</td>\n",
       "      <td>9.000</td>\n",
       "      <td>4500000.000</td>\n",
       "      <td>50.000</td>\n",
       "      <td>2.000</td>\n",
       "      <td>2.650</td>\n",
       "      <td>9.000</td>\n",
       "      <td>29.700</td>\n",
       "      <td>4.000</td>\n",
       "      <td>9.000</td>\n",
       "      <td>0.000</td>\n",
       "      <td>...</td>\n",
       "      <td>13360.000</td>\n",
       "      <td>0.000</td>\n",
       "      <td>457.000</td>\n",
       "      <td>0.000</td>\n",
       "      <td>510.000</td>\n",
       "      <td>92.000</td>\n",
       "      <td>94117.647</td>\n",
       "      <td>3.000</td>\n",
       "      <td>0.567</td>\n",
       "      <td>0.175</td>\n",
       "    </tr>\n",
       "    <tr>\n",
       "      <td>75%</td>\n",
       "      <td>14.000</td>\n",
       "      <td>6287251.000</td>\n",
       "      <td>65.300</td>\n",
       "      <td>3.000</td>\n",
       "      <td>2.700</td>\n",
       "      <td>16.000</td>\n",
       "      <td>40.000</td>\n",
       "      <td>8.000</td>\n",
       "      <td>11.200</td>\n",
       "      <td>1.000</td>\n",
       "      <td>...</td>\n",
       "      <td>16527.000</td>\n",
       "      <td>1.000</td>\n",
       "      <td>616.000</td>\n",
       "      <td>1.000</td>\n",
       "      <td>733.000</td>\n",
       "      <td>222.000</td>\n",
       "      <td>112359.551</td>\n",
       "      <td>4.000</td>\n",
       "      <td>0.636</td>\n",
       "      <td>0.234</td>\n",
       "    </tr>\n",
       "    <tr>\n",
       "      <td>max</td>\n",
       "      <td>50.000</td>\n",
       "      <td>53000000.000</td>\n",
       "      <td>112.400</td>\n",
       "      <td>7.000</td>\n",
       "      <td>100.000</td>\n",
       "      <td>60.000</td>\n",
       "      <td>101.000</td>\n",
       "      <td>33.000</td>\n",
       "      <td>55.700</td>\n",
       "      <td>5.000</td>\n",
       "      <td>...</td>\n",
       "      <td>65968.000</td>\n",
       "      <td>3.000</td>\n",
       "      <td>3190.000</td>\n",
       "      <td>3.000</td>\n",
       "      <td>1344.000</td>\n",
       "      <td>1580.000</td>\n",
       "      <td>848484.848</td>\n",
       "      <td>6.000</td>\n",
       "      <td>1.000</td>\n",
       "      <td>0.788</td>\n",
       "    </tr>\n",
       "  </tbody>\n",
       "</table>\n",
       "<p>8 rows × 21 columns</p>\n",
       "</div>"
      ],
      "text/plain": [
       "       total_images   last_price  total_area     rooms  ceiling_height  \\\n",
       "count     22385.000    22385.000   22385.000 22385.000       22385.000   \n",
       "mean          9.771  5276473.506      54.169     1.944           2.709   \n",
       "std           5.599  3312497.419      19.115     0.896           1.010   \n",
       "min           0.000    12190.000      12.000     0.000           1.000   \n",
       "25%           6.000  3350000.000      39.300     1.000           2.600   \n",
       "50%           9.000  4500000.000      50.000     2.000           2.650   \n",
       "75%          14.000  6287251.000      65.300     3.000           2.700   \n",
       "max          50.000 53000000.000     112.400     7.000         100.000   \n",
       "\n",
       "       floors_total  living_area     floor  kitchen_area   balcony  ...  \\\n",
       "count     22304.000    20617.000 22385.000     20226.000 22385.000  ...   \n",
       "mean         10.793       30.954     5.919         9.879     0.596  ...   \n",
       "std           6.638       13.335     4.911         4.305     0.952  ...   \n",
       "min           1.000        2.000     1.000         1.300     0.000  ...   \n",
       "25%           5.000       18.280     2.000         7.000     0.000  ...   \n",
       "50%           9.000       29.700     4.000         9.000     0.000  ...   \n",
       "75%          16.000       40.000     8.000        11.200     1.000  ...   \n",
       "max          60.000      101.000    33.000        55.700     5.000  ...   \n",
       "\n",
       "       cityCenters_nearest  parks_around3000  parks_nearest  ponds_around3000  \\\n",
       "count            16915.000         16916.000       7243.000         16916.000   \n",
       "mean             14646.385             0.578        494.002             0.737   \n",
       "std               8512.464             0.778        341.047             0.914   \n",
       "min                208.000             0.000          1.000             0.000   \n",
       "25%              10122.000             0.000        289.000             0.000   \n",
       "50%              13360.000             0.000        457.000             0.000   \n",
       "75%              16527.000             1.000        616.000             1.000   \n",
       "max              65968.000             3.000       3190.000             3.000   \n",
       "\n",
       "       ponds_nearest  days_exposition   m2_price  weekday_exposition  \\\n",
       "count       8277.000        19536.000  22385.000           22385.000   \n",
       "mean         525.188          174.782  95925.518               2.572   \n",
       "std          276.936          212.756  37684.851               1.794   \n",
       "min           13.000            1.000    111.835               0.000   \n",
       "25%          305.000           44.000  75740.480               1.000   \n",
       "50%          510.000           92.000  94117.647               3.000   \n",
       "75%          733.000          222.000 112359.551               4.000   \n",
       "max         1344.000         1580.000 848484.848               6.000   \n",
       "\n",
       "       ratio_living_total_area  ratio_kitchen_total_area  \n",
       "count                20617.000                 20226.000  \n",
       "mean                     0.564                     0.190  \n",
       "std                      0.105                     0.072  \n",
       "min                      0.038                     0.044  \n",
       "25%                      0.494                     0.136  \n",
       "50%                      0.567                     0.175  \n",
       "75%                      0.636                     0.234  \n",
       "max                      1.000                     0.788  \n",
       "\n",
       "[8 rows x 21 columns]"
      ]
     },
     "execution_count": 31,
     "metadata": {},
     "output_type": "execute_result"
    }
   ],
   "source": [
    "normal_data.describe()"
   ]
  },
  {
   "cell_type": "markdown",
   "metadata": {},
   "source": [
    "Мы отбросили 1314 строк, которые относились к слишком большим по площади объектам. Общая картина normal_data значительно отличается от изначального файла data: здесь уже нет объектов с 19 комнатами и ценой в 763 млн рублей, значит мы справедливо отбросили аномально большие по площади объекты."
   ]
  },
  {
   "cell_type": "markdown",
   "metadata": {},
   "source": [
    "### Цена квартиры"
   ]
  },
  {
   "cell_type": "code",
   "execution_count": 32,
   "metadata": {},
   "outputs": [
    {
     "data": {
      "text/plain": [
       "count      22385.000\n",
       "mean     5276473.506\n",
       "std      3312497.419\n",
       "min        12190.000\n",
       "25%      3350000.000\n",
       "50%      4500000.000\n",
       "75%      6287251.000\n",
       "max     53000000.000\n",
       "Name: last_price, dtype: float64"
      ]
     },
     "execution_count": 32,
     "metadata": {},
     "output_type": "execute_result"
    }
   ],
   "source": [
    "normal_data['last_price'].describe()"
   ]
  },
  {
   "cell_type": "code",
   "execution_count": 33,
   "metadata": {},
   "outputs": [
    {
     "data": {
      "text/plain": [
       "<matplotlib.axes._subplots.AxesSubplot at 0x7f7844af5510>"
      ]
     },
     "execution_count": 33,
     "metadata": {},
     "output_type": "execute_result"
    },
    {
     "data": {
      "image/png": "[encoded data removed]",
      "text/plain": [
       "<Figure size 720x360 with 1 Axes>"
      ]
     },
     "metadata": {
      "needs_background": "light"
     },
     "output_type": "display_data"
    }
   ],
   "source": [
    "normal_data.plot(y = 'last_price', kind = 'hist', bins = 200, grid=True, range = (0,150000000), figsize = (10,5))"
   ]
  },
  {
   "cell_type": "code",
   "execution_count": 34,
   "metadata": {},
   "outputs": [
    {
     "data": {
      "text/plain": [
       "(0, 15000000)"
      ]
     },
     "execution_count": 34,
     "metadata": {},
     "output_type": "execute_result"
    },
    {
     "data": {
      "image/png": "[encoded data removed]",
      "text/plain": [
       "<Figure size 432x288 with 1 Axes>"
      ]
     },
     "metadata": {
      "needs_background": "light"
     },
     "output_type": "display_data"
    }
   ],
   "source": [
    "normal_data.boxplot(column='last_price')\n",
    "plt.ylim(0, 15000000)"
   ]
  },
  {
   "cell_type": "code",
   "execution_count": 35,
   "metadata": {},
   "outputs": [
    {
     "data": {
      "text/plain": [
       "10693127.5"
      ]
     },
     "execution_count": 35,
     "metadata": {},
     "output_type": "execute_result"
    }
   ],
   "source": [
    "Q75=6287251\n",
    "Q25=3350000\n",
    "max_boxplot = Q75+(1.5*(Q75-Q25))\n",
    "max_boxplot"
   ]
  },
  {
   "cell_type": "markdown",
   "metadata": {},
   "source": [
    "Межквартильный размах цены квартиры между 3 350 000 и 6 287 251 рублей, медиана равна 4,5 млн, среднее значение - чуть более 5 276 473 рублей, отличие медианы м среднего довольно большое. Стоит удалить выбросы за пределы усов диаграммы размаха."
   ]
  },
  {
   "cell_type": "code",
   "execution_count": 36,
   "metadata": {},
   "outputs": [
    {
     "data": {
      "text/plain": [
       "<matplotlib.axes._subplots.AxesSubplot at 0x7f7843608210>"
      ]
     },
     "execution_count": 36,
     "metadata": {},
     "output_type": "execute_result"
    },
    {
     "data": {
      "image/png": "[encoded data removed]",
      "text/plain": [
       "<Figure size 576x360 with 1 Axes>"
      ]
     },
     "metadata": {
      "needs_background": "light"
     },
     "output_type": "display_data"
    }
   ],
   "source": [
    "normal_data=normal_data.query('last_price < 10693127.5') # удалим выбросы по цене, чтобы убрать слишком дорогие объекты\n",
    "normal_data.plot(y ='last_price', kind ='hist', bins=100, grid=True, figsize = (8,5))"
   ]
  },
  {
   "cell_type": "code",
   "execution_count": 37,
   "metadata": {},
   "outputs": [
    {
     "data": {
      "text/html": [
       "<div>\n",
       "<style scoped>\n",
       "    .dataframe tbody tr th:only-of-type {\n",
       "        vertical-align: middle;\n",
       "    }\n",
       "\n",
       "    .dataframe tbody tr th {\n",
       "        vertical-align: top;\n",
       "    }\n",
       "\n",
       "    .dataframe thead th {\n",
       "        text-align: right;\n",
       "    }\n",
       "</style>\n",
       "<table border=\"1\" class=\"dataframe\">\n",
       "  <thead>\n",
       "    <tr style=\"text-align: right;\">\n",
       "      <th></th>\n",
       "      <th>total_images</th>\n",
       "      <th>last_price</th>\n",
       "      <th>total_area</th>\n",
       "      <th>rooms</th>\n",
       "      <th>ceiling_height</th>\n",
       "      <th>floors_total</th>\n",
       "      <th>living_area</th>\n",
       "      <th>floor</th>\n",
       "      <th>kitchen_area</th>\n",
       "      <th>balcony</th>\n",
       "      <th>...</th>\n",
       "      <th>cityCenters_nearest</th>\n",
       "      <th>parks_around3000</th>\n",
       "      <th>parks_nearest</th>\n",
       "      <th>ponds_around3000</th>\n",
       "      <th>ponds_nearest</th>\n",
       "      <th>days_exposition</th>\n",
       "      <th>m2_price</th>\n",
       "      <th>weekday_exposition</th>\n",
       "      <th>ratio_living_total_area</th>\n",
       "      <th>ratio_kitchen_total_area</th>\n",
       "    </tr>\n",
       "  </thead>\n",
       "  <tbody>\n",
       "    <tr>\n",
       "      <td>count</td>\n",
       "      <td>21084.000</td>\n",
       "      <td>21084.000</td>\n",
       "      <td>21084.000</td>\n",
       "      <td>21084.000</td>\n",
       "      <td>21084.000</td>\n",
       "      <td>21012.000</td>\n",
       "      <td>19446.000</td>\n",
       "      <td>21084.000</td>\n",
       "      <td>19059.000</td>\n",
       "      <td>21084.000</td>\n",
       "      <td>...</td>\n",
       "      <td>15629.000</td>\n",
       "      <td>15630.000</td>\n",
       "      <td>6436.000</td>\n",
       "      <td>15630.000</td>\n",
       "      <td>7461.000</td>\n",
       "      <td>18547.000</td>\n",
       "      <td>21084.000</td>\n",
       "      <td>21084.000</td>\n",
       "      <td>19446.000</td>\n",
       "      <td>19059.000</td>\n",
       "    </tr>\n",
       "    <tr>\n",
       "      <td>mean</td>\n",
       "      <td>9.644</td>\n",
       "      <td>4691541.006</td>\n",
       "      <td>52.027</td>\n",
       "      <td>1.897</td>\n",
       "      <td>2.694</td>\n",
       "      <td>10.768</td>\n",
       "      <td>29.834</td>\n",
       "      <td>5.887</td>\n",
       "      <td>9.471</td>\n",
       "      <td>0.588</td>\n",
       "      <td>...</td>\n",
       "      <td>15140.859</td>\n",
       "      <td>0.550</td>\n",
       "      <td>487.560</td>\n",
       "      <td>0.698</td>\n",
       "      <td>532.318</td>\n",
       "      <td>170.777</td>\n",
       "      <td>91319.574</td>\n",
       "      <td>2.577</td>\n",
       "      <td>0.564</td>\n",
       "      <td>0.190</td>\n",
       "    </tr>\n",
       "    <tr>\n",
       "      <td>std</td>\n",
       "      <td>5.510</td>\n",
       "      <td>2029076.504</td>\n",
       "      <td>17.182</td>\n",
       "      <td>0.883</td>\n",
       "      <td>0.792</td>\n",
       "      <td>6.636</td>\n",
       "      <td>12.469</td>\n",
       "      <td>4.911</td>\n",
       "      <td>3.655</td>\n",
       "      <td>0.931</td>\n",
       "      <td>...</td>\n",
       "      <td>8501.377</td>\n",
       "      <td>0.760</td>\n",
       "      <td>323.244</td>\n",
       "      <td>0.881</td>\n",
       "      <td>276.945</td>\n",
       "      <td>208.166</td>\n",
       "      <td>29059.394</td>\n",
       "      <td>1.795</td>\n",
       "      <td>0.104</td>\n",
       "      <td>0.071</td>\n",
       "    </tr>\n",
       "    <tr>\n",
       "      <td>min</td>\n",
       "      <td>0.000</td>\n",
       "      <td>12190.000</td>\n",
       "      <td>12.000</td>\n",
       "      <td>0.000</td>\n",
       "      <td>1.000</td>\n",
       "      <td>1.000</td>\n",
       "      <td>2.000</td>\n",
       "      <td>1.000</td>\n",
       "      <td>1.300</td>\n",
       "      <td>0.000</td>\n",
       "      <td>...</td>\n",
       "      <td>208.000</td>\n",
       "      <td>0.000</td>\n",
       "      <td>1.000</td>\n",
       "      <td>0.000</td>\n",
       "      <td>16.000</td>\n",
       "      <td>1.000</td>\n",
       "      <td>111.835</td>\n",
       "      <td>0.000</td>\n",
       "      <td>0.038</td>\n",
       "      <td>0.044</td>\n",
       "    </tr>\n",
       "    <tr>\n",
       "      <td>25%</td>\n",
       "      <td>6.000</td>\n",
       "      <td>3300000.000</td>\n",
       "      <td>38.800</td>\n",
       "      <td>1.000</td>\n",
       "      <td>2.600</td>\n",
       "      <td>5.000</td>\n",
       "      <td>18.000</td>\n",
       "      <td>2.000</td>\n",
       "      <td>7.000</td>\n",
       "      <td>0.000</td>\n",
       "      <td>...</td>\n",
       "      <td>10807.000</td>\n",
       "      <td>0.000</td>\n",
       "      <td>290.750</td>\n",
       "      <td>0.000</td>\n",
       "      <td>317.000</td>\n",
       "      <td>43.000</td>\n",
       "      <td>74285.714</td>\n",
       "      <td>1.000</td>\n",
       "      <td>0.494</td>\n",
       "      <td>0.136</td>\n",
       "    </tr>\n",
       "    <tr>\n",
       "      <td>50%</td>\n",
       "      <td>9.000</td>\n",
       "      <td>4350000.000</td>\n",
       "      <td>48.200</td>\n",
       "      <td>2.000</td>\n",
       "      <td>2.650</td>\n",
       "      <td>9.000</td>\n",
       "      <td>29.000</td>\n",
       "      <td>4.000</td>\n",
       "      <td>9.000</td>\n",
       "      <td>0.000</td>\n",
       "      <td>...</td>\n",
       "      <td>13743.000</td>\n",
       "      <td>0.000</td>\n",
       "      <td>456.000</td>\n",
       "      <td>0.000</td>\n",
       "      <td>520.000</td>\n",
       "      <td>90.000</td>\n",
       "      <td>92187.500</td>\n",
       "      <td>3.000</td>\n",
       "      <td>0.567</td>\n",
       "      <td>0.176</td>\n",
       "    </tr>\n",
       "    <tr>\n",
       "      <td>75%</td>\n",
       "      <td>13.000</td>\n",
       "      <td>5850000.000</td>\n",
       "      <td>62.200</td>\n",
       "      <td>3.000</td>\n",
       "      <td>2.650</td>\n",
       "      <td>16.000</td>\n",
       "      <td>38.700</td>\n",
       "      <td>8.000</td>\n",
       "      <td>11.000</td>\n",
       "      <td>1.000</td>\n",
       "      <td>...</td>\n",
       "      <td>16788.000</td>\n",
       "      <td>1.000</td>\n",
       "      <td>613.000</td>\n",
       "      <td>1.000</td>\n",
       "      <td>741.000</td>\n",
       "      <td>217.000</td>\n",
       "      <td>108374.240</td>\n",
       "      <td>4.000</td>\n",
       "      <td>0.636</td>\n",
       "      <td>0.235</td>\n",
       "    </tr>\n",
       "    <tr>\n",
       "      <td>max</td>\n",
       "      <td>39.000</td>\n",
       "      <td>10690000.000</td>\n",
       "      <td>112.200</td>\n",
       "      <td>6.000</td>\n",
       "      <td>32.000</td>\n",
       "      <td>60.000</td>\n",
       "      <td>87.000</td>\n",
       "      <td>33.000</td>\n",
       "      <td>50.000</td>\n",
       "      <td>5.000</td>\n",
       "      <td>...</td>\n",
       "      <td>65968.000</td>\n",
       "      <td>3.000</td>\n",
       "      <td>3190.000</td>\n",
       "      <td>3.000</td>\n",
       "      <td>1344.000</td>\n",
       "      <td>1580.000</td>\n",
       "      <td>312240.000</td>\n",
       "      <td>6.000</td>\n",
       "      <td>1.000</td>\n",
       "      <td>0.788</td>\n",
       "    </tr>\n",
       "  </tbody>\n",
       "</table>\n",
       "<p>8 rows × 21 columns</p>\n",
       "</div>"
      ],
      "text/plain": [
       "       total_images   last_price  total_area     rooms  ceiling_height  \\\n",
       "count     21084.000    21084.000   21084.000 21084.000       21084.000   \n",
       "mean          9.644  4691541.006      52.027     1.897           2.694   \n",
       "std           5.510  2029076.504      17.182     0.883           0.792   \n",
       "min           0.000    12190.000      12.000     0.000           1.000   \n",
       "25%           6.000  3300000.000      38.800     1.000           2.600   \n",
       "50%           9.000  4350000.000      48.200     2.000           2.650   \n",
       "75%          13.000  5850000.000      62.200     3.000           2.650   \n",
       "max          39.000 10690000.000     112.200     6.000          32.000   \n",
       "\n",
       "       floors_total  living_area     floor  kitchen_area   balcony  ...  \\\n",
       "count     21012.000    19446.000 21084.000     19059.000 21084.000  ...   \n",
       "mean         10.768       29.834     5.887         9.471     0.588  ...   \n",
       "std           6.636       12.469     4.911         3.655     0.931  ...   \n",
       "min           1.000        2.000     1.000         1.300     0.000  ...   \n",
       "25%           5.000       18.000     2.000         7.000     0.000  ...   \n",
       "50%           9.000       29.000     4.000         9.000     0.000  ...   \n",
       "75%          16.000       38.700     8.000        11.000     1.000  ...   \n",
       "max          60.000       87.000    33.000        50.000     5.000  ...   \n",
       "\n",
       "       cityCenters_nearest  parks_around3000  parks_nearest  ponds_around3000  \\\n",
       "count            15629.000         15630.000       6436.000         15630.000   \n",
       "mean             15140.859             0.550        487.560             0.698   \n",
       "std               8501.377             0.760        323.244             0.881   \n",
       "min                208.000             0.000          1.000             0.000   \n",
       "25%              10807.000             0.000        290.750             0.000   \n",
       "50%              13743.000             0.000        456.000             0.000   \n",
       "75%              16788.000             1.000        613.000             1.000   \n",
       "max              65968.000             3.000       3190.000             3.000   \n",
       "\n",
       "       ponds_nearest  days_exposition   m2_price  weekday_exposition  \\\n",
       "count       7461.000        18547.000  21084.000           21084.000   \n",
       "mean         532.318          170.777  91319.574               2.577   \n",
       "std          276.945          208.166  29059.394               1.795   \n",
       "min           16.000            1.000    111.835               0.000   \n",
       "25%          317.000           43.000  74285.714               1.000   \n",
       "50%          520.000           90.000  92187.500               3.000   \n",
       "75%          741.000          217.000 108374.240               4.000   \n",
       "max         1344.000         1580.000 312240.000               6.000   \n",
       "\n",
       "       ratio_living_total_area  ratio_kitchen_total_area  \n",
       "count                19446.000                 19059.000  \n",
       "mean                     0.564                     0.190  \n",
       "std                      0.104                     0.071  \n",
       "min                      0.038                     0.044  \n",
       "25%                      0.494                     0.136  \n",
       "50%                      0.567                     0.176  \n",
       "75%                      0.636                     0.235  \n",
       "max                      1.000                     0.788  \n",
       "\n",
       "[8 rows x 21 columns]"
      ]
     },
     "execution_count": 37,
     "metadata": {},
     "output_type": "execute_result"
    }
   ],
   "source": [
    "normal_data.describe()"
   ]
  },
  {
   "cell_type": "markdown",
   "metadata": {},
   "source": [
    "Благодаря отброшенным выбросам мы получили еще более адекватный набор данных. Построение гистограммы позволило нам увидеть распределение данных, близкое к распределению по Гауссу. Однако, распределение не везде равномерное. Стоит продолжить работу с датасетом"
   ]
  },
  {
   "cell_type": "markdown",
   "metadata": {},
   "source": [
    "### Число комнат"
   ]
  },
  {
   "cell_type": "code",
   "execution_count": 38,
   "metadata": {},
   "outputs": [
    {
     "data": {
      "text/plain": [
       "count   21084.000\n",
       "mean        1.897\n",
       "std         0.883\n",
       "min         0.000\n",
       "25%         1.000\n",
       "50%         2.000\n",
       "75%         3.000\n",
       "max         6.000\n",
       "Name: rooms, dtype: float64"
      ]
     },
     "execution_count": 38,
     "metadata": {},
     "output_type": "execute_result"
    }
   ],
   "source": [
    "normal_data['rooms'].describe(include='all')"
   ]
  },
  {
   "cell_type": "code",
   "execution_count": 39,
   "metadata": {},
   "outputs": [
    {
     "data": {
      "text/plain": [
       "<matplotlib.axes._subplots.AxesSubplot at 0x7f7843042f10>"
      ]
     },
     "execution_count": 39,
     "metadata": {},
     "output_type": "execute_result"
    },
    {
     "data": {
      "image/png": "[encoded data removed]",
      "text/plain": [
       "<Figure size 576x360 with 1 Axes>"
      ]
     },
     "metadata": {
      "needs_background": "light"
     },
     "output_type": "display_data"
    }
   ],
   "source": [
    "normal_data.plot(y ='rooms', kind ='hist', bins=30, grid=True, figsize = (8,5))"
   ]
  },
  {
   "cell_type": "code",
   "execution_count": 40,
   "metadata": {},
   "outputs": [
    {
     "data": {
      "text/plain": [
       "(0, 10)"
      ]
     },
     "execution_count": 40,
     "metadata": {},
     "output_type": "execute_result"
    },
    {
     "data": {
      "image/png": "[encoded data removed]",
      "text/plain": [
       "<Figure size 432x288 with 1 Axes>"
      ]
     },
     "metadata": {
      "needs_background": "light"
     },
     "output_type": "display_data"
    }
   ],
   "source": [
    "normal_data.boxplot(column='rooms')\n",
    "plt.ylim(0, 10)"
   ]
  },
  {
   "cell_type": "markdown",
   "metadata": {},
   "source": [
    "Количество комнат в общей выборке находилось в пределах от 0 до 19, обновленный датасет показывает более реальную картину - от 0 до 6. При этом мы выяснили, что число 0 - не является аномалией, а относится к особым видам недвижимости - апартаментам или студиям, где комнаты не выделяются.\n",
    "\n",
    "По гистограмме видно, что наибольшее число квартир однокомнатные. Согласно boxplot межквартильный размах в данном столбце - от 1 до 3, а все квартиры с комнатами числом более 6 стоит считать выбросами, однако в нашем случае в датасете уже нет таких значений."
   ]
  },
  {
   "cell_type": "markdown",
   "metadata": {},
   "source": [
    "### Высота потолков"
   ]
  },
  {
   "cell_type": "code",
   "execution_count": 41,
   "metadata": {},
   "outputs": [
    {
     "data": {
      "text/plain": [
       "count   21084.000\n",
       "mean        2.694\n",
       "std         0.792\n",
       "min         1.000\n",
       "25%         2.600\n",
       "50%         2.650\n",
       "75%         2.650\n",
       "max        32.000\n",
       "Name: ceiling_height, dtype: float64"
      ]
     },
     "execution_count": 41,
     "metadata": {},
     "output_type": "execute_result"
    }
   ],
   "source": [
    "normal_data['ceiling_height'].describe()"
   ]
  },
  {
   "cell_type": "code",
   "execution_count": 42,
   "metadata": {},
   "outputs": [
    {
     "data": {
      "text/plain": [
       "<matplotlib.axes._subplots.AxesSubplot at 0x7f7842e73e10>"
      ]
     },
     "execution_count": 42,
     "metadata": {},
     "output_type": "execute_result"
    },
    {
     "data": {
      "image/png": "[encoded data removed]",
      "text/plain": [
       "<Figure size 576x360 with 1 Axes>"
      ]
     },
     "metadata": {
      "needs_background": "light"
     },
     "output_type": "display_data"
    }
   ],
   "source": [
    "normal_data.plot(y ='ceiling_height', kind ='hist',range = (2, 5),  bins=30, grid=True, figsize = (8,5))"
   ]
  },
  {
   "cell_type": "code",
   "execution_count": 43,
   "metadata": {},
   "outputs": [
    {
     "data": {
      "text/plain": [
       "(1, 3)"
      ]
     },
     "execution_count": 43,
     "metadata": {},
     "output_type": "execute_result"
    },
    {
     "data": {
      "image/png": "[encoded data removed]",
      "text/plain": [
       "<Figure size 432x288 with 1 Axes>"
      ]
     },
     "metadata": {
      "needs_background": "light"
     },
     "output_type": "display_data"
    }
   ],
   "source": [
    "normal_data.boxplot(column='ceiling_height')\n",
    "plt.ylim(1, 3)"
   ]
  },
  {
   "cell_type": "code",
   "execution_count": 44,
   "metadata": {},
   "outputs": [
    {
     "data": {
      "text/plain": [
       "2.7249999999999996"
      ]
     },
     "execution_count": 44,
     "metadata": {},
     "output_type": "execute_result"
    }
   ],
   "source": [
    "Q75=2.650\n",
    "Q25=2.600\n",
    "max_boxplot = Q75+(1.5*(Q75-Q25))\n",
    "max_boxplot"
   ]
  },
  {
   "cell_type": "markdown",
   "metadata": {},
   "source": [
    "Высота потолков в среднем составляет 2.694 м, медиана - 2,65. Согласно boxplot и расчетам, стоит считать выбросами все значения, свыше 2,725, однако важно учитывать особенности локации исследования. Питер славится своими дворами-колодцами, одна из причин их эффекта - высота домов, связанная с высокими потолками. Частая высота потолков в квартирах и бывших коммуналках старого центра варьируется в пределах 3-3,2 метра (на гистограмме мы видим эти объекты в повышении после отметки 3). Предлагаю считать выбросами значения выше 3,2, это поможет нам сохранить в датасете объекты старого центра."
   ]
  },
  {
   "cell_type": "code",
   "execution_count": 45,
   "metadata": {},
   "outputs": [
    {
     "data": {
      "text/html": [
       "<div>\n",
       "<style scoped>\n",
       "    .dataframe tbody tr th:only-of-type {\n",
       "        vertical-align: middle;\n",
       "    }\n",
       "\n",
       "    .dataframe tbody tr th {\n",
       "        vertical-align: top;\n",
       "    }\n",
       "\n",
       "    .dataframe thead th {\n",
       "        text-align: right;\n",
       "    }\n",
       "</style>\n",
       "<table border=\"1\" class=\"dataframe\">\n",
       "  <thead>\n",
       "    <tr style=\"text-align: right;\">\n",
       "      <th></th>\n",
       "      <th>total_images</th>\n",
       "      <th>last_price</th>\n",
       "      <th>total_area</th>\n",
       "      <th>rooms</th>\n",
       "      <th>ceiling_height</th>\n",
       "      <th>floors_total</th>\n",
       "      <th>living_area</th>\n",
       "      <th>floor</th>\n",
       "      <th>kitchen_area</th>\n",
       "      <th>balcony</th>\n",
       "      <th>...</th>\n",
       "      <th>cityCenters_nearest</th>\n",
       "      <th>parks_around3000</th>\n",
       "      <th>parks_nearest</th>\n",
       "      <th>ponds_around3000</th>\n",
       "      <th>ponds_nearest</th>\n",
       "      <th>days_exposition</th>\n",
       "      <th>m2_price</th>\n",
       "      <th>weekday_exposition</th>\n",
       "      <th>ratio_living_total_area</th>\n",
       "      <th>ratio_kitchen_total_area</th>\n",
       "    </tr>\n",
       "  </thead>\n",
       "  <tbody>\n",
       "    <tr>\n",
       "      <td>count</td>\n",
       "      <td>20695.000</td>\n",
       "      <td>20695.000</td>\n",
       "      <td>20695.000</td>\n",
       "      <td>20695.000</td>\n",
       "      <td>20695.000</td>\n",
       "      <td>20623.000</td>\n",
       "      <td>19078.000</td>\n",
       "      <td>20695.000</td>\n",
       "      <td>18705.000</td>\n",
       "      <td>20695.000</td>\n",
       "      <td>...</td>\n",
       "      <td>15272.000</td>\n",
       "      <td>15273.000</td>\n",
       "      <td>6184.000</td>\n",
       "      <td>15273.000</td>\n",
       "      <td>7222.000</td>\n",
       "      <td>18234.000</td>\n",
       "      <td>20695.000</td>\n",
       "      <td>20695.000</td>\n",
       "      <td>19078.000</td>\n",
       "      <td>18705.000</td>\n",
       "    </tr>\n",
       "    <tr>\n",
       "      <td>mean</td>\n",
       "      <td>9.634</td>\n",
       "      <td>4647585.598</td>\n",
       "      <td>51.713</td>\n",
       "      <td>1.887</td>\n",
       "      <td>2.653</td>\n",
       "      <td>10.864</td>\n",
       "      <td>29.604</td>\n",
       "      <td>5.933</td>\n",
       "      <td>9.427</td>\n",
       "      <td>0.595</td>\n",
       "      <td>...</td>\n",
       "      <td>15325.211</td>\n",
       "      <td>0.535</td>\n",
       "      <td>490.462</td>\n",
       "      <td>0.685</td>\n",
       "      <td>534.557</td>\n",
       "      <td>170.009</td>\n",
       "      <td>91050.132</td>\n",
       "      <td>2.578</td>\n",
       "      <td>0.564</td>\n",
       "      <td>0.190</td>\n",
       "    </tr>\n",
       "    <tr>\n",
       "      <td>std</td>\n",
       "      <td>5.505</td>\n",
       "      <td>2000415.245</td>\n",
       "      <td>16.934</td>\n",
       "      <td>0.877</td>\n",
       "      <td>0.131</td>\n",
       "      <td>6.643</td>\n",
       "      <td>12.283</td>\n",
       "      <td>4.930</td>\n",
       "      <td>3.610</td>\n",
       "      <td>0.934</td>\n",
       "      <td>...</td>\n",
       "      <td>8408.293</td>\n",
       "      <td>0.748</td>\n",
       "      <td>326.166</td>\n",
       "      <td>0.870</td>\n",
       "      <td>276.563</td>\n",
       "      <td>207.758</td>\n",
       "      <td>29007.154</td>\n",
       "      <td>1.798</td>\n",
       "      <td>0.104</td>\n",
       "      <td>0.071</td>\n",
       "    </tr>\n",
       "    <tr>\n",
       "      <td>min</td>\n",
       "      <td>0.000</td>\n",
       "      <td>12190.000</td>\n",
       "      <td>12.000</td>\n",
       "      <td>0.000</td>\n",
       "      <td>1.000</td>\n",
       "      <td>1.000</td>\n",
       "      <td>2.000</td>\n",
       "      <td>1.000</td>\n",
       "      <td>1.300</td>\n",
       "      <td>0.000</td>\n",
       "      <td>...</td>\n",
       "      <td>329.000</td>\n",
       "      <td>0.000</td>\n",
       "      <td>1.000</td>\n",
       "      <td>0.000</td>\n",
       "      <td>16.000</td>\n",
       "      <td>1.000</td>\n",
       "      <td>111.835</td>\n",
       "      <td>0.000</td>\n",
       "      <td>0.038</td>\n",
       "      <td>0.044</td>\n",
       "    </tr>\n",
       "    <tr>\n",
       "      <td>25%</td>\n",
       "      <td>6.000</td>\n",
       "      <td>3290000.000</td>\n",
       "      <td>38.595</td>\n",
       "      <td>1.000</td>\n",
       "      <td>2.600</td>\n",
       "      <td>5.000</td>\n",
       "      <td>18.000</td>\n",
       "      <td>2.000</td>\n",
       "      <td>7.000</td>\n",
       "      <td>0.000</td>\n",
       "      <td>...</td>\n",
       "      <td>10986.500</td>\n",
       "      <td>0.000</td>\n",
       "      <td>293.000</td>\n",
       "      <td>0.000</td>\n",
       "      <td>320.000</td>\n",
       "      <td>43.000</td>\n",
       "      <td>73931.805</td>\n",
       "      <td>1.000</td>\n",
       "      <td>0.493</td>\n",
       "      <td>0.136</td>\n",
       "    </tr>\n",
       "    <tr>\n",
       "      <td>50%</td>\n",
       "      <td>9.000</td>\n",
       "      <td>4300000.000</td>\n",
       "      <td>48.000</td>\n",
       "      <td>2.000</td>\n",
       "      <td>2.650</td>\n",
       "      <td>9.000</td>\n",
       "      <td>28.900</td>\n",
       "      <td>4.000</td>\n",
       "      <td>8.900</td>\n",
       "      <td>0.000</td>\n",
       "      <td>...</td>\n",
       "      <td>13846.000</td>\n",
       "      <td>0.000</td>\n",
       "      <td>458.000</td>\n",
       "      <td>0.000</td>\n",
       "      <td>522.000</td>\n",
       "      <td>90.000</td>\n",
       "      <td>92000.000</td>\n",
       "      <td>3.000</td>\n",
       "      <td>0.567</td>\n",
       "      <td>0.176</td>\n",
       "    </tr>\n",
       "    <tr>\n",
       "      <td>75%</td>\n",
       "      <td>13.000</td>\n",
       "      <td>5799000.000</td>\n",
       "      <td>62.000</td>\n",
       "      <td>3.000</td>\n",
       "      <td>2.650</td>\n",
       "      <td>16.000</td>\n",
       "      <td>38.000</td>\n",
       "      <td>8.000</td>\n",
       "      <td>11.000</td>\n",
       "      <td>1.000</td>\n",
       "      <td>...</td>\n",
       "      <td>16840.000</td>\n",
       "      <td>1.000</td>\n",
       "      <td>615.000</td>\n",
       "      <td>1.000</td>\n",
       "      <td>743.000</td>\n",
       "      <td>216.000</td>\n",
       "      <td>108198.970</td>\n",
       "      <td>4.000</td>\n",
       "      <td>0.636</td>\n",
       "      <td>0.236</td>\n",
       "    </tr>\n",
       "    <tr>\n",
       "      <td>max</td>\n",
       "      <td>39.000</td>\n",
       "      <td>10690000.000</td>\n",
       "      <td>112.200</td>\n",
       "      <td>6.000</td>\n",
       "      <td>3.200</td>\n",
       "      <td>60.000</td>\n",
       "      <td>87.000</td>\n",
       "      <td>33.000</td>\n",
       "      <td>50.000</td>\n",
       "      <td>5.000</td>\n",
       "      <td>...</td>\n",
       "      <td>65968.000</td>\n",
       "      <td>3.000</td>\n",
       "      <td>3190.000</td>\n",
       "      <td>3.000</td>\n",
       "      <td>1344.000</td>\n",
       "      <td>1580.000</td>\n",
       "      <td>312240.000</td>\n",
       "      <td>6.000</td>\n",
       "      <td>1.000</td>\n",
       "      <td>0.788</td>\n",
       "    </tr>\n",
       "  </tbody>\n",
       "</table>\n",
       "<p>8 rows × 21 columns</p>\n",
       "</div>"
      ],
      "text/plain": [
       "       total_images   last_price  total_area     rooms  ceiling_height  \\\n",
       "count     20695.000    20695.000   20695.000 20695.000       20695.000   \n",
       "mean          9.634  4647585.598      51.713     1.887           2.653   \n",
       "std           5.505  2000415.245      16.934     0.877           0.131   \n",
       "min           0.000    12190.000      12.000     0.000           1.000   \n",
       "25%           6.000  3290000.000      38.595     1.000           2.600   \n",
       "50%           9.000  4300000.000      48.000     2.000           2.650   \n",
       "75%          13.000  5799000.000      62.000     3.000           2.650   \n",
       "max          39.000 10690000.000     112.200     6.000           3.200   \n",
       "\n",
       "       floors_total  living_area     floor  kitchen_area   balcony  ...  \\\n",
       "count     20623.000    19078.000 20695.000     18705.000 20695.000  ...   \n",
       "mean         10.864       29.604     5.933         9.427     0.595  ...   \n",
       "std           6.643       12.283     4.930         3.610     0.934  ...   \n",
       "min           1.000        2.000     1.000         1.300     0.000  ...   \n",
       "25%           5.000       18.000     2.000         7.000     0.000  ...   \n",
       "50%           9.000       28.900     4.000         8.900     0.000  ...   \n",
       "75%          16.000       38.000     8.000        11.000     1.000  ...   \n",
       "max          60.000       87.000    33.000        50.000     5.000  ...   \n",
       "\n",
       "       cityCenters_nearest  parks_around3000  parks_nearest  ponds_around3000  \\\n",
       "count            15272.000         15273.000       6184.000         15273.000   \n",
       "mean             15325.211             0.535        490.462             0.685   \n",
       "std               8408.293             0.748        326.166             0.870   \n",
       "min                329.000             0.000          1.000             0.000   \n",
       "25%              10986.500             0.000        293.000             0.000   \n",
       "50%              13846.000             0.000        458.000             0.000   \n",
       "75%              16840.000             1.000        615.000             1.000   \n",
       "max              65968.000             3.000       3190.000             3.000   \n",
       "\n",
       "       ponds_nearest  days_exposition   m2_price  weekday_exposition  \\\n",
       "count       7222.000        18234.000  20695.000           20695.000   \n",
       "mean         534.557          170.009  91050.132               2.578   \n",
       "std          276.563          207.758  29007.154               1.798   \n",
       "min           16.000            1.000    111.835               0.000   \n",
       "25%          320.000           43.000  73931.805               1.000   \n",
       "50%          522.000           90.000  92000.000               3.000   \n",
       "75%          743.000          216.000 108198.970               4.000   \n",
       "max         1344.000         1580.000 312240.000               6.000   \n",
       "\n",
       "       ratio_living_total_area  ratio_kitchen_total_area  \n",
       "count                19078.000                 18705.000  \n",
       "mean                     0.564                     0.190  \n",
       "std                      0.104                     0.071  \n",
       "min                      0.038                     0.044  \n",
       "25%                      0.493                     0.136  \n",
       "50%                      0.567                     0.176  \n",
       "75%                      0.636                     0.236  \n",
       "max                      1.000                     0.788  \n",
       "\n",
       "[8 rows x 21 columns]"
      ]
     },
     "execution_count": 45,
     "metadata": {},
     "output_type": "execute_result"
    }
   ],
   "source": [
    "normal_data=normal_data.query('ceiling_height <= 3.2')\n",
    "normal_data.describe()"
   ]
  },
  {
   "cell_type": "markdown",
   "metadata": {},
   "source": [
    "Мы удалили 389 объектов с чрезмерной высотой потолка. Теперь в нашем датасете нет квартир высотой в 32 метра."
   ]
  },
  {
   "cell_type": "markdown",
   "metadata": {},
   "source": [
    "### Время экспозиции"
   ]
  },
  {
   "cell_type": "code",
   "execution_count": 46,
   "metadata": {},
   "outputs": [
    {
     "data": {
      "text/plain": [
       "count   18234.000\n",
       "mean      170.009\n",
       "std       207.758\n",
       "min         1.000\n",
       "25%        43.000\n",
       "50%        90.000\n",
       "75%       216.000\n",
       "max      1580.000\n",
       "Name: days_exposition, dtype: float64"
      ]
     },
     "execution_count": 46,
     "metadata": {},
     "output_type": "execute_result"
    }
   ],
   "source": [
    "normal_data['days_exposition'].describe()"
   ]
  },
  {
   "cell_type": "code",
   "execution_count": 47,
   "metadata": {},
   "outputs": [
    {
     "data": {
      "text/plain": [
       "<matplotlib.axes._subplots.AxesSubplot at 0x7f7842cd97d0>"
      ]
     },
     "execution_count": 47,
     "metadata": {},
     "output_type": "execute_result"
    },
    {
     "data": {
      "image/png": "[encoded data removed]",
      "text/plain": [
       "<Figure size 576x360 with 1 Axes>"
      ]
     },
     "metadata": {
      "needs_background": "light"
     },
     "output_type": "display_data"
    }
   ],
   "source": [
    "normal_data.plot(y='days_exposition', kind ='hist', bins=100, grid=True, figsize = (8,5))"
   ]
  },
  {
   "cell_type": "code",
   "execution_count": 48,
   "metadata": {},
   "outputs": [
    {
     "data": {
      "text/plain": [
       "<matplotlib.axes._subplots.AxesSubplot at 0x7f783aab6c10>"
      ]
     },
     "execution_count": 48,
     "metadata": {},
     "output_type": "execute_result"
    },
    {
     "data": {
      "image/png": "[encoded data removed]",
      "text/plain": [
       "<Figure size 432x288 with 1 Axes>"
      ]
     },
     "metadata": {
      "needs_background": "light"
     },
     "output_type": "display_data"
    }
   ],
   "source": [
    "normal_data.plot(y ='days_exposition', kind = 'hist', bins = 100, grid = True, range = (1,100))"
   ]
  },
  {
   "cell_type": "code",
   "execution_count": 49,
   "metadata": {},
   "outputs": [
    {
     "data": {
      "text/plain": [
       "(1, 500)"
      ]
     },
     "execution_count": 49,
     "metadata": {},
     "output_type": "execute_result"
    },
    {
     "data": {
      "image/png": "[encoded data removed]",
      "text/plain": [
       "<Figure size 432x288 with 1 Axes>"
      ]
     },
     "metadata": {
      "needs_background": "light"
     },
     "output_type": "display_data"
    }
   ],
   "source": [
    "normal_data.boxplot(column='days_exposition')\n",
    "plt.ylim(1, 500)"
   ]
  },
  {
   "cell_type": "code",
   "execution_count": 50,
   "metadata": {},
   "outputs": [
    {
     "data": {
      "text/plain": [
       "358.0"
      ]
     },
     "execution_count": 50,
     "metadata": {},
     "output_type": "execute_result"
    }
   ],
   "source": [
    "Q75=169\n",
    "Q25=43\n",
    "max_boxplot = Q75+(1.5*(Q75-Q25))\n",
    "max_boxplot"
   ]
  },
  {
   "cell_type": "markdown",
   "metadata": {},
   "source": [
    "Гистограмма времени экспонирования показывает типичное для подобных параметров распределение Пуассона. Медианное значение 90, а среднее - свыше 169, максимальное значение в 1580 может значительно влиять на среднее и медиану. Межквартильный размах между 43 и 216, все, что срок свыше 358 дней можно считать слишком долгой продажей."
   ]
  },
  {
   "cell_type": "code",
   "execution_count": 51,
   "metadata": {},
   "outputs": [],
   "source": [
    "normal_data = normal_data.query('days_exposition <= 358')"
   ]
  },
  {
   "cell_type": "code",
   "execution_count": 52,
   "metadata": {},
   "outputs": [
    {
     "data": {
      "text/plain": [
       "count   15698.000\n",
       "mean      101.008\n",
       "std        86.934\n",
       "min         1.000\n",
       "25%        36.000\n",
       "50%        70.000\n",
       "75%       147.000\n",
       "max       357.000\n",
       "Name: days_exposition, dtype: float64"
      ]
     },
     "execution_count": 52,
     "metadata": {},
     "output_type": "execute_result"
    }
   ],
   "source": [
    "normal_data['days_exposition'].describe()"
   ]
  },
  {
   "cell_type": "markdown",
   "metadata": {},
   "source": [
    "Медиана и среднее сдвинулись, разница между ними уменьшилась, межквартильный размах в рамках новых данных - от 38 до 147 дней, эти значения можно считать нормальными. В таком случае быстрой продажей может считаться сделка в течение менее 38 дней, а медленной - более 147, срок свыше 358 дней можно считать слишком долгой продажей. Кроме того гистограмма показала подозрительные всплески в промежутке значений между 0 и 100, стоит изучить это явление."
   ]
  },
  {
   "cell_type": "code",
   "execution_count": 53,
   "metadata": {},
   "outputs": [
    {
     "data": {
      "text/plain": [
       "<matplotlib.axes._subplots.AxesSubplot at 0x7f783a8be250>"
      ]
     },
     "execution_count": 53,
     "metadata": {},
     "output_type": "execute_result"
    },
    {
     "data": {
      "image/png": "[encoded data removed]",
      "text/plain": [
       "<Figure size 432x288 with 1 Axes>"
      ]
     },
     "metadata": {
      "needs_background": "light"
     },
     "output_type": "display_data"
    }
   ],
   "source": [
    "normal_data.plot(y ='days_exposition', kind = 'hist', bins = 100, grid = True, range = (1,100))"
   ]
  },
  {
   "cell_type": "code",
   "execution_count": 54,
   "metadata": {},
   "outputs": [
    {
     "data": {
      "text/plain": [
       "45.000     871\n",
       "60.000     518\n",
       "7.000      218\n",
       "30.000     193\n",
       "4.000      160\n",
       "          ... \n",
       "340.000      6\n",
       "341.000      5\n",
       "2.000        3\n",
       "351.000      3\n",
       "1.000        1\n",
       "Name: days_exposition, Length: 357, dtype: int64"
      ]
     },
     "execution_count": 54,
     "metadata": {},
     "output_type": "execute_result"
    }
   ],
   "source": [
    "normal_data['days_exposition'].value_counts()"
   ]
  },
  {
   "cell_type": "markdown",
   "metadata": {},
   "source": [
    "На укрупненной гистограмме и по данным value_counts можно увидеть явные аномалии на 45 и 60 днях экспозиции. Вспомнив о правилах публикации объявлений на Яндекс.Недвижимости стоит предположить, что данный всплеск связан не с продажами объектов именн в эти дни экспозиции, а с автоматическим снятием объявлений. В правилах указано, что срок бесплатной публикации объектов стоимостью до 4,5 млн рублей - 45 дней, стоимостью от 4,5 до 10 млн - 60 дней, а квартиры дороже 10 млн \"пропадают\" через 90 дней. Это говорит о том, что часть квартир с временем экспозиции в 45 и 60 дней просто сняты и не могут считатся проданными. Удалять все объекты с этим сроком экспонирования считаю не обязательным, однако стоит учитывать данные особенности в исследовании.\n",
    "\n",
    "В процессе исследования была обнаружена ошибка, датасет не формирует список строк со значением 45 в колонке days_exposition ни одним из способов, при этом метод .value_counts() показывает, что таких строк 869. Попытки сформировать такой список в других средах выдают такой же результат. Необходимо обсудить эту особенность с коллегами, предоставляющими и собирающими данные."
   ]
  },
  {
   "cell_type": "code",
   "execution_count": 55,
   "metadata": {},
   "outputs": [
    {
     "data": {
      "text/html": [
       "<div>\n",
       "<style scoped>\n",
       "    .dataframe tbody tr th:only-of-type {\n",
       "        vertical-align: middle;\n",
       "    }\n",
       "\n",
       "    .dataframe tbody tr th {\n",
       "        vertical-align: top;\n",
       "    }\n",
       "\n",
       "    .dataframe thead th {\n",
       "        text-align: right;\n",
       "    }\n",
       "</style>\n",
       "<table border=\"1\" class=\"dataframe\">\n",
       "  <thead>\n",
       "    <tr style=\"text-align: right;\">\n",
       "      <th></th>\n",
       "      <th>total_images</th>\n",
       "      <th>last_price</th>\n",
       "      <th>total_area</th>\n",
       "      <th>first_day_exposition</th>\n",
       "      <th>rooms</th>\n",
       "      <th>ceiling_height</th>\n",
       "      <th>floors_total</th>\n",
       "      <th>living_area</th>\n",
       "      <th>floor</th>\n",
       "      <th>is_apartment</th>\n",
       "      <th>...</th>\n",
       "      <th>ponds_around3000</th>\n",
       "      <th>ponds_nearest</th>\n",
       "      <th>days_exposition</th>\n",
       "      <th>m2_price</th>\n",
       "      <th>weekday_exposition</th>\n",
       "      <th>month_exposition</th>\n",
       "      <th>year_exposition</th>\n",
       "      <th>floor_category</th>\n",
       "      <th>ratio_living_total_area</th>\n",
       "      <th>ratio_kitchen_total_area</th>\n",
       "    </tr>\n",
       "  </thead>\n",
       "  <tbody>\n",
       "  </tbody>\n",
       "</table>\n",
       "<p>0 rows × 29 columns</p>\n",
       "</div>"
      ],
      "text/plain": [
       "Empty DataFrame\n",
       "Columns: [total_images, last_price, total_area, first_day_exposition, rooms, ceiling_height, floors_total, living_area, floor, is_apartment, studio, open_plan, kitchen_area, balcony, locality_name, airports_nearest, cityCenters_nearest, parks_around3000, parks_nearest, ponds_around3000, ponds_nearest, days_exposition, m2_price, weekday_exposition, month_exposition, year_exposition, floor_category, ratio_living_total_area, ratio_kitchen_total_area]\n",
       "Index: []\n",
       "\n",
       "[0 rows x 29 columns]"
      ]
     },
     "execution_count": 55,
     "metadata": {},
     "output_type": "execute_result"
    }
   ],
   "source": [
    "normal_data[normal_data['days_exposition']==45]"
   ]
  },
  {
   "cell_type": "code",
   "execution_count": 56,
   "metadata": {},
   "outputs": [
    {
     "data": {
      "text/html": [
       "<div>\n",
       "<style scoped>\n",
       "    .dataframe tbody tr th:only-of-type {\n",
       "        vertical-align: middle;\n",
       "    }\n",
       "\n",
       "    .dataframe tbody tr th {\n",
       "        vertical-align: top;\n",
       "    }\n",
       "\n",
       "    .dataframe thead th {\n",
       "        text-align: right;\n",
       "    }\n",
       "</style>\n",
       "<table border=\"1\" class=\"dataframe\">\n",
       "  <thead>\n",
       "    <tr style=\"text-align: right;\">\n",
       "      <th></th>\n",
       "      <th>total_images</th>\n",
       "      <th>last_price</th>\n",
       "      <th>total_area</th>\n",
       "      <th>first_day_exposition</th>\n",
       "      <th>rooms</th>\n",
       "      <th>ceiling_height</th>\n",
       "      <th>floors_total</th>\n",
       "      <th>living_area</th>\n",
       "      <th>floor</th>\n",
       "      <th>is_apartment</th>\n",
       "      <th>...</th>\n",
       "      <th>ponds_around3000</th>\n",
       "      <th>ponds_nearest</th>\n",
       "      <th>days_exposition</th>\n",
       "      <th>m2_price</th>\n",
       "      <th>weekday_exposition</th>\n",
       "      <th>month_exposition</th>\n",
       "      <th>year_exposition</th>\n",
       "      <th>floor_category</th>\n",
       "      <th>ratio_living_total_area</th>\n",
       "      <th>ratio_kitchen_total_area</th>\n",
       "    </tr>\n",
       "  </thead>\n",
       "  <tbody>\n",
       "  </tbody>\n",
       "</table>\n",
       "<p>0 rows × 29 columns</p>\n",
       "</div>"
      ],
      "text/plain": [
       "Empty DataFrame\n",
       "Columns: [total_images, last_price, total_area, first_day_exposition, rooms, ceiling_height, floors_total, living_area, floor, is_apartment, studio, open_plan, kitchen_area, balcony, locality_name, airports_nearest, cityCenters_nearest, parks_around3000, parks_nearest, ponds_around3000, ponds_nearest, days_exposition, m2_price, weekday_exposition, month_exposition, year_exposition, floor_category, ratio_living_total_area, ratio_kitchen_total_area]\n",
       "Index: []\n",
       "\n",
       "[0 rows x 29 columns]"
      ]
     },
     "execution_count": 56,
     "metadata": {},
     "output_type": "execute_result"
    }
   ],
   "source": [
    "normal_data.query('days_exposition == 45')"
   ]
  },
  {
   "cell_type": "markdown",
   "metadata": {},
   "source": [
    "### Вывод"
   ]
  },
  {
   "cell_type": "markdown",
   "metadata": {},
   "source": [
    "Мы изучили самые важные данные, необходимые нам для определения факторов, влияющих на цену на недвижимость. Обранужили аномальные и слишком большие значения, убрали выбросы данных. Датасет стал более \"чистым\", что поможет нам в дальнейших исследованиях."
   ]
  },
  {
   "cell_type": "markdown",
   "metadata": {},
   "source": [
    "## Факторы, влияющие на стоимость жилья"
   ]
  },
  {
   "cell_type": "markdown",
   "metadata": {},
   "source": [
    "Необходимо узнать, какие факторы больше всего влияют на стоимость квартиры в Санкт-Петербурге и его окрестностях.\n",
    "\n",
    "Изучим, зависит ли цена от площади, числа комнат, удалённости от центра, этажа и даже дня, месяца и года публикации объявления."
   ]
  },
  {
   "cell_type": "code",
   "execution_count": 57,
   "metadata": {},
   "outputs": [
    {
     "data": {
      "text/html": [
       "<div>\n",
       "<style scoped>\n",
       "    .dataframe tbody tr th:only-of-type {\n",
       "        vertical-align: middle;\n",
       "    }\n",
       "\n",
       "    .dataframe tbody tr th {\n",
       "        vertical-align: top;\n",
       "    }\n",
       "\n",
       "    .dataframe thead th {\n",
       "        text-align: right;\n",
       "    }\n",
       "</style>\n",
       "<table border=\"1\" class=\"dataframe\">\n",
       "  <thead>\n",
       "    <tr style=\"text-align: right;\">\n",
       "      <th></th>\n",
       "      <th>cityCenters_nearest</th>\n",
       "      <th>m2_price</th>\n",
       "      <th>rooms</th>\n",
       "      <th>total_area</th>\n",
       "    </tr>\n",
       "  </thead>\n",
       "  <tbody>\n",
       "    <tr>\n",
       "      <td>cityCenters_nearest</td>\n",
       "      <td>1.000</td>\n",
       "      <td>-0.697</td>\n",
       "      <td>-0.239</td>\n",
       "      <td>-0.118</td>\n",
       "    </tr>\n",
       "    <tr>\n",
       "      <td>m2_price</td>\n",
       "      <td>-0.697</td>\n",
       "      <td>1.000</td>\n",
       "      <td>-0.140</td>\n",
       "      <td>-0.030</td>\n",
       "    </tr>\n",
       "    <tr>\n",
       "      <td>rooms</td>\n",
       "      <td>-0.239</td>\n",
       "      <td>-0.140</td>\n",
       "      <td>1.000</td>\n",
       "      <td>0.896</td>\n",
       "    </tr>\n",
       "    <tr>\n",
       "      <td>total_area</td>\n",
       "      <td>-0.118</td>\n",
       "      <td>-0.030</td>\n",
       "      <td>0.896</td>\n",
       "      <td>1.000</td>\n",
       "    </tr>\n",
       "  </tbody>\n",
       "</table>\n",
       "</div>"
      ],
      "text/plain": [
       "                     cityCenters_nearest  m2_price  rooms  total_area\n",
       "cityCenters_nearest                1.000    -0.697 -0.239      -0.118\n",
       "m2_price                          -0.697     1.000 -0.140      -0.030\n",
       "rooms                             -0.239    -0.140  1.000       0.896\n",
       "total_area                        -0.118    -0.030  0.896       1.000"
      ]
     },
     "execution_count": 57,
     "metadata": {},
     "output_type": "execute_result"
    }
   ],
   "source": [
    "pivot_normal_data = normal_data.pivot_table(index='total_images', values=['m2_price', 'total_area', 'cityCenters_nearest', 'rooms'], aggfunc='mean')\n",
    "pivot_normal_data.corr()"
   ]
  },
  {
   "cell_type": "code",
   "execution_count": 58,
   "metadata": {},
   "outputs": [
    {
     "data": {
      "text/plain": [
       "array([[<matplotlib.axes._subplots.AxesSubplot object at 0x7f783a915d90>,\n",
       "        <matplotlib.axes._subplots.AxesSubplot object at 0x7f783a89b150>,\n",
       "        <matplotlib.axes._subplots.AxesSubplot object at 0x7f783a858a50>,\n",
       "        <matplotlib.axes._subplots.AxesSubplot object at 0x7f783a818dd0>],\n",
       "       [<matplotlib.axes._subplots.AxesSubplot object at 0x7f783a7cea90>,\n",
       "        <matplotlib.axes._subplots.AxesSubplot object at 0x7f783a78de10>,\n",
       "        <matplotlib.axes._subplots.AxesSubplot object at 0x7f783a743ad0>,\n",
       "        <matplotlib.axes._subplots.AxesSubplot object at 0x7f783a701310>],\n",
       "       [<matplotlib.axes._subplots.AxesSubplot object at 0x7f783a701e50>,\n",
       "        <matplotlib.axes._subplots.AxesSubplot object at 0x7f783a6c3810>,\n",
       "        <matplotlib.axes._subplots.AxesSubplot object at 0x7f783a62fb50>,\n",
       "        <matplotlib.axes._subplots.AxesSubplot object at 0x7f783a5eeed0>],\n",
       "       [<matplotlib.axes._subplots.AxesSubplot object at 0x7f783a624b90>,\n",
       "        <matplotlib.axes._subplots.AxesSubplot object at 0x7f783a5e4f10>,\n",
       "        <matplotlib.axes._subplots.AxesSubplot object at 0x7f783a599bd0>,\n",
       "        <matplotlib.axes._subplots.AxesSubplot object at 0x7f783a55af50>]],\n",
       "      dtype=object)"
      ]
     },
     "execution_count": 58,
     "metadata": {},
     "output_type": "execute_result"
    },
    {
     "data": {
      "image/png": "[encoded data removed]",
      "text/plain": [
       "<Figure size 1080x1080 with 16 Axes>"
      ]
     },
     "metadata": {
      "needs_background": "light"
     },
     "output_type": "display_data"
    }
   ],
   "source": [
    "pd.plotting.scatter_matrix(pivot_normal_data, figsize=(15, 15))"
   ]
  },
  {
   "cell_type": "markdown",
   "metadata": {},
   "source": [
    "Матрица диаграмм рассеяния подтверждает показатели коэффициента корреляции Пирсона. Данные говорят о заметной взаимосвязи цены на квартиры с количеством комнат и общей площадью. Здесь наблюдается положительная корреляция, это значит, что от одного из показателей будет повышать и второй. Заметна и взаимосвязь цены на квартиры и удаленности от центра, однако здесь коэффициент корреляции отрицательный, это значит, что рост одного показателя (в данном случае удаленности от центра) повлечет снижение другого (в нашем случае цены).\n",
    "\n",
    "Все эти взаимосвязи вполне закономерны, однако, по матрице видно, что во всех диаграммах можно наблюдать выбивающиеся значения. Они должны быть интересны при изучении вопроса появления аномалий и выявления мошеннических сделок."
   ]
  },
  {
   "cell_type": "markdown",
   "metadata": {},
   "source": [
    "### Зависимость цены объекта от общей площади квартиры"
   ]
  },
  {
   "cell_type": "code",
   "execution_count": 59,
   "metadata": {},
   "outputs": [
    {
     "data": {
      "text/plain": [
       "<matplotlib.axes._subplots.AxesSubplot at 0x7f783a208790>"
      ]
     },
     "execution_count": 59,
     "metadata": {},
     "output_type": "execute_result"
    },
    {
     "data": {
      "image/png": "[encoded data removed]",
      "text/plain": [
       "<Figure size 432x288 with 2 Axes>"
      ]
     },
     "metadata": {
      "needs_background": "light"
     },
     "output_type": "display_data"
    }
   ],
   "source": [
    "normal_data.plot(x='total_area', y='m2_price', kind='hexbin', sharex=False, gridsize=(6, 6))"
   ]
  },
  {
   "cell_type": "markdown",
   "metadata": {},
   "source": [
    "Можно наблюдать, что в целом есть тенденция к снижению цены за квадратный метр с ростом общей площади квартиры."
   ]
  },
  {
   "cell_type": "markdown",
   "metadata": {},
   "source": [
    "### Зависимость цены от этажа"
   ]
  },
  {
   "cell_type": "code",
   "execution_count": 60,
   "metadata": {},
   "outputs": [
    {
     "data": {
      "text/plain": [
       "<matplotlib.axes._subplots.AxesSubplot at 0x7f3665ec0a90>"
      ]
     },
     "execution_count": 60,
     "metadata": {},
     "output_type": "execute_result"
    },
    {
     "data": {
      "image/png": "[encoded data removed]",
      "text/plain": [
       "<Figure size 432x288 with 1 Axes>"
      ]
     },
     "metadata": {
      "needs_background": "light"
     },
     "output_type": "display_data"
    }
   ],
   "source": [
    "normal_data.pivot_table(index = 'floor_category', values = 'last_price').plot(kind='bar')"
   ]
  },
  {
   "cell_type": "code",
   "execution_count": 61,
   "metadata": {},
   "outputs": [
    {
     "data": {
      "text/plain": [
       "<matplotlib.axes._subplots.AxesSubplot at 0x7f3665e99890>"
      ]
     },
     "execution_count": 61,
     "metadata": {},
     "output_type": "execute_result"
    },
    {
     "data": {
      "image/png": "[encoded data removed]",
      "text/plain": [
       "<Figure size 432x288 with 1 Axes>"
      ]
     },
     "metadata": {
      "needs_background": "light"
     },
     "output_type": "display_data"
    }
   ],
   "source": [
    "normal_data.pivot_table(index = 'floor_category', values = 'm2_price').plot(kind='bar')"
   ]
  },
  {
   "cell_type": "markdown",
   "metadata": {},
   "source": [
    "Диаграмма показывает, что цена на квартиры (как на весь объект, так и на квадратный метр) зависит от этажа. Квартиры на первом этаже дешевле всего. Меньше, чем объекты на этажах со 2 по предпоследний, стоят и объекты на последнем этаже."
   ]
  },
  {
   "cell_type": "markdown",
   "metadata": {},
   "source": [
    "### Взаимосвязь количества комнат и цены на объект"
   ]
  },
  {
   "cell_type": "code",
   "execution_count": 62,
   "metadata": {},
   "outputs": [
    {
     "data": {
      "text/plain": [
       "<matplotlib.axes._subplots.AxesSubplot at 0x7f3665dfa390>"
      ]
     },
     "execution_count": 62,
     "metadata": {},
     "output_type": "execute_result"
    },
    {
     "data": {
      "image/png": "[encoded data removed]",
      "text/plain": [
       "<Figure size 432x288 with 1 Axes>"
      ]
     },
     "metadata": {
      "needs_background": "light"
     },
     "output_type": "display_data"
    }
   ],
   "source": [
    "normal_data.pivot_table(index = 'rooms', values = 'm2_price').plot(kind='bar')"
   ]
  },
  {
   "cell_type": "markdown",
   "metadata": {},
   "source": [
    "График наглядно показывает взаимосвязь между количеством комнат и ценой за метр: чем больше комнат, тем ниже цена"
   ]
  },
  {
   "cell_type": "markdown",
   "metadata": {},
   "source": [
    "### Зависимость цены от даты размещения: дня недели, месяца и года"
   ]
  },
  {
   "cell_type": "code",
   "execution_count": 63,
   "metadata": {},
   "outputs": [
    {
     "data": {
      "text/html": [
       "<div>\n",
       "<style scoped>\n",
       "    .dataframe tbody tr th:only-of-type {\n",
       "        vertical-align: middle;\n",
       "    }\n",
       "\n",
       "    .dataframe tbody tr th {\n",
       "        vertical-align: top;\n",
       "    }\n",
       "\n",
       "    .dataframe thead th {\n",
       "        text-align: right;\n",
       "    }\n",
       "</style>\n",
       "<table border=\"1\" class=\"dataframe\">\n",
       "  <thead>\n",
       "    <tr style=\"text-align: right;\">\n",
       "      <th></th>\n",
       "      <th>total_images</th>\n",
       "      <th>last_price</th>\n",
       "      <th>total_area</th>\n",
       "      <th>first_day_exposition</th>\n",
       "      <th>rooms</th>\n",
       "      <th>ceiling_height</th>\n",
       "      <th>floors_total</th>\n",
       "      <th>living_area</th>\n",
       "      <th>floor</th>\n",
       "      <th>is_apartment</th>\n",
       "      <th>...</th>\n",
       "      <th>ponds_around3000</th>\n",
       "      <th>ponds_nearest</th>\n",
       "      <th>days_exposition</th>\n",
       "      <th>m2_price</th>\n",
       "      <th>weekday_exposition</th>\n",
       "      <th>month_exposition</th>\n",
       "      <th>year_exposition</th>\n",
       "      <th>floor_category</th>\n",
       "      <th>ratio_living_total_area</th>\n",
       "      <th>ratio_kitchen_total_area</th>\n",
       "    </tr>\n",
       "  </thead>\n",
       "  <tbody>\n",
       "    <tr>\n",
       "      <td>1</td>\n",
       "      <td>7</td>\n",
       "      <td>3350000.000</td>\n",
       "      <td>40.400</td>\n",
       "      <td>2018-12-04</td>\n",
       "      <td>1</td>\n",
       "      <td>2.650</td>\n",
       "      <td>11.000</td>\n",
       "      <td>18.600</td>\n",
       "      <td>1</td>\n",
       "      <td>True</td>\n",
       "      <td>...</td>\n",
       "      <td>0.000</td>\n",
       "      <td>nan</td>\n",
       "      <td>81.000</td>\n",
       "      <td>82920.792</td>\n",
       "      <td>1</td>\n",
       "      <td>12.000</td>\n",
       "      <td>2018.000</td>\n",
       "      <td>первый</td>\n",
       "      <td>0.460</td>\n",
       "      <td>0.272</td>\n",
       "    </tr>\n",
       "    <tr>\n",
       "      <td>4</td>\n",
       "      <td>2</td>\n",
       "      <td>10000000.000</td>\n",
       "      <td>100.000</td>\n",
       "      <td>2018-06-19</td>\n",
       "      <td>2</td>\n",
       "      <td>3.030</td>\n",
       "      <td>14.000</td>\n",
       "      <td>32.000</td>\n",
       "      <td>13</td>\n",
       "      <td>True</td>\n",
       "      <td>...</td>\n",
       "      <td>1.000</td>\n",
       "      <td>48.000</td>\n",
       "      <td>121.000</td>\n",
       "      <td>100000.000</td>\n",
       "      <td>1</td>\n",
       "      <td>6.000</td>\n",
       "      <td>2018.000</td>\n",
       "      <td>другой</td>\n",
       "      <td>0.320</td>\n",
       "      <td>0.410</td>\n",
       "    </tr>\n",
       "    <tr>\n",
       "      <td>5</td>\n",
       "      <td>10</td>\n",
       "      <td>2890000.000</td>\n",
       "      <td>30.400</td>\n",
       "      <td>2018-09-10</td>\n",
       "      <td>1</td>\n",
       "      <td>2.650</td>\n",
       "      <td>12.000</td>\n",
       "      <td>14.400</td>\n",
       "      <td>5</td>\n",
       "      <td>True</td>\n",
       "      <td>...</td>\n",
       "      <td>nan</td>\n",
       "      <td>nan</td>\n",
       "      <td>55.000</td>\n",
       "      <td>95065.789</td>\n",
       "      <td>0</td>\n",
       "      <td>9.000</td>\n",
       "      <td>2018.000</td>\n",
       "      <td>другой</td>\n",
       "      <td>0.474</td>\n",
       "      <td>0.299</td>\n",
       "    </tr>\n",
       "    <tr>\n",
       "      <td>6</td>\n",
       "      <td>6</td>\n",
       "      <td>3700000.000</td>\n",
       "      <td>37.300</td>\n",
       "      <td>2017-11-02</td>\n",
       "      <td>1</td>\n",
       "      <td>2.650</td>\n",
       "      <td>26.000</td>\n",
       "      <td>10.600</td>\n",
       "      <td>6</td>\n",
       "      <td>True</td>\n",
       "      <td>...</td>\n",
       "      <td>0.000</td>\n",
       "      <td>nan</td>\n",
       "      <td>155.000</td>\n",
       "      <td>99195.710</td>\n",
       "      <td>3</td>\n",
       "      <td>11.000</td>\n",
       "      <td>2017.000</td>\n",
       "      <td>другой</td>\n",
       "      <td>0.284</td>\n",
       "      <td>0.386</td>\n",
       "    </tr>\n",
       "    <tr>\n",
       "      <td>8</td>\n",
       "      <td>20</td>\n",
       "      <td>2900000.000</td>\n",
       "      <td>33.160</td>\n",
       "      <td>2018-05-23</td>\n",
       "      <td>1</td>\n",
       "      <td>2.650</td>\n",
       "      <td>27.000</td>\n",
       "      <td>15.430</td>\n",
       "      <td>26</td>\n",
       "      <td>True</td>\n",
       "      <td>...</td>\n",
       "      <td>nan</td>\n",
       "      <td>nan</td>\n",
       "      <td>189.000</td>\n",
       "      <td>87454.765</td>\n",
       "      <td>2</td>\n",
       "      <td>5.000</td>\n",
       "      <td>2018.000</td>\n",
       "      <td>другой</td>\n",
       "      <td>0.465</td>\n",
       "      <td>0.266</td>\n",
       "    </tr>\n",
       "  </tbody>\n",
       "</table>\n",
       "<p>5 rows × 29 columns</p>\n",
       "</div>"
      ],
      "text/plain": [
       "   total_images   last_price  total_area first_day_exposition  rooms  \\\n",
       "1             7  3350000.000      40.400           2018-12-04      1   \n",
       "4             2 10000000.000     100.000           2018-06-19      2   \n",
       "5            10  2890000.000      30.400           2018-09-10      1   \n",
       "6             6  3700000.000      37.300           2017-11-02      1   \n",
       "8            20  2900000.000      33.160           2018-05-23      1   \n",
       "\n",
       "   ceiling_height  floors_total  living_area  floor  is_apartment  ...  \\\n",
       "1           2.650        11.000       18.600      1          True  ...   \n",
       "4           3.030        14.000       32.000     13          True  ...   \n",
       "5           2.650        12.000       14.400      5          True  ...   \n",
       "6           2.650        26.000       10.600      6          True  ...   \n",
       "8           2.650        27.000       15.430     26          True  ...   \n",
       "\n",
       "   ponds_around3000  ponds_nearest  days_exposition   m2_price  \\\n",
       "1             0.000            nan           81.000  82920.792   \n",
       "4             1.000         48.000          121.000 100000.000   \n",
       "5               nan            nan           55.000  95065.789   \n",
       "6             0.000            nan          155.000  99195.710   \n",
       "8               nan            nan          189.000  87454.765   \n",
       "\n",
       "  weekday_exposition  month_exposition  year_exposition  floor_category  \\\n",
       "1                  1            12.000         2018.000          первый   \n",
       "4                  1             6.000         2018.000          другой   \n",
       "5                  0             9.000         2018.000          другой   \n",
       "6                  3            11.000         2017.000          другой   \n",
       "8                  2             5.000         2018.000          другой   \n",
       "\n",
       "   ratio_living_total_area  ratio_kitchen_total_area  \n",
       "1                    0.460                     0.272  \n",
       "4                    0.320                     0.410  \n",
       "5                    0.474                     0.299  \n",
       "6                    0.284                     0.386  \n",
       "8                    0.465                     0.266  \n",
       "\n",
       "[5 rows x 29 columns]"
      ]
     },
     "execution_count": 63,
     "metadata": {},
     "output_type": "execute_result"
    }
   ],
   "source": [
    "normal_data[['month_exposition', 'year_exposition']]=normal_data[['month_exposition', 'year_exposition']]. astype('float')\n",
    "normal_data.head()"
   ]
  },
  {
   "cell_type": "markdown",
   "metadata": {},
   "source": [
    "**Год публикации объявления и цена за квадратный метр**"
   ]
  },
  {
   "cell_type": "code",
   "execution_count": 66,
   "metadata": {},
   "outputs": [
    {
     "data": {
      "text/plain": [
       "<matplotlib.axes._subplots.AxesSubplot at 0x7f3665744c90>"
      ]
     },
     "execution_count": 66,
     "metadata": {},
     "output_type": "execute_result"
    },
    {
     "data": {
      "image/png": "[encoded data removed]",
      "text/plain": [
       "<Figure size 432x288 with 1 Axes>"
      ]
     },
     "metadata": {
      "needs_background": "light"
     },
     "output_type": "display_data"
    }
   ],
   "source": [
    "normal_data.pivot_table(index = 'year_exposition', values = 'm2_price', aggfunc = 'mean').plot()"
   ]
  },
  {
   "cell_type": "markdown",
   "metadata": {},
   "source": [
    "Цена на квадратный метр жилья почти не мнялась на протяжении довольно длительного периода с 2015 по 2017 год, потом поползла вверх и резко увеличилась в 2018 году."
   ]
  },
  {
   "cell_type": "markdown",
   "metadata": {},
   "source": [
    "**Месяц публикации объявления и цена за квадратный метр**"
   ]
  },
  {
   "cell_type": "code",
   "execution_count": 67,
   "metadata": {},
   "outputs": [
    {
     "data": {
      "text/plain": [
       "<matplotlib.axes._subplots.AxesSubplot at 0x7f3665713f90>"
      ]
     },
     "execution_count": 67,
     "metadata": {},
     "output_type": "execute_result"
    },
    {
     "data": {
      "image/png": "[encoded data removed]",
      "text/plain": [
       "<Figure size 432x288 with 1 Axes>"
      ]
     },
     "metadata": {
      "needs_background": "light"
     },
     "output_type": "display_data"
    }
   ],
   "source": [
    "normal_data.pivot_table(index = 'month_exposition', values = 'm2_price', aggfunc = 'mean').plot()"
   ]
  },
  {
   "cell_type": "markdown",
   "metadata": {},
   "source": [
    "Четко видна сезонность предложения на рынке. Спрос и цена за метр растут к весне, резко падают в отпускной период и показывают взрывной рост к сентябрю-октябрю - это особенность рынка недвижимости. Обратная картина может наблюдаться в курортных населенных пунктах, где отпускной сезон нередко отмечается ростом и спроса, и предложения, и цены на недвижимость."
   ]
  },
  {
   "cell_type": "markdown",
   "metadata": {},
   "source": [
    "**День недели публикации и цена за метр**"
   ]
  },
  {
   "cell_type": "code",
   "execution_count": 68,
   "metadata": {},
   "outputs": [
    {
     "data": {
      "text/plain": [
       "<matplotlib.axes._subplots.AxesSubplot at 0x7f3665725ed0>"
      ]
     },
     "execution_count": 68,
     "metadata": {},
     "output_type": "execute_result"
    },
    {
     "data": {
      "image/png": "[encoded data removed]",
      "text/plain": [
       "<Figure size 432x288 with 1 Axes>"
      ]
     },
     "metadata": {
      "needs_background": "light"
     },
     "output_type": "display_data"
    }
   ],
   "source": [
    "normal_data.pivot_table(index = 'weekday_exposition', values = 'm2_price', aggfunc = 'median').plot()"
   ]
  },
  {
   "cell_type": "markdown",
   "metadata": {},
   "source": [
    "Цена квадратного метра меняется от для экспозиции: самые дорогие квартиры выставляются на продажу в среду, самые дешевые - в выходные. Я бы связала эту особенность с работой риэлторов: с понедельника по среду самые активные рабочие дни дла агентств, а в выходные дни, как правило, объявления публикуют те, кто пытается продать объекта самостоятельно, обычно они ставят более низкую цену за метр.\n",
    "\n",
    "**Вывод**\n",
    "\n",
    "Как и ожидалось, больше всего цена на недвижимость зависит от метража квартиры (большие квартиры дешевле за метр, чем маленькие) и количества комнат (однокомнатные квартиры дороже больших в пересчете за метр). Это связано с большим спросом на одно- и двухкомнатные квартиры. Кроме того, на цену влияет этаж и дата публикации объявления. Данные о месяце и годе публикации могут дать четкие представления о сезонности и тенденции цены на рынке, сильно выбивающиеся из общей картины явления (например снижение стоимости объекта на фоне общего роста цены на рынке), могут быть важными сигналами с точки зрения безопасности подобных сделок."
   ]
  },
  {
   "cell_type": "markdown",
   "metadata": {},
   "source": [
    "### Населенный пункт и удаленность от центра"
   ]
  },
  {
   "cell_type": "markdown",
   "metadata": {},
   "source": [
    "Определим 10 населённых пунктов с наибольшим числом объявлений в нашей выборке и изучим показатели цены квадратного метра в данных локациях."
   ]
  },
  {
   "cell_type": "code",
   "execution_count": 69,
   "metadata": {},
   "outputs": [
    {
     "data": {
      "text/html": [
       "<div>\n",
       "<style scoped>\n",
       "    .dataframe tbody tr th:only-of-type {\n",
       "        vertical-align: middle;\n",
       "    }\n",
       "\n",
       "    .dataframe tbody tr th {\n",
       "        vertical-align: top;\n",
       "    }\n",
       "\n",
       "    .dataframe thead th {\n",
       "        text-align: right;\n",
       "    }\n",
       "</style>\n",
       "<table border=\"1\" class=\"dataframe\">\n",
       "  <thead>\n",
       "    <tr style=\"text-align: right;\">\n",
       "      <th></th>\n",
       "      <th>total_images</th>\n",
       "      <th>last_price</th>\n",
       "      <th>total_area</th>\n",
       "      <th>first_day_exposition</th>\n",
       "      <th>rooms</th>\n",
       "      <th>ceiling_height</th>\n",
       "      <th>floors_total</th>\n",
       "      <th>living_area</th>\n",
       "      <th>floor</th>\n",
       "      <th>is_apartment</th>\n",
       "      <th>...</th>\n",
       "      <th>ponds_around3000</th>\n",
       "      <th>ponds_nearest</th>\n",
       "      <th>days_exposition</th>\n",
       "      <th>m2_price</th>\n",
       "      <th>weekday_exposition</th>\n",
       "      <th>month_exposition</th>\n",
       "      <th>year_exposition</th>\n",
       "      <th>floor_category</th>\n",
       "      <th>ratio_living_total_area</th>\n",
       "      <th>ratio_kitchen_total_area</th>\n",
       "    </tr>\n",
       "    <tr>\n",
       "      <th>locality_name</th>\n",
       "      <th></th>\n",
       "      <th></th>\n",
       "      <th></th>\n",
       "      <th></th>\n",
       "      <th></th>\n",
       "      <th></th>\n",
       "      <th></th>\n",
       "      <th></th>\n",
       "      <th></th>\n",
       "      <th></th>\n",
       "      <th></th>\n",
       "      <th></th>\n",
       "      <th></th>\n",
       "      <th></th>\n",
       "      <th></th>\n",
       "      <th></th>\n",
       "      <th></th>\n",
       "      <th></th>\n",
       "      <th></th>\n",
       "      <th></th>\n",
       "      <th></th>\n",
       "    </tr>\n",
       "  </thead>\n",
       "  <tbody>\n",
       "    <tr>\n",
       "      <td>Санкт-Петербург</td>\n",
       "      <td>9945</td>\n",
       "      <td>9945</td>\n",
       "      <td>9945</td>\n",
       "      <td>9945</td>\n",
       "      <td>9945</td>\n",
       "      <td>9945</td>\n",
       "      <td>9901</td>\n",
       "      <td>9227</td>\n",
       "      <td>9945</td>\n",
       "      <td>9945</td>\n",
       "      <td>...</td>\n",
       "      <td>9929</td>\n",
       "      <td>4683</td>\n",
       "      <td>9945</td>\n",
       "      <td>9945</td>\n",
       "      <td>9945</td>\n",
       "      <td>9945</td>\n",
       "      <td>9945</td>\n",
       "      <td>9945</td>\n",
       "      <td>9227</td>\n",
       "      <td>9023</td>\n",
       "    </tr>\n",
       "    <tr>\n",
       "      <td>посёлок Мурино</td>\n",
       "      <td>459</td>\n",
       "      <td>459</td>\n",
       "      <td>459</td>\n",
       "      <td>459</td>\n",
       "      <td>459</td>\n",
       "      <td>459</td>\n",
       "      <td>457</td>\n",
       "      <td>405</td>\n",
       "      <td>459</td>\n",
       "      <td>459</td>\n",
       "      <td>...</td>\n",
       "      <td>0</td>\n",
       "      <td>0</td>\n",
       "      <td>459</td>\n",
       "      <td>459</td>\n",
       "      <td>459</td>\n",
       "      <td>459</td>\n",
       "      <td>459</td>\n",
       "      <td>459</td>\n",
       "      <td>405</td>\n",
       "      <td>369</td>\n",
       "    </tr>\n",
       "    <tr>\n",
       "      <td>посёлок Шушары</td>\n",
       "      <td>356</td>\n",
       "      <td>356</td>\n",
       "      <td>356</td>\n",
       "      <td>356</td>\n",
       "      <td>356</td>\n",
       "      <td>356</td>\n",
       "      <td>355</td>\n",
       "      <td>326</td>\n",
       "      <td>356</td>\n",
       "      <td>356</td>\n",
       "      <td>...</td>\n",
       "      <td>352</td>\n",
       "      <td>123</td>\n",
       "      <td>356</td>\n",
       "      <td>356</td>\n",
       "      <td>356</td>\n",
       "      <td>356</td>\n",
       "      <td>356</td>\n",
       "      <td>356</td>\n",
       "      <td>326</td>\n",
       "      <td>320</td>\n",
       "    </tr>\n",
       "    <tr>\n",
       "      <td>Всеволожск</td>\n",
       "      <td>277</td>\n",
       "      <td>277</td>\n",
       "      <td>277</td>\n",
       "      <td>277</td>\n",
       "      <td>277</td>\n",
       "      <td>277</td>\n",
       "      <td>277</td>\n",
       "      <td>255</td>\n",
       "      <td>277</td>\n",
       "      <td>277</td>\n",
       "      <td>...</td>\n",
       "      <td>0</td>\n",
       "      <td>0</td>\n",
       "      <td>277</td>\n",
       "      <td>277</td>\n",
       "      <td>277</td>\n",
       "      <td>277</td>\n",
       "      <td>277</td>\n",
       "      <td>277</td>\n",
       "      <td>255</td>\n",
       "      <td>245</td>\n",
       "    </tr>\n",
       "    <tr>\n",
       "      <td>Колпино</td>\n",
       "      <td>271</td>\n",
       "      <td>271</td>\n",
       "      <td>271</td>\n",
       "      <td>271</td>\n",
       "      <td>271</td>\n",
       "      <td>271</td>\n",
       "      <td>271</td>\n",
       "      <td>262</td>\n",
       "      <td>271</td>\n",
       "      <td>271</td>\n",
       "      <td>...</td>\n",
       "      <td>270</td>\n",
       "      <td>150</td>\n",
       "      <td>271</td>\n",
       "      <td>271</td>\n",
       "      <td>271</td>\n",
       "      <td>271</td>\n",
       "      <td>271</td>\n",
       "      <td>271</td>\n",
       "      <td>262</td>\n",
       "      <td>257</td>\n",
       "    </tr>\n",
       "    <tr>\n",
       "      <td>посёлок Парголово</td>\n",
       "      <td>261</td>\n",
       "      <td>261</td>\n",
       "      <td>261</td>\n",
       "      <td>261</td>\n",
       "      <td>261</td>\n",
       "      <td>261</td>\n",
       "      <td>261</td>\n",
       "      <td>237</td>\n",
       "      <td>261</td>\n",
       "      <td>261</td>\n",
       "      <td>...</td>\n",
       "      <td>261</td>\n",
       "      <td>45</td>\n",
       "      <td>261</td>\n",
       "      <td>261</td>\n",
       "      <td>261</td>\n",
       "      <td>261</td>\n",
       "      <td>261</td>\n",
       "      <td>261</td>\n",
       "      <td>237</td>\n",
       "      <td>226</td>\n",
       "    </tr>\n",
       "    <tr>\n",
       "      <td>деревня Кудрово</td>\n",
       "      <td>257</td>\n",
       "      <td>257</td>\n",
       "      <td>257</td>\n",
       "      <td>257</td>\n",
       "      <td>257</td>\n",
       "      <td>257</td>\n",
       "      <td>257</td>\n",
       "      <td>224</td>\n",
       "      <td>257</td>\n",
       "      <td>257</td>\n",
       "      <td>...</td>\n",
       "      <td>0</td>\n",
       "      <td>0</td>\n",
       "      <td>257</td>\n",
       "      <td>257</td>\n",
       "      <td>257</td>\n",
       "      <td>257</td>\n",
       "      <td>257</td>\n",
       "      <td>257</td>\n",
       "      <td>224</td>\n",
       "      <td>195</td>\n",
       "    </tr>\n",
       "    <tr>\n",
       "      <td>Пушкин</td>\n",
       "      <td>243</td>\n",
       "      <td>243</td>\n",
       "      <td>243</td>\n",
       "      <td>243</td>\n",
       "      <td>243</td>\n",
       "      <td>243</td>\n",
       "      <td>243</td>\n",
       "      <td>224</td>\n",
       "      <td>243</td>\n",
       "      <td>243</td>\n",
       "      <td>...</td>\n",
       "      <td>243</td>\n",
       "      <td>109</td>\n",
       "      <td>243</td>\n",
       "      <td>243</td>\n",
       "      <td>243</td>\n",
       "      <td>243</td>\n",
       "      <td>243</td>\n",
       "      <td>243</td>\n",
       "      <td>224</td>\n",
       "      <td>217</td>\n",
       "    </tr>\n",
       "    <tr>\n",
       "      <td>Гатчина</td>\n",
       "      <td>218</td>\n",
       "      <td>218</td>\n",
       "      <td>218</td>\n",
       "      <td>218</td>\n",
       "      <td>218</td>\n",
       "      <td>218</td>\n",
       "      <td>218</td>\n",
       "      <td>205</td>\n",
       "      <td>218</td>\n",
       "      <td>218</td>\n",
       "      <td>...</td>\n",
       "      <td>0</td>\n",
       "      <td>0</td>\n",
       "      <td>218</td>\n",
       "      <td>218</td>\n",
       "      <td>218</td>\n",
       "      <td>218</td>\n",
       "      <td>218</td>\n",
       "      <td>218</td>\n",
       "      <td>205</td>\n",
       "      <td>207</td>\n",
       "    </tr>\n",
       "    <tr>\n",
       "      <td>Выборг</td>\n",
       "      <td>172</td>\n",
       "      <td>172</td>\n",
       "      <td>172</td>\n",
       "      <td>172</td>\n",
       "      <td>172</td>\n",
       "      <td>172</td>\n",
       "      <td>172</td>\n",
       "      <td>130</td>\n",
       "      <td>172</td>\n",
       "      <td>172</td>\n",
       "      <td>...</td>\n",
       "      <td>0</td>\n",
       "      <td>0</td>\n",
       "      <td>172</td>\n",
       "      <td>172</td>\n",
       "      <td>172</td>\n",
       "      <td>172</td>\n",
       "      <td>172</td>\n",
       "      <td>172</td>\n",
       "      <td>130</td>\n",
       "      <td>136</td>\n",
       "    </tr>\n",
       "  </tbody>\n",
       "</table>\n",
       "<p>10 rows × 28 columns</p>\n",
       "</div>"
      ],
      "text/plain": [
       "                   total_images  last_price  total_area  first_day_exposition  \\\n",
       "locality_name                                                                   \n",
       "Санкт-Петербург            9945        9945        9945                  9945   \n",
       "посёлок Мурино              459         459         459                   459   \n",
       "посёлок Шушары              356         356         356                   356   \n",
       "Всеволожск                  277         277         277                   277   \n",
       "Колпино                     271         271         271                   271   \n",
       "посёлок Парголово           261         261         261                   261   \n",
       "деревня Кудрово             257         257         257                   257   \n",
       "Пушкин                      243         243         243                   243   \n",
       "Гатчина                     218         218         218                   218   \n",
       "Выборг                      172         172         172                   172   \n",
       "\n",
       "                   rooms  ceiling_height  floors_total  living_area  floor  \\\n",
       "locality_name                                                                \n",
       "Санкт-Петербург     9945            9945          9901         9227   9945   \n",
       "посёлок Мурино       459             459           457          405    459   \n",
       "посёлок Шушары       356             356           355          326    356   \n",
       "Всеволожск           277             277           277          255    277   \n",
       "Колпино              271             271           271          262    271   \n",
       "посёлок Парголово    261             261           261          237    261   \n",
       "деревня Кудрово      257             257           257          224    257   \n",
       "Пушкин               243             243           243          224    243   \n",
       "Гатчина              218             218           218          205    218   \n",
       "Выборг               172             172           172          130    172   \n",
       "\n",
       "                   is_apartment  ...  ponds_around3000  ponds_nearest  \\\n",
       "locality_name                    ...                                    \n",
       "Санкт-Петербург            9945  ...              9929           4683   \n",
       "посёлок Мурино              459  ...                 0              0   \n",
       "посёлок Шушары              356  ...               352            123   \n",
       "Всеволожск                  277  ...                 0              0   \n",
       "Колпино                     271  ...               270            150   \n",
       "посёлок Парголово           261  ...               261             45   \n",
       "деревня Кудрово             257  ...                 0              0   \n",
       "Пушкин                      243  ...               243            109   \n",
       "Гатчина                     218  ...                 0              0   \n",
       "Выборг                      172  ...                 0              0   \n",
       "\n",
       "                   days_exposition  m2_price  weekday_exposition  \\\n",
       "locality_name                                                      \n",
       "Санкт-Петербург               9945      9945                9945   \n",
       "посёлок Мурино                 459       459                 459   \n",
       "посёлок Шушары                 356       356                 356   \n",
       "Всеволожск                     277       277                 277   \n",
       "Колпино                        271       271                 271   \n",
       "посёлок Парголово              261       261                 261   \n",
       "деревня Кудрово                257       257                 257   \n",
       "Пушкин                         243       243                 243   \n",
       "Гатчина                        218       218                 218   \n",
       "Выборг                         172       172                 172   \n",
       "\n",
       "                   month_exposition  year_exposition  floor_category  \\\n",
       "locality_name                                                          \n",
       "Санкт-Петербург                9945             9945            9945   \n",
       "посёлок Мурино                  459              459             459   \n",
       "посёлок Шушары                  356              356             356   \n",
       "Всеволожск                      277              277             277   \n",
       "Колпино                         271              271             271   \n",
       "посёлок Парголово               261              261             261   \n",
       "деревня Кудрово                 257              257             257   \n",
       "Пушкин                          243              243             243   \n",
       "Гатчина                         218              218             218   \n",
       "Выборг                          172              172             172   \n",
       "\n",
       "                   ratio_living_total_area  ratio_kitchen_total_area  \n",
       "locality_name                                                         \n",
       "Санкт-Петербург                       9227                      9023  \n",
       "посёлок Мурино                         405                       369  \n",
       "посёлок Шушары                         326                       320  \n",
       "Всеволожск                             255                       245  \n",
       "Колпино                                262                       257  \n",
       "посёлок Парголово                      237                       226  \n",
       "деревня Кудрово                        224                       195  \n",
       "Пушкин                                 224                       217  \n",
       "Гатчина                                205                       207  \n",
       "Выборг                                 130                       136  \n",
       "\n",
       "[10 rows x 28 columns]"
      ]
     },
     "execution_count": 69,
     "metadata": {},
     "output_type": "execute_result"
    }
   ],
   "source": [
    "normal_data.groupby('locality_name').count().sort_values(by='total_images', ascending=False).head(10)"
   ]
  },
  {
   "cell_type": "code",
   "execution_count": 70,
   "metadata": {},
   "outputs": [
    {
     "name": "stdout",
     "output_type": "stream",
     "text": [
      "<class 'pandas.core.frame.DataFrame'>\n",
      "Int64Index: 12459 entries, 1 to 23690\n",
      "Data columns (total 29 columns):\n",
      "total_images                12459 non-null int64\n",
      "last_price                  12459 non-null float64\n",
      "total_area                  12459 non-null float64\n",
      "first_day_exposition        12459 non-null datetime64[ns]\n",
      "rooms                       12459 non-null int64\n",
      "ceiling_height              12459 non-null float64\n",
      "floors_total                12412 non-null float64\n",
      "living_area                 11495 non-null float64\n",
      "floor                       12459 non-null int64\n",
      "is_apartment                12459 non-null bool\n",
      "studio                      12459 non-null bool\n",
      "open_plan                   12459 non-null bool\n",
      "kitchen_area                11195 non-null float64\n",
      "balcony                     12459 non-null float64\n",
      "locality_name               12459 non-null object\n",
      "airports_nearest            11043 non-null float64\n",
      "cityCenters_nearest         11055 non-null float64\n",
      "parks_around3000            11055 non-null float64\n",
      "parks_nearest               4372 non-null float64\n",
      "ponds_around3000            11055 non-null float64\n",
      "ponds_nearest               5110 non-null float64\n",
      "days_exposition             12459 non-null float64\n",
      "m2_price                    12459 non-null float64\n",
      "weekday_exposition          12459 non-null int64\n",
      "month_exposition            12459 non-null float64\n",
      "year_exposition             12459 non-null float64\n",
      "floor_category              12459 non-null object\n",
      "ratio_living_total_area     11495 non-null float64\n",
      "ratio_kitchen_total_area    11195 non-null float64\n",
      "dtypes: bool(3), datetime64[ns](1), float64(19), int64(4), object(2)\n",
      "memory usage: 2.6+ MB\n"
     ]
    }
   ],
   "source": [
    "city_max_objects = normal_data.query('locality_name == [\"Санкт-Петербург\", \"посёлок Мурино\", \"посёлок Шушары\", \"Всеволожск\", \"посёлок Парголово\", \"Колпино\", \"деревня Кудрово\", \"Пушкин\", \"Гатчина\", \"Выборг\"]')\n",
    "city_max_objects.info()"
   ]
  },
  {
   "cell_type": "code",
   "execution_count": null,
   "metadata": {},
   "outputs": [],
   "source": [
    "city_max_objects.groupby(by='locality_name').mean('m2_price').sort_values(by='m2_price', ascending=False) \n",
    "# сгруппируем датасет с нужными насеренными пунктами по их названию, посчитаем среднюю цену квадратного метра \n",
    "# и отсортируем по убыванию "
   ]
  },
  {
   "cell_type": "markdown",
   "metadata": {},
   "source": [
    "Ожидаемо самые высокие цены за квадратный метр в Санкт-Петербурге, Пушкине и деревне Курдово. Самые дешевые квартиры в этой выборке во Всеволжске и Выборге."
   ]
  },
  {
   "cell_type": "markdown",
   "metadata": {},
   "source": [
    "**Локация - Санкт-Петербург**\n",
    "\n",
    "Изучим предложения в Санкт-Петербурге и установим зависимость удаленности квартиры от центра города и цены квартиры."
   ]
  },
  {
   "cell_type": "code",
   "execution_count": 85,
   "metadata": {},
   "outputs": [
    {
     "data": {
      "text/html": [
       "<div>\n",
       "<style scoped>\n",
       "    .dataframe tbody tr th:only-of-type {\n",
       "        vertical-align: middle;\n",
       "    }\n",
       "\n",
       "    .dataframe tbody tr th {\n",
       "        vertical-align: top;\n",
       "    }\n",
       "\n",
       "    .dataframe thead th {\n",
       "        text-align: right;\n",
       "    }\n",
       "</style>\n",
       "<table border=\"1\" class=\"dataframe\">\n",
       "  <thead>\n",
       "    <tr style=\"text-align: right;\">\n",
       "      <th></th>\n",
       "      <th>total_images</th>\n",
       "      <th>last_price</th>\n",
       "      <th>total_area</th>\n",
       "      <th>first_day_exposition</th>\n",
       "      <th>rooms</th>\n",
       "      <th>ceiling_height</th>\n",
       "      <th>floors_total</th>\n",
       "      <th>living_area</th>\n",
       "      <th>floor</th>\n",
       "      <th>is_apartment</th>\n",
       "      <th>...</th>\n",
       "      <th>ponds_around3000</th>\n",
       "      <th>ponds_nearest</th>\n",
       "      <th>days_exposition</th>\n",
       "      <th>m2_price</th>\n",
       "      <th>weekday_exposition</th>\n",
       "      <th>month_exposition</th>\n",
       "      <th>year_exposition</th>\n",
       "      <th>floor_category</th>\n",
       "      <th>ratio_living_total_area</th>\n",
       "      <th>ratio_kitchen_total_area</th>\n",
       "    </tr>\n",
       "  </thead>\n",
       "  <tbody>\n",
       "    <tr>\n",
       "      <td>4</td>\n",
       "      <td>2</td>\n",
       "      <td>10000000.000</td>\n",
       "      <td>100.000</td>\n",
       "      <td>2018-06-19</td>\n",
       "      <td>2</td>\n",
       "      <td>3.030</td>\n",
       "      <td>14.000</td>\n",
       "      <td>32.000</td>\n",
       "      <td>13</td>\n",
       "      <td>True</td>\n",
       "      <td>...</td>\n",
       "      <td>1.000</td>\n",
       "      <td>48.000</td>\n",
       "      <td>121.000</td>\n",
       "      <td>100000.000</td>\n",
       "      <td>1</td>\n",
       "      <td>6.000</td>\n",
       "      <td>2018.000</td>\n",
       "      <td>другой</td>\n",
       "      <td>0.320</td>\n",
       "      <td>0.410</td>\n",
       "    </tr>\n",
       "    <tr>\n",
       "      <td>9</td>\n",
       "      <td>18</td>\n",
       "      <td>5400000.000</td>\n",
       "      <td>61.000</td>\n",
       "      <td>2017-02-26</td>\n",
       "      <td>3</td>\n",
       "      <td>2.500</td>\n",
       "      <td>9.000</td>\n",
       "      <td>43.600</td>\n",
       "      <td>7</td>\n",
       "      <td>True</td>\n",
       "      <td>...</td>\n",
       "      <td>0.000</td>\n",
       "      <td>nan</td>\n",
       "      <td>289.000</td>\n",
       "      <td>88524.590</td>\n",
       "      <td>6</td>\n",
       "      <td>2.000</td>\n",
       "      <td>2017.000</td>\n",
       "      <td>другой</td>\n",
       "      <td>0.715</td>\n",
       "      <td>0.107</td>\n",
       "    </tr>\n",
       "    <tr>\n",
       "      <td>10</td>\n",
       "      <td>5</td>\n",
       "      <td>5050000.000</td>\n",
       "      <td>39.600</td>\n",
       "      <td>2017-11-16</td>\n",
       "      <td>1</td>\n",
       "      <td>2.670</td>\n",
       "      <td>12.000</td>\n",
       "      <td>20.300</td>\n",
       "      <td>3</td>\n",
       "      <td>True</td>\n",
       "      <td>...</td>\n",
       "      <td>2.000</td>\n",
       "      <td>553.000</td>\n",
       "      <td>137.000</td>\n",
       "      <td>127525.253</td>\n",
       "      <td>3</td>\n",
       "      <td>11.000</td>\n",
       "      <td>2017.000</td>\n",
       "      <td>другой</td>\n",
       "      <td>0.513</td>\n",
       "      <td>0.215</td>\n",
       "    </tr>\n",
       "    <tr>\n",
       "      <td>15</td>\n",
       "      <td>16</td>\n",
       "      <td>4650000.000</td>\n",
       "      <td>39.000</td>\n",
       "      <td>2017-11-18</td>\n",
       "      <td>1</td>\n",
       "      <td>2.650</td>\n",
       "      <td>14.000</td>\n",
       "      <td>20.500</td>\n",
       "      <td>5</td>\n",
       "      <td>True</td>\n",
       "      <td>...</td>\n",
       "      <td>1.000</td>\n",
       "      <td>296.000</td>\n",
       "      <td>19.000</td>\n",
       "      <td>119230.769</td>\n",
       "      <td>5</td>\n",
       "      <td>11.000</td>\n",
       "      <td>2017.000</td>\n",
       "      <td>другой</td>\n",
       "      <td>0.526</td>\n",
       "      <td>0.195</td>\n",
       "    </tr>\n",
       "    <tr>\n",
       "      <td>18</td>\n",
       "      <td>8</td>\n",
       "      <td>3250000.000</td>\n",
       "      <td>31.000</td>\n",
       "      <td>2017-01-27</td>\n",
       "      <td>1</td>\n",
       "      <td>2.500</td>\n",
       "      <td>5.000</td>\n",
       "      <td>19.400</td>\n",
       "      <td>2</td>\n",
       "      <td>True</td>\n",
       "      <td>...</td>\n",
       "      <td>0.000</td>\n",
       "      <td>nan</td>\n",
       "      <td>168.000</td>\n",
       "      <td>104838.710</td>\n",
       "      <td>4</td>\n",
       "      <td>1.000</td>\n",
       "      <td>2017.000</td>\n",
       "      <td>другой</td>\n",
       "      <td>0.626</td>\n",
       "      <td>0.181</td>\n",
       "    </tr>\n",
       "    <tr>\n",
       "      <td>...</td>\n",
       "      <td>...</td>\n",
       "      <td>...</td>\n",
       "      <td>...</td>\n",
       "      <td>...</td>\n",
       "      <td>...</td>\n",
       "      <td>...</td>\n",
       "      <td>...</td>\n",
       "      <td>...</td>\n",
       "      <td>...</td>\n",
       "      <td>...</td>\n",
       "      <td>...</td>\n",
       "      <td>...</td>\n",
       "      <td>...</td>\n",
       "      <td>...</td>\n",
       "      <td>...</td>\n",
       "      <td>...</td>\n",
       "      <td>...</td>\n",
       "      <td>...</td>\n",
       "      <td>...</td>\n",
       "      <td>...</td>\n",
       "      <td>...</td>\n",
       "    </tr>\n",
       "    <tr>\n",
       "      <td>23686</td>\n",
       "      <td>8</td>\n",
       "      <td>3300000.000</td>\n",
       "      <td>31.000</td>\n",
       "      <td>2017-04-29</td>\n",
       "      <td>1</td>\n",
       "      <td>2.550</td>\n",
       "      <td>9.000</td>\n",
       "      <td>18.000</td>\n",
       "      <td>6</td>\n",
       "      <td>True</td>\n",
       "      <td>...</td>\n",
       "      <td>1.000</td>\n",
       "      <td>317.000</td>\n",
       "      <td>193.000</td>\n",
       "      <td>106451.613</td>\n",
       "      <td>5</td>\n",
       "      <td>4.000</td>\n",
       "      <td>2017.000</td>\n",
       "      <td>другой</td>\n",
       "      <td>0.581</td>\n",
       "      <td>0.210</td>\n",
       "    </tr>\n",
       "    <tr>\n",
       "      <td>23687</td>\n",
       "      <td>6</td>\n",
       "      <td>3200000.000</td>\n",
       "      <td>39.000</td>\n",
       "      <td>2017-12-16</td>\n",
       "      <td>1</td>\n",
       "      <td>2.650</td>\n",
       "      <td>9.000</td>\n",
       "      <td>20.000</td>\n",
       "      <td>6</td>\n",
       "      <td>True</td>\n",
       "      <td>...</td>\n",
       "      <td>0.000</td>\n",
       "      <td>nan</td>\n",
       "      <td>38.000</td>\n",
       "      <td>82051.282</td>\n",
       "      <td>5</td>\n",
       "      <td>12.000</td>\n",
       "      <td>2017.000</td>\n",
       "      <td>другой</td>\n",
       "      <td>0.513</td>\n",
       "      <td>0.282</td>\n",
       "    </tr>\n",
       "    <tr>\n",
       "      <td>23688</td>\n",
       "      <td>19</td>\n",
       "      <td>9200000.000</td>\n",
       "      <td>101.000</td>\n",
       "      <td>2019-04-01</td>\n",
       "      <td>3</td>\n",
       "      <td>3.050</td>\n",
       "      <td>15.000</td>\n",
       "      <td>63.000</td>\n",
       "      <td>12</td>\n",
       "      <td>True</td>\n",
       "      <td>...</td>\n",
       "      <td>0.000</td>\n",
       "      <td>nan</td>\n",
       "      <td>23.000</td>\n",
       "      <td>91089.109</td>\n",
       "      <td>0</td>\n",
       "      <td>4.000</td>\n",
       "      <td>2019.000</td>\n",
       "      <td>другой</td>\n",
       "      <td>0.624</td>\n",
       "      <td>0.149</td>\n",
       "    </tr>\n",
       "    <tr>\n",
       "      <td>23689</td>\n",
       "      <td>13</td>\n",
       "      <td>3550000.000</td>\n",
       "      <td>35.300</td>\n",
       "      <td>2018-02-28</td>\n",
       "      <td>1</td>\n",
       "      <td>2.860</td>\n",
       "      <td>15.000</td>\n",
       "      <td>16.300</td>\n",
       "      <td>4</td>\n",
       "      <td>True</td>\n",
       "      <td>...</td>\n",
       "      <td>2.000</td>\n",
       "      <td>652.000</td>\n",
       "      <td>29.000</td>\n",
       "      <td>100566.572</td>\n",
       "      <td>2</td>\n",
       "      <td>2.000</td>\n",
       "      <td>2018.000</td>\n",
       "      <td>другой</td>\n",
       "      <td>0.462</td>\n",
       "      <td>0.258</td>\n",
       "    </tr>\n",
       "    <tr>\n",
       "      <td>23690</td>\n",
       "      <td>3</td>\n",
       "      <td>5500000.000</td>\n",
       "      <td>52.000</td>\n",
       "      <td>2018-07-19</td>\n",
       "      <td>2</td>\n",
       "      <td>2.650</td>\n",
       "      <td>5.000</td>\n",
       "      <td>31.000</td>\n",
       "      <td>2</td>\n",
       "      <td>True</td>\n",
       "      <td>...</td>\n",
       "      <td>0.000</td>\n",
       "      <td>nan</td>\n",
       "      <td>15.000</td>\n",
       "      <td>105769.231</td>\n",
       "      <td>3</td>\n",
       "      <td>7.000</td>\n",
       "      <td>2018.000</td>\n",
       "      <td>другой</td>\n",
       "      <td>0.596</td>\n",
       "      <td>0.115</td>\n",
       "    </tr>\n",
       "  </tbody>\n",
       "</table>\n",
       "<p>9929 rows × 29 columns</p>\n",
       "</div>"
      ],
      "text/plain": [
       "       total_images   last_price  total_area first_day_exposition  rooms  \\\n",
       "4                 2 10000000.000     100.000           2018-06-19      2   \n",
       "9                18  5400000.000      61.000           2017-02-26      3   \n",
       "10                5  5050000.000      39.600           2017-11-16      1   \n",
       "15               16  4650000.000      39.000           2017-11-18      1   \n",
       "18                8  3250000.000      31.000           2017-01-27      1   \n",
       "...             ...          ...         ...                  ...    ...   \n",
       "23686             8  3300000.000      31.000           2017-04-29      1   \n",
       "23687             6  3200000.000      39.000           2017-12-16      1   \n",
       "23688            19  9200000.000     101.000           2019-04-01      3   \n",
       "23689            13  3550000.000      35.300           2018-02-28      1   \n",
       "23690             3  5500000.000      52.000           2018-07-19      2   \n",
       "\n",
       "       ceiling_height  floors_total  living_area  floor  is_apartment  ...  \\\n",
       "4               3.030        14.000       32.000     13          True  ...   \n",
       "9               2.500         9.000       43.600      7          True  ...   \n",
       "10              2.670        12.000       20.300      3          True  ...   \n",
       "15              2.650        14.000       20.500      5          True  ...   \n",
       "18              2.500         5.000       19.400      2          True  ...   \n",
       "...               ...           ...          ...    ...           ...  ...   \n",
       "23686           2.550         9.000       18.000      6          True  ...   \n",
       "23687           2.650         9.000       20.000      6          True  ...   \n",
       "23688           3.050        15.000       63.000     12          True  ...   \n",
       "23689           2.860        15.000       16.300      4          True  ...   \n",
       "23690           2.650         5.000       31.000      2          True  ...   \n",
       "\n",
       "       ponds_around3000  ponds_nearest  days_exposition   m2_price  \\\n",
       "4                 1.000         48.000          121.000 100000.000   \n",
       "9                 0.000            nan          289.000  88524.590   \n",
       "10                2.000        553.000          137.000 127525.253   \n",
       "15                1.000        296.000           19.000 119230.769   \n",
       "18                0.000            nan          168.000 104838.710   \n",
       "...                 ...            ...              ...        ...   \n",
       "23686             1.000        317.000          193.000 106451.613   \n",
       "23687             0.000            nan           38.000  82051.282   \n",
       "23688             0.000            nan           23.000  91089.109   \n",
       "23689             2.000        652.000           29.000 100566.572   \n",
       "23690             0.000            nan           15.000 105769.231   \n",
       "\n",
       "      weekday_exposition  month_exposition  year_exposition  floor_category  \\\n",
       "4                      1             6.000         2018.000          другой   \n",
       "9                      6             2.000         2017.000          другой   \n",
       "10                     3            11.000         2017.000          другой   \n",
       "15                     5            11.000         2017.000          другой   \n",
       "18                     4             1.000         2017.000          другой   \n",
       "...                  ...               ...              ...             ...   \n",
       "23686                  5             4.000         2017.000          другой   \n",
       "23687                  5            12.000         2017.000          другой   \n",
       "23688                  0             4.000         2019.000          другой   \n",
       "23689                  2             2.000         2018.000          другой   \n",
       "23690                  3             7.000         2018.000          другой   \n",
       "\n",
       "       ratio_living_total_area  ratio_kitchen_total_area  \n",
       "4                        0.320                     0.410  \n",
       "9                        0.715                     0.107  \n",
       "10                       0.513                     0.215  \n",
       "15                       0.526                     0.195  \n",
       "18                       0.626                     0.181  \n",
       "...                        ...                       ...  \n",
       "23686                    0.581                     0.210  \n",
       "23687                    0.513                     0.282  \n",
       "23688                    0.624                     0.149  \n",
       "23689                    0.462                     0.258  \n",
       "23690                    0.596                     0.115  \n",
       "\n",
       "[9929 rows x 29 columns]"
      ]
     },
     "execution_count": 85,
     "metadata": {},
     "output_type": "execute_result"
    }
   ],
   "source": [
    "spb_normal_data = normal_data.query('locality_name == \"Санкт-Петербург\"')\n",
    "spb_normal_data.dropna(subset=['cityCenters_nearest'])"
   ]
  },
  {
   "cell_type": "code",
   "execution_count": 86,
   "metadata": {},
   "outputs": [
    {
     "name": "stderr",
     "output_type": "stream",
     "text": [
      "/opt/conda/lib/python3.7/site-packages/ipykernel_launcher.py:2: SettingWithCopyWarning: \n",
      "A value is trying to be set on a copy of a slice from a DataFrame.\n",
      "Try using .loc[row_indexer,col_indexer] = value instead\n",
      "\n",
      "See the caveats in the documentation: http://pandas.pydata.org/pandas-docs/stable/user_guide/indexing.html#returning-a-view-versus-a-copy\n",
      "  \n"
     ]
    }
   ],
   "source": [
    "import numpy as np\n",
    "spb_normal_data['spb_center_km'] = spb_normal_data['cityCenters_nearest']/1000 \n",
    "# приведем данные в столбце расстояния от центра в км"
   ]
  },
  {
   "cell_type": "code",
   "execution_count": 87,
   "metadata": {},
   "outputs": [
    {
     "name": "stderr",
     "output_type": "stream",
     "text": [
      "/opt/conda/lib/python3.7/site-packages/ipykernel_launcher.py:1: SettingWithCopyWarning: \n",
      "A value is trying to be set on a copy of a slice from a DataFrame.\n",
      "Try using .loc[row_indexer,col_indexer] = value instead\n",
      "\n",
      "See the caveats in the documentation: http://pandas.pydata.org/pandas-docs/stable/user_guide/indexing.html#returning-a-view-versus-a-copy\n",
      "  \"\"\"Entry point for launching an IPython kernel.\n"
     ]
    },
    {
     "data": {
      "text/html": [
       "<div>\n",
       "<style scoped>\n",
       "    .dataframe tbody tr th:only-of-type {\n",
       "        vertical-align: middle;\n",
       "    }\n",
       "\n",
       "    .dataframe tbody tr th {\n",
       "        vertical-align: top;\n",
       "    }\n",
       "\n",
       "    .dataframe thead th {\n",
       "        text-align: right;\n",
       "    }\n",
       "</style>\n",
       "<table border=\"1\" class=\"dataframe\">\n",
       "  <thead>\n",
       "    <tr style=\"text-align: right;\">\n",
       "      <th></th>\n",
       "      <th>total_images</th>\n",
       "      <th>last_price</th>\n",
       "      <th>total_area</th>\n",
       "      <th>first_day_exposition</th>\n",
       "      <th>rooms</th>\n",
       "      <th>ceiling_height</th>\n",
       "      <th>floors_total</th>\n",
       "      <th>living_area</th>\n",
       "      <th>floor</th>\n",
       "      <th>is_apartment</th>\n",
       "      <th>...</th>\n",
       "      <th>ponds_nearest</th>\n",
       "      <th>days_exposition</th>\n",
       "      <th>m2_price</th>\n",
       "      <th>weekday_exposition</th>\n",
       "      <th>month_exposition</th>\n",
       "      <th>year_exposition</th>\n",
       "      <th>floor_category</th>\n",
       "      <th>ratio_living_total_area</th>\n",
       "      <th>ratio_kitchen_total_area</th>\n",
       "      <th>spb_center_km</th>\n",
       "    </tr>\n",
       "  </thead>\n",
       "  <tbody>\n",
       "    <tr>\n",
       "      <td>4</td>\n",
       "      <td>2</td>\n",
       "      <td>10000000.000</td>\n",
       "      <td>100.000</td>\n",
       "      <td>2018-06-19</td>\n",
       "      <td>2</td>\n",
       "      <td>3.030</td>\n",
       "      <td>14.000</td>\n",
       "      <td>32.000</td>\n",
       "      <td>13</td>\n",
       "      <td>True</td>\n",
       "      <td>...</td>\n",
       "      <td>48.000</td>\n",
       "      <td>121.000</td>\n",
       "      <td>100000.000</td>\n",
       "      <td>1</td>\n",
       "      <td>6.000</td>\n",
       "      <td>2018.000</td>\n",
       "      <td>другой</td>\n",
       "      <td>0.320</td>\n",
       "      <td>0.410</td>\n",
       "      <td>8.000</td>\n",
       "    </tr>\n",
       "    <tr>\n",
       "      <td>9</td>\n",
       "      <td>18</td>\n",
       "      <td>5400000.000</td>\n",
       "      <td>61.000</td>\n",
       "      <td>2017-02-26</td>\n",
       "      <td>3</td>\n",
       "      <td>2.500</td>\n",
       "      <td>9.000</td>\n",
       "      <td>43.600</td>\n",
       "      <td>7</td>\n",
       "      <td>True</td>\n",
       "      <td>...</td>\n",
       "      <td>nan</td>\n",
       "      <td>289.000</td>\n",
       "      <td>88524.590</td>\n",
       "      <td>6</td>\n",
       "      <td>2.000</td>\n",
       "      <td>2017.000</td>\n",
       "      <td>другой</td>\n",
       "      <td>0.715</td>\n",
       "      <td>0.107</td>\n",
       "      <td>15.000</td>\n",
       "    </tr>\n",
       "    <tr>\n",
       "      <td>10</td>\n",
       "      <td>5</td>\n",
       "      <td>5050000.000</td>\n",
       "      <td>39.600</td>\n",
       "      <td>2017-11-16</td>\n",
       "      <td>1</td>\n",
       "      <td>2.670</td>\n",
       "      <td>12.000</td>\n",
       "      <td>20.300</td>\n",
       "      <td>3</td>\n",
       "      <td>True</td>\n",
       "      <td>...</td>\n",
       "      <td>553.000</td>\n",
       "      <td>137.000</td>\n",
       "      <td>127525.253</td>\n",
       "      <td>3</td>\n",
       "      <td>11.000</td>\n",
       "      <td>2017.000</td>\n",
       "      <td>другой</td>\n",
       "      <td>0.513</td>\n",
       "      <td>0.215</td>\n",
       "      <td>13.000</td>\n",
       "    </tr>\n",
       "    <tr>\n",
       "      <td>15</td>\n",
       "      <td>16</td>\n",
       "      <td>4650000.000</td>\n",
       "      <td>39.000</td>\n",
       "      <td>2017-11-18</td>\n",
       "      <td>1</td>\n",
       "      <td>2.650</td>\n",
       "      <td>14.000</td>\n",
       "      <td>20.500</td>\n",
       "      <td>5</td>\n",
       "      <td>True</td>\n",
       "      <td>...</td>\n",
       "      <td>296.000</td>\n",
       "      <td>19.000</td>\n",
       "      <td>119230.769</td>\n",
       "      <td>5</td>\n",
       "      <td>11.000</td>\n",
       "      <td>2017.000</td>\n",
       "      <td>другой</td>\n",
       "      <td>0.526</td>\n",
       "      <td>0.195</td>\n",
       "      <td>14.000</td>\n",
       "    </tr>\n",
       "    <tr>\n",
       "      <td>18</td>\n",
       "      <td>8</td>\n",
       "      <td>3250000.000</td>\n",
       "      <td>31.000</td>\n",
       "      <td>2017-01-27</td>\n",
       "      <td>1</td>\n",
       "      <td>2.500</td>\n",
       "      <td>5.000</td>\n",
       "      <td>19.400</td>\n",
       "      <td>2</td>\n",
       "      <td>True</td>\n",
       "      <td>...</td>\n",
       "      <td>nan</td>\n",
       "      <td>168.000</td>\n",
       "      <td>104838.710</td>\n",
       "      <td>4</td>\n",
       "      <td>1.000</td>\n",
       "      <td>2017.000</td>\n",
       "      <td>другой</td>\n",
       "      <td>0.626</td>\n",
       "      <td>0.181</td>\n",
       "      <td>10.000</td>\n",
       "    </tr>\n",
       "  </tbody>\n",
       "</table>\n",
       "<p>5 rows × 30 columns</p>\n",
       "</div>"
      ],
      "text/plain": [
       "    total_images   last_price  total_area first_day_exposition  rooms  \\\n",
       "4              2 10000000.000     100.000           2018-06-19      2   \n",
       "9             18  5400000.000      61.000           2017-02-26      3   \n",
       "10             5  5050000.000      39.600           2017-11-16      1   \n",
       "15            16  4650000.000      39.000           2017-11-18      1   \n",
       "18             8  3250000.000      31.000           2017-01-27      1   \n",
       "\n",
       "    ceiling_height  floors_total  living_area  floor  is_apartment  ...  \\\n",
       "4            3.030        14.000       32.000     13          True  ...   \n",
       "9            2.500         9.000       43.600      7          True  ...   \n",
       "10           2.670        12.000       20.300      3          True  ...   \n",
       "15           2.650        14.000       20.500      5          True  ...   \n",
       "18           2.500         5.000       19.400      2          True  ...   \n",
       "\n",
       "    ponds_nearest  days_exposition   m2_price  weekday_exposition  \\\n",
       "4          48.000          121.000 100000.000                   1   \n",
       "9             nan          289.000  88524.590                   6   \n",
       "10        553.000          137.000 127525.253                   3   \n",
       "15        296.000           19.000 119230.769                   5   \n",
       "18            nan          168.000 104838.710                   4   \n",
       "\n",
       "   month_exposition  year_exposition  floor_category  ratio_living_total_area  \\\n",
       "4             6.000         2018.000          другой                    0.320   \n",
       "9             2.000         2017.000          другой                    0.715   \n",
       "10           11.000         2017.000          другой                    0.513   \n",
       "15           11.000         2017.000          другой                    0.526   \n",
       "18            1.000         2017.000          другой                    0.626   \n",
       "\n",
       "    ratio_kitchen_total_area  spb_center_km  \n",
       "4                      0.410          8.000  \n",
       "9                      0.107         15.000  \n",
       "10                     0.215         13.000  \n",
       "15                     0.195         14.000  \n",
       "18                     0.181         10.000  \n",
       "\n",
       "[5 rows x 30 columns]"
      ]
     },
     "execution_count": 87,
     "metadata": {},
     "output_type": "execute_result"
    }
   ],
   "source": [
    "spb_normal_data['spb_center_km'] = spb_normal_data['spb_center_km'].apply(np.floor)\n",
    "spb_normal_data.head()"
   ]
  },
  {
   "cell_type": "code",
   "execution_count": 89,
   "metadata": {},
   "outputs": [],
   "source": [
    "pivot_km_price = spb_normal_data.pivot_table(index = 'spb_center_km', values = 'm2_price', aggfunc = 'mean')"
   ]
  },
  {
   "cell_type": "code",
   "execution_count": 90,
   "metadata": {},
   "outputs": [
    {
     "data": {
      "text/plain": [
       "<matplotlib.axes._subplots.AxesSubplot at 0x7f3665547450>"
      ]
     },
     "execution_count": 90,
     "metadata": {},
     "output_type": "execute_result"
    },
    {
     "data": {
      "image/png": "[encoded data removed]",
      "text/plain": [
       "<Figure size 576x360 with 1 Axes>"
      ]
     },
     "metadata": {
      "needs_background": "light"
     },
     "output_type": "display_data"
    }
   ],
   "source": [
    "pivot_km_price.plot(kind='bar', figsize=(8, 5))"
   ]
  },
  {
   "cell_type": "markdown",
   "metadata": {},
   "source": [
    "Стабильное снижение цены начинается с показателей в 8 км. Определим это расстояние, как радиус центра и изучим предложения в пределах этой удаленности."
   ]
  },
  {
   "cell_type": "code",
   "execution_count": 91,
   "metadata": {},
   "outputs": [
    {
     "data": {
      "text/html": [
       "<div>\n",
       "<style scoped>\n",
       "    .dataframe tbody tr th:only-of-type {\n",
       "        vertical-align: middle;\n",
       "    }\n",
       "\n",
       "    .dataframe tbody tr th {\n",
       "        vertical-align: top;\n",
       "    }\n",
       "\n",
       "    .dataframe thead th {\n",
       "        text-align: right;\n",
       "    }\n",
       "</style>\n",
       "<table border=\"1\" class=\"dataframe\">\n",
       "  <thead>\n",
       "    <tr style=\"text-align: right;\">\n",
       "      <th></th>\n",
       "      <th>total_images</th>\n",
       "      <th>last_price</th>\n",
       "      <th>total_area</th>\n",
       "      <th>rooms</th>\n",
       "      <th>ceiling_height</th>\n",
       "      <th>floors_total</th>\n",
       "      <th>living_area</th>\n",
       "      <th>floor</th>\n",
       "      <th>kitchen_area</th>\n",
       "      <th>balcony</th>\n",
       "      <th>...</th>\n",
       "      <th>ponds_around3000</th>\n",
       "      <th>ponds_nearest</th>\n",
       "      <th>days_exposition</th>\n",
       "      <th>m2_price</th>\n",
       "      <th>weekday_exposition</th>\n",
       "      <th>month_exposition</th>\n",
       "      <th>year_exposition</th>\n",
       "      <th>ratio_living_total_area</th>\n",
       "      <th>ratio_kitchen_total_area</th>\n",
       "      <th>spb_center_km</th>\n",
       "    </tr>\n",
       "  </thead>\n",
       "  <tbody>\n",
       "    <tr>\n",
       "      <td>count</td>\n",
       "      <td>1736.000</td>\n",
       "      <td>1736.000</td>\n",
       "      <td>1736.000</td>\n",
       "      <td>1736.000</td>\n",
       "      <td>1736.000</td>\n",
       "      <td>1735.000</td>\n",
       "      <td>1604.000</td>\n",
       "      <td>1736.000</td>\n",
       "      <td>1557.000</td>\n",
       "      <td>1736.000</td>\n",
       "      <td>...</td>\n",
       "      <td>1736.000</td>\n",
       "      <td>1154.000</td>\n",
       "      <td>1736.000</td>\n",
       "      <td>1736.000</td>\n",
       "      <td>1736.000</td>\n",
       "      <td>1736.000</td>\n",
       "      <td>1736.000</td>\n",
       "      <td>1604.000</td>\n",
       "      <td>1557.000</td>\n",
       "      <td>1736.000</td>\n",
       "    </tr>\n",
       "    <tr>\n",
       "      <td>mean</td>\n",
       "      <td>9.338</td>\n",
       "      <td>6487359.324</td>\n",
       "      <td>58.139</td>\n",
       "      <td>2.074</td>\n",
       "      <td>2.752</td>\n",
       "      <td>7.921</td>\n",
       "      <td>33.907</td>\n",
       "      <td>4.361</td>\n",
       "      <td>10.197</td>\n",
       "      <td>0.345</td>\n",
       "      <td>...</td>\n",
       "      <td>1.122</td>\n",
       "      <td>497.746</td>\n",
       "      <td>105.730</td>\n",
       "      <td>115395.155</td>\n",
       "      <td>2.614</td>\n",
       "      <td>6.648</td>\n",
       "      <td>2017.375</td>\n",
       "      <td>0.575</td>\n",
       "      <td>0.183</td>\n",
       "      <td>5.293</td>\n",
       "    </tr>\n",
       "    <tr>\n",
       "      <td>std</td>\n",
       "      <td>5.588</td>\n",
       "      <td>1975220.076</td>\n",
       "      <td>19.039</td>\n",
       "      <td>0.895</td>\n",
       "      <td>0.191</td>\n",
       "      <td>4.730</td>\n",
       "      <td>14.151</td>\n",
       "      <td>3.225</td>\n",
       "      <td>4.414</td>\n",
       "      <td>0.746</td>\n",
       "      <td>...</td>\n",
       "      <td>1.039</td>\n",
       "      <td>259.859</td>\n",
       "      <td>89.362</td>\n",
       "      <td>27979.000</td>\n",
       "      <td>1.736</td>\n",
       "      <td>3.429</td>\n",
       "      <td>0.832</td>\n",
       "      <td>0.110</td>\n",
       "      <td>0.076</td>\n",
       "      <td>2.086</td>\n",
       "    </tr>\n",
       "    <tr>\n",
       "      <td>min</td>\n",
       "      <td>0.000</td>\n",
       "      <td>1600000.000</td>\n",
       "      <td>12.000</td>\n",
       "      <td>0.000</td>\n",
       "      <td>2.400</td>\n",
       "      <td>2.000</td>\n",
       "      <td>2.000</td>\n",
       "      <td>1.000</td>\n",
       "      <td>2.000</td>\n",
       "      <td>0.000</td>\n",
       "      <td>...</td>\n",
       "      <td>0.000</td>\n",
       "      <td>25.000</td>\n",
       "      <td>3.000</td>\n",
       "      <td>17391.304</td>\n",
       "      <td>0.000</td>\n",
       "      <td>1.000</td>\n",
       "      <td>2015.000</td>\n",
       "      <td>0.038</td>\n",
       "      <td>0.061</td>\n",
       "      <td>0.000</td>\n",
       "    </tr>\n",
       "    <tr>\n",
       "      <td>25%</td>\n",
       "      <td>5.000</td>\n",
       "      <td>4999000.000</td>\n",
       "      <td>43.975</td>\n",
       "      <td>1.000</td>\n",
       "      <td>2.650</td>\n",
       "      <td>5.000</td>\n",
       "      <td>21.675</td>\n",
       "      <td>2.000</td>\n",
       "      <td>7.360</td>\n",
       "      <td>0.000</td>\n",
       "      <td>...</td>\n",
       "      <td>0.000</td>\n",
       "      <td>290.500</td>\n",
       "      <td>34.000</td>\n",
       "      <td>95199.753</td>\n",
       "      <td>1.000</td>\n",
       "      <td>3.000</td>\n",
       "      <td>2017.000</td>\n",
       "      <td>0.511</td>\n",
       "      <td>0.131</td>\n",
       "      <td>4.000</td>\n",
       "    </tr>\n",
       "    <tr>\n",
       "      <td>50%</td>\n",
       "      <td>9.000</td>\n",
       "      <td>6450000.000</td>\n",
       "      <td>56.000</td>\n",
       "      <td>2.000</td>\n",
       "      <td>2.650</td>\n",
       "      <td>6.000</td>\n",
       "      <td>32.000</td>\n",
       "      <td>4.000</td>\n",
       "      <td>9.000</td>\n",
       "      <td>0.000</td>\n",
       "      <td>...</td>\n",
       "      <td>1.000</td>\n",
       "      <td>480.500</td>\n",
       "      <td>74.000</td>\n",
       "      <td>110389.805</td>\n",
       "      <td>3.000</td>\n",
       "      <td>7.000</td>\n",
       "      <td>2017.000</td>\n",
       "      <td>0.589</td>\n",
       "      <td>0.164</td>\n",
       "      <td>5.000</td>\n",
       "    </tr>\n",
       "    <tr>\n",
       "      <td>75%</td>\n",
       "      <td>13.000</td>\n",
       "      <td>7990000.000</td>\n",
       "      <td>71.425</td>\n",
       "      <td>3.000</td>\n",
       "      <td>2.900</td>\n",
       "      <td>10.000</td>\n",
       "      <td>43.000</td>\n",
       "      <td>5.000</td>\n",
       "      <td>12.000</td>\n",
       "      <td>0.000</td>\n",
       "      <td>...</td>\n",
       "      <td>2.000</td>\n",
       "      <td>698.000</td>\n",
       "      <td>159.000</td>\n",
       "      <td>131596.445</td>\n",
       "      <td>4.000</td>\n",
       "      <td>10.000</td>\n",
       "      <td>2018.000</td>\n",
       "      <td>0.653</td>\n",
       "      <td>0.218</td>\n",
       "      <td>7.000</td>\n",
       "    </tr>\n",
       "    <tr>\n",
       "      <td>max</td>\n",
       "      <td>32.000</td>\n",
       "      <td>10650000.000</td>\n",
       "      <td>112.200</td>\n",
       "      <td>6.000</td>\n",
       "      <td>3.200</td>\n",
       "      <td>28.000</td>\n",
       "      <td>87.000</td>\n",
       "      <td>21.000</td>\n",
       "      <td>48.300</td>\n",
       "      <td>5.000</td>\n",
       "      <td>...</td>\n",
       "      <td>3.000</td>\n",
       "      <td>1199.000</td>\n",
       "      <td>357.000</td>\n",
       "      <td>292307.692</td>\n",
       "      <td>6.000</td>\n",
       "      <td>12.000</td>\n",
       "      <td>2019.000</td>\n",
       "      <td>0.931</td>\n",
       "      <td>0.561</td>\n",
       "      <td>8.000</td>\n",
       "    </tr>\n",
       "  </tbody>\n",
       "</table>\n",
       "<p>8 rows × 24 columns</p>\n",
       "</div>"
      ],
      "text/plain": [
       "       total_images   last_price  total_area    rooms  ceiling_height  \\\n",
       "count      1736.000     1736.000    1736.000 1736.000        1736.000   \n",
       "mean          9.338  6487359.324      58.139    2.074           2.752   \n",
       "std           5.588  1975220.076      19.039    0.895           0.191   \n",
       "min           0.000  1600000.000      12.000    0.000           2.400   \n",
       "25%           5.000  4999000.000      43.975    1.000           2.650   \n",
       "50%           9.000  6450000.000      56.000    2.000           2.650   \n",
       "75%          13.000  7990000.000      71.425    3.000           2.900   \n",
       "max          32.000 10650000.000     112.200    6.000           3.200   \n",
       "\n",
       "       floors_total  living_area    floor  kitchen_area  balcony  ...  \\\n",
       "count      1735.000     1604.000 1736.000      1557.000 1736.000  ...   \n",
       "mean          7.921       33.907    4.361        10.197    0.345  ...   \n",
       "std           4.730       14.151    3.225         4.414    0.746  ...   \n",
       "min           2.000        2.000    1.000         2.000    0.000  ...   \n",
       "25%           5.000       21.675    2.000         7.360    0.000  ...   \n",
       "50%           6.000       32.000    4.000         9.000    0.000  ...   \n",
       "75%          10.000       43.000    5.000        12.000    0.000  ...   \n",
       "max          28.000       87.000   21.000        48.300    5.000  ...   \n",
       "\n",
       "       ponds_around3000  ponds_nearest  days_exposition   m2_price  \\\n",
       "count          1736.000       1154.000         1736.000   1736.000   \n",
       "mean              1.122        497.746          105.730 115395.155   \n",
       "std               1.039        259.859           89.362  27979.000   \n",
       "min               0.000         25.000            3.000  17391.304   \n",
       "25%               0.000        290.500           34.000  95199.753   \n",
       "50%               1.000        480.500           74.000 110389.805   \n",
       "75%               2.000        698.000          159.000 131596.445   \n",
       "max               3.000       1199.000          357.000 292307.692   \n",
       "\n",
       "       weekday_exposition  month_exposition  year_exposition  \\\n",
       "count            1736.000          1736.000         1736.000   \n",
       "mean                2.614             6.648         2017.375   \n",
       "std                 1.736             3.429            0.832   \n",
       "min                 0.000             1.000         2015.000   \n",
       "25%                 1.000             3.000         2017.000   \n",
       "50%                 3.000             7.000         2017.000   \n",
       "75%                 4.000            10.000         2018.000   \n",
       "max                 6.000            12.000         2019.000   \n",
       "\n",
       "       ratio_living_total_area  ratio_kitchen_total_area  spb_center_km  \n",
       "count                 1604.000                  1557.000       1736.000  \n",
       "mean                     0.575                     0.183          5.293  \n",
       "std                      0.110                     0.076          2.086  \n",
       "min                      0.038                     0.061          0.000  \n",
       "25%                      0.511                     0.131          4.000  \n",
       "50%                      0.589                     0.164          5.000  \n",
       "75%                      0.653                     0.218          7.000  \n",
       "max                      0.931                     0.561          8.000  \n",
       "\n",
       "[8 rows x 24 columns]"
      ]
     },
     "execution_count": 91,
     "metadata": {},
     "output_type": "execute_result"
    }
   ],
   "source": [
    "spb_center = spb_normal_data.query('spb_center_km <= 8')\n",
    "spb_center.describe()"
   ]
  },
  {
   "cell_type": "code",
   "execution_count": 92,
   "metadata": {},
   "outputs": [
    {
     "data": {
      "text/html": [
       "<div>\n",
       "<style scoped>\n",
       "    .dataframe tbody tr th:only-of-type {\n",
       "        vertical-align: middle;\n",
       "    }\n",
       "\n",
       "    .dataframe tbody tr th {\n",
       "        vertical-align: top;\n",
       "    }\n",
       "\n",
       "    .dataframe thead th {\n",
       "        text-align: right;\n",
       "    }\n",
       "</style>\n",
       "<table border=\"1\" class=\"dataframe\">\n",
       "  <thead>\n",
       "    <tr style=\"text-align: right;\">\n",
       "      <th></th>\n",
       "      <th>cityCenters_nearest</th>\n",
       "      <th>last_price</th>\n",
       "      <th>rooms</th>\n",
       "      <th>total_area</th>\n",
       "    </tr>\n",
       "  </thead>\n",
       "  <tbody>\n",
       "    <tr>\n",
       "      <td>cityCenters_nearest</td>\n",
       "      <td>1.000</td>\n",
       "      <td>-0.035</td>\n",
       "      <td>-0.272</td>\n",
       "      <td>-0.394</td>\n",
       "    </tr>\n",
       "    <tr>\n",
       "      <td>last_price</td>\n",
       "      <td>-0.035</td>\n",
       "      <td>1.000</td>\n",
       "      <td>0.902</td>\n",
       "      <td>0.852</td>\n",
       "    </tr>\n",
       "    <tr>\n",
       "      <td>rooms</td>\n",
       "      <td>-0.272</td>\n",
       "      <td>0.902</td>\n",
       "      <td>1.000</td>\n",
       "      <td>0.904</td>\n",
       "    </tr>\n",
       "    <tr>\n",
       "      <td>total_area</td>\n",
       "      <td>-0.394</td>\n",
       "      <td>0.852</td>\n",
       "      <td>0.904</td>\n",
       "      <td>1.000</td>\n",
       "    </tr>\n",
       "  </tbody>\n",
       "</table>\n",
       "</div>"
      ],
      "text/plain": [
       "                     cityCenters_nearest  last_price  rooms  total_area\n",
       "cityCenters_nearest                1.000      -0.035 -0.272      -0.394\n",
       "last_price                        -0.035       1.000  0.902       0.852\n",
       "rooms                             -0.272       0.902  1.000       0.904\n",
       "total_area                        -0.394       0.852  0.904       1.000"
      ]
     },
     "execution_count": 92,
     "metadata": {},
     "output_type": "execute_result"
    }
   ],
   "source": [
    "spb_center.pivot_table(index='total_images', values=['last_price', 'total_area', 'cityCenters_nearest', 'rooms'], aggfunc='mean').corr()"
   ]
  },
  {
   "cell_type": "code",
   "execution_count": 93,
   "metadata": {},
   "outputs": [
    {
     "data": {
      "text/html": [
       "<div>\n",
       "<style scoped>\n",
       "    .dataframe tbody tr th:only-of-type {\n",
       "        vertical-align: middle;\n",
       "    }\n",
       "\n",
       "    .dataframe tbody tr th {\n",
       "        vertical-align: top;\n",
       "    }\n",
       "\n",
       "    .dataframe thead th {\n",
       "        text-align: right;\n",
       "    }\n",
       "</style>\n",
       "<table border=\"1\" class=\"dataframe\">\n",
       "  <thead>\n",
       "    <tr style=\"text-align: right;\">\n",
       "      <th></th>\n",
       "      <th>cityCenters_nearest</th>\n",
       "      <th>last_price</th>\n",
       "      <th>rooms</th>\n",
       "      <th>total_area</th>\n",
       "    </tr>\n",
       "  </thead>\n",
       "  <tbody>\n",
       "    <tr>\n",
       "      <td>cityCenters_nearest</td>\n",
       "      <td>1.000</td>\n",
       "      <td>-0.480</td>\n",
       "      <td>-0.239</td>\n",
       "      <td>-0.118</td>\n",
       "    </tr>\n",
       "    <tr>\n",
       "      <td>last_price</td>\n",
       "      <td>-0.480</td>\n",
       "      <td>1.000</td>\n",
       "      <td>0.634</td>\n",
       "      <td>0.772</td>\n",
       "    </tr>\n",
       "    <tr>\n",
       "      <td>rooms</td>\n",
       "      <td>-0.239</td>\n",
       "      <td>0.634</td>\n",
       "      <td>1.000</td>\n",
       "      <td>0.896</td>\n",
       "    </tr>\n",
       "    <tr>\n",
       "      <td>total_area</td>\n",
       "      <td>-0.118</td>\n",
       "      <td>0.772</td>\n",
       "      <td>0.896</td>\n",
       "      <td>1.000</td>\n",
       "    </tr>\n",
       "  </tbody>\n",
       "</table>\n",
       "</div>"
      ],
      "text/plain": [
       "                     cityCenters_nearest  last_price  rooms  total_area\n",
       "cityCenters_nearest                1.000      -0.480 -0.239      -0.118\n",
       "last_price                        -0.480       1.000  0.634       0.772\n",
       "rooms                             -0.239       0.634  1.000       0.896\n",
       "total_area                        -0.118       0.772  0.896       1.000"
      ]
     },
     "execution_count": 93,
     "metadata": {},
     "output_type": "execute_result"
    }
   ],
   "source": [
    "normal_data.pivot_table(index='total_images', values=['last_price', 'total_area', 'cityCenters_nearest', 'rooms'], aggfunc='mean').corr() #сравним с общей выборкой"
   ]
  },
  {
   "cell_type": "markdown",
   "metadata": {},
   "source": [
    "Коэффициенты корреляции имеют одинаковую (закономерную) тенденцию, однако заметно меняются коэффициенты. Удаленность от центра оказывает меньшее влияние на цену, так как объекты находятся в одном районе и разброс цен здесь в принципе меньше, чем по всей выборке, включая пригороды.\n",
    "\n",
    "Усиливается коллеряция между ценой и количеством комнат. Значительно выше взаимосвязь (отрицательная корреляция) между площадью и местоположением - чем ближе к центру, тем больше площадь, найти студию в центре крайне сложно. В целом почти все параметры (кроме пары удаленность от центра - цена объекта) показывают большую зависимость друг от друга, чем в полной выборке."
   ]
  },
  {
   "cell_type": "markdown",
   "metadata": {},
   "source": [
    "**Посмотрим, как влияет этаж на цену квартиры в центре Санкт-Петербурга.**"
   ]
  },
  {
   "cell_type": "code",
   "execution_count": 94,
   "metadata": {},
   "outputs": [
    {
     "data": {
      "text/plain": [
       "<matplotlib.axes._subplots.AxesSubplot at 0x7f366543d750>"
      ]
     },
     "execution_count": 94,
     "metadata": {},
     "output_type": "execute_result"
    },
    {
     "data": {
      "image/png": "[encoded data removed]",
      "text/plain": [
       "<Figure size 432x288 with 1 Axes>"
      ]
     },
     "metadata": {
      "needs_background": "light"
     },
     "output_type": "display_data"
    }
   ],
   "source": [
    "spb_center.pivot_table(index = 'floor_category', values = 'last_price').plot(kind='bar')"
   ]
  },
  {
   "cell_type": "markdown",
   "metadata": {},
   "source": [
    "Интересно изменились показатели соотношения цены и этажа. Цены на квариры на последнем этаже в центре значительно выросли в соотношении с общей выборкой: мы видим, что последний этаж почти равен всем остальным, кроме первого. Это связано с высокой ценой \"видовых\" квартир."
   ]
  },
  {
   "cell_type": "markdown",
   "metadata": {},
   "source": [
    "**Высота потолка в центре и во всех объектах**"
   ]
  },
  {
   "cell_type": "code",
   "execution_count": 95,
   "metadata": {},
   "outputs": [
    {
     "data": {
      "text/plain": [
       "<matplotlib.axes._subplots.AxesSubplot at 0x7f366541c190>"
      ]
     },
     "execution_count": 95,
     "metadata": {},
     "output_type": "execute_result"
    },
    {
     "data": {
      "image/png": "[encoded data removed]",
      "text/plain": [
       "<Figure size 432x288 with 1 Axes>"
      ]
     },
     "metadata": {
      "needs_background": "light"
     },
     "output_type": "display_data"
    }
   ],
   "source": [
    "spb_center.pivot_table(index = 'ceiling_height', values = 'm2_price', aggfunc = 'mean').plot()"
   ]
  },
  {
   "cell_type": "code",
   "execution_count": 96,
   "metadata": {},
   "outputs": [
    {
     "data": {
      "text/plain": [
       "<matplotlib.axes._subplots.AxesSubplot at 0x7f366533b5d0>"
      ]
     },
     "execution_count": 96,
     "metadata": {},
     "output_type": "execute_result"
    },
    {
     "data": {
      "image/png": "[encoded data removed]",
      "text/plain": [
       "<Figure size 432x288 with 1 Axes>"
      ]
     },
     "metadata": {
      "needs_background": "light"
     },
     "output_type": "display_data"
    }
   ],
   "source": [
    "normal_data.query('ceiling_height > 2.3').pivot_table(index = 'ceiling_height', values = 'm2_price', aggfunc = 'mean').plot()"
   ]
  },
  {
   "cell_type": "markdown",
   "metadata": {},
   "source": [
    "Данные графики мало информативны, однако можно заметить, что центр Петербурга показывает больший \"разброс\" покаателей."
   ]
  },
  {
   "cell_type": "markdown",
   "metadata": {},
   "source": [
    "**Изучим параметры даты экспозиции для квартир в центре**"
   ]
  },
  {
   "cell_type": "code",
   "execution_count": 97,
   "metadata": {},
   "outputs": [
    {
     "data": {
      "text/plain": [
       "<matplotlib.axes._subplots.AxesSubplot at 0x7f3665331190>"
      ]
     },
     "execution_count": 97,
     "metadata": {},
     "output_type": "execute_result"
    },
    {
     "data": {
      "image/png": "[encoded data removed]",
      "text/plain": [
       "<Figure size 576x360 with 1 Axes>"
      ]
     },
     "metadata": {
      "needs_background": "light"
     },
     "output_type": "display_data"
    }
   ],
   "source": [
    "spb_center.plot(y='days_exposition', kind ='hist', bins=50, grid=True, figsize = (8,5))"
   ]
  },
  {
   "cell_type": "markdown",
   "metadata": {},
   "source": [
    "В сравнении с общей выборкой изменился характер корреляции цены и дня недели, она из отрицательной перешла в положительную, однако взаимосвязь по-прежнему слаба."
   ]
  },
  {
   "cell_type": "code",
   "execution_count": 100,
   "metadata": {},
   "outputs": [
    {
     "data": {
      "text/plain": [
       "<matplotlib.axes._subplots.AxesSubplot at 0x7f366522e090>"
      ]
     },
     "execution_count": 100,
     "metadata": {},
     "output_type": "execute_result"
    },
    {
     "data": {
      "image/png": "[encoded data removed]",
      "text/plain": [
       "<Figure size 432x288 with 1 Axes>"
      ]
     },
     "metadata": {
      "needs_background": "light"
     },
     "output_type": "display_data"
    }
   ],
   "source": [
    "spb_center.pivot_table(index = 'month_exposition', values = 'm2_price', aggfunc = 'mean').plot()"
   ]
  },
  {
   "cell_type": "code",
   "execution_count": 101,
   "metadata": {},
   "outputs": [
    {
     "data": {
      "text/plain": [
       "<matplotlib.axes._subplots.AxesSubplot at 0x7f36651af9d0>"
      ]
     },
     "execution_count": 101,
     "metadata": {},
     "output_type": "execute_result"
    },
    {
     "data": {
      "image/png": "[encoded data removed]",
      "text/plain": [
       "<Figure size 432x288 with 1 Axes>"
      ]
     },
     "metadata": {
      "needs_background": "light"
     },
     "output_type": "display_data"
    }
   ],
   "source": [
    "normal_data.pivot_table(index = 'month_exposition', values = 'm2_price', aggfunc = 'mean').plot()"
   ]
  },
  {
   "cell_type": "markdown",
   "metadata": {},
   "source": [
    "Сезонность предложения в центре Санкт-Петербурга отличается, в отличие от общей выборки, здесь пик приходится на весну, а не на осень, а вот спад количества выставленных объявлений так и остался в июне месяце."
   ]
  },
  {
   "cell_type": "code",
   "execution_count": 102,
   "metadata": {},
   "outputs": [
    {
     "data": {
      "text/plain": [
       "<matplotlib.axes._subplots.AxesSubplot at 0x7f3665114110>"
      ]
     },
     "execution_count": 102,
     "metadata": {},
     "output_type": "execute_result"
    },
    {
     "data": {
      "image/png": "[encoded data removed]",
      "text/plain": [
       "<Figure size 432x288 with 1 Axes>"
      ]
     },
     "metadata": {
      "needs_background": "light"
     },
     "output_type": "display_data"
    }
   ],
   "source": [
    "spb_center.pivot_table(index = 'year_exposition', values = 'm2_price', aggfunc = 'mean').plot()"
   ]
  },
  {
   "cell_type": "code",
   "execution_count": 103,
   "metadata": {},
   "outputs": [
    {
     "data": {
      "text/plain": [
       "<matplotlib.axes._subplots.AxesSubplot at 0x7f366508c610>"
      ]
     },
     "execution_count": 103,
     "metadata": {},
     "output_type": "execute_result"
    },
    {
     "data": {
      "image/png": "[encoded data removed]",
      "text/plain": [
       "<Figure size 432x288 with 1 Axes>"
      ]
     },
     "metadata": {
      "needs_background": "light"
     },
     "output_type": "display_data"
    }
   ],
   "source": [
    "normal_data.pivot_table(index = 'year_exposition', values = 'm2_price', aggfunc = 'mean').plot()"
   ]
  },
  {
   "cell_type": "markdown",
   "metadata": {},
   "source": [
    "Цена на квартиры в центре резко пошла вверх уже в 2015 году, в отличие от цены по всей выборке, где период 2015-2017 года был довольно ровным. 2017-2018 годы отметились схожей тенденцией роста. По графикам видно, что скачек цен в 2018 году характерен и для центра, и для всех объектов общей выборки."
   ]
  },
  {
   "cell_type": "markdown",
   "metadata": {},
   "source": [
    "### Вывод"
   ]
  },
  {
   "cell_type": "markdown",
   "metadata": {},
   "source": [
    "Рассмотренные параметры и выявленные тенденции говорят о высоком влиянии локации объекта на его цену. Объекты в центре Санкт-Петербурга значительно отличаются от большинства других, они показывают другие корреляции, цена на них ведет себя иначе, меняется сезонность, поэтому желательно учитывать такие особенности при выделении закономерностей и установке параметров."
   ]
  },
  {
   "cell_type": "markdown",
   "metadata": {},
   "source": [
    "## Общий вывод"
   ]
  },
  {
   "cell_type": "markdown",
   "metadata": {},
   "source": []
  },
  {
   "cell_type": "markdown",
   "metadata": {},
   "source": [
    "Проведенное исследование позволило изучить влияние различных параметров на цену объектов недвижимости.\n",
    "\n",
    "**Цена за метр.** \n",
    "Цена за квадратный метр объекта – важный показатель, который активно коррелирует с другими показателями. Слишком высокая или слишком низкая цена за метр – подозрительное явление, которое может быть признаком мошеннических действий, его необходимо отслеживать. \n",
    "\n",
    "**Общая площадь.**\n",
    "Изучение общей площади выборки дало немало интересных результатов: среди объектов встречаются квартиры как в 12 кв.м, так и в 900. Кроме того, общая площадь напрямую связана с ценой объекта.\n",
    "\n",
    "**Число комнат.**\n",
    "Как ни странно, но число комнат влияет не только на цену на всю квартиру, но и на квадратный метр, при чем небольшие квартиры в пересчете на метр стоят дороже из-за большего спроса на такое жилье.\n",
    "\n",
    "**Этаж расположения объекта.**\n",
    "Этаж – еще один немаловажный фактор, влияющий на цену. Цены на первом этаже всегда ниже, чем на последующих, а вот верхний этаж будет дешевле везде, кроме центра города, где есть спрос на видовые квартиры.\n",
    "\n",
    "**Удаленность от центра города.**\n",
    "Расположение относительно центра города – важнейший фактор. Цены ближе к центру закономерно растут, при этом если определить параметры центра и изучать данные внутри этого района отдельно, можно наблюдать расхождения в поведении ранка относительно общего числа проданных квартир.\n",
    "\n",
    "**Время выставления объекта на продажу.**\n",
    "Показатели времени появления объекта на рынке очень важны, они помогают отслеживать сезонность, а также выделать закономерности и тенденции изменения цены. Снижение цены на объект при растущем рынке – важный признак, который необходимо изучать."
   ]
  }
 ],
 "metadata": {
  "ExecuteTimeLog": [
   {
    "duration": 1293,
    "start_time": "2022-01-24T16:58:44.792Z"
   },
   {
    "duration": 2210,
    "start_time": "2022-01-24T16:58:54.926Z"
   },
   {
    "duration": 116,
    "start_time": "2022-01-24T17:00:02.774Z"
   },
   {
    "duration": 65,
    "start_time": "2022-01-24T17:00:20.372Z"
   },
   {
    "duration": 31,
    "start_time": "2022-01-24T17:02:40.350Z"
   },
   {
    "duration": 9,
    "start_time": "2022-01-24T17:04:04.085Z"
   },
   {
    "duration": 133,
    "start_time": "2022-01-24T17:04:27.246Z"
   },
   {
    "duration": 24,
    "start_time": "2022-01-24T17:05:05.893Z"
   },
   {
    "duration": 99,
    "start_time": "2022-01-24T17:05:35.877Z"
   },
   {
    "duration": 25,
    "start_time": "2022-01-24T17:07:47.855Z"
   },
   {
    "duration": 8,
    "start_time": "2022-01-24T17:08:38.767Z"
   },
   {
    "duration": 6,
    "start_time": "2022-01-24T17:09:03.686Z"
   },
   {
    "duration": 35,
    "start_time": "2022-01-24T17:10:05.929Z"
   },
   {
    "duration": 12,
    "start_time": "2022-01-24T17:10:15.454Z"
   },
   {
    "duration": 45,
    "start_time": "2022-01-24T17:10:24.666Z"
   },
   {
    "duration": 37,
    "start_time": "2022-01-24T17:11:42.144Z"
   },
   {
    "duration": 22,
    "start_time": "2022-01-24T17:11:53.607Z"
   },
   {
    "duration": 31,
    "start_time": "2022-01-24T17:12:45.221Z"
   },
   {
    "duration": 26,
    "start_time": "2022-01-24T17:13:15.560Z"
   },
   {
    "duration": 15,
    "start_time": "2022-01-24T17:13:24.672Z"
   },
   {
    "duration": 18,
    "start_time": "2022-01-24T17:13:59.841Z"
   },
   {
    "duration": 104,
    "start_time": "2022-01-24T17:16:19.196Z"
   },
   {
    "duration": 554,
    "start_time": "2022-01-24T17:16:27.933Z"
   },
   {
    "duration": 351,
    "start_time": "2022-01-24T17:17:39.192Z"
   },
   {
    "duration": 1013,
    "start_time": "2022-01-24T17:18:24.906Z"
   },
   {
    "duration": 9,
    "start_time": "2022-01-24T17:19:24.663Z"
   },
   {
    "duration": 123,
    "start_time": "2022-01-24T17:19:27.006Z"
   },
   {
    "duration": 12,
    "start_time": "2022-01-24T17:21:10.911Z"
   },
   {
    "duration": 634,
    "start_time": "2022-01-24T17:21:21.478Z"
   },
   {
    "duration": 230,
    "start_time": "2022-01-24T17:21:33.053Z"
   },
   {
    "duration": 6,
    "start_time": "2022-01-24T17:22:07.887Z"
   },
   {
    "duration": 662,
    "start_time": "2022-01-24T17:22:18.216Z"
   },
   {
    "duration": 112,
    "start_time": "2022-01-24T17:22:29.861Z"
   },
   {
    "duration": 12,
    "start_time": "2022-01-24T17:23:13.103Z"
   },
   {
    "duration": 1127,
    "start_time": "2022-01-24T17:23:22.806Z"
   },
   {
    "duration": 230,
    "start_time": "2022-01-24T17:23:43.318Z"
   },
   {
    "duration": 6,
    "start_time": "2022-01-24T17:23:53.245Z"
   },
   {
    "duration": 755,
    "start_time": "2022-01-24T17:24:16.982Z"
   },
   {
    "duration": 114,
    "start_time": "2022-01-24T17:24:28.792Z"
   },
   {
    "duration": 13,
    "start_time": "2022-01-24T17:25:13.750Z"
   },
   {
    "duration": 444,
    "start_time": "2022-01-24T17:25:21.286Z"
   },
   {
    "duration": 203,
    "start_time": "2022-01-24T17:25:30.801Z"
   },
   {
    "duration": 11,
    "start_time": "2022-01-24T17:26:15.770Z"
   },
   {
    "duration": 424,
    "start_time": "2022-01-24T17:26:23.736Z"
   },
   {
    "duration": 242,
    "start_time": "2022-01-24T17:26:33.483Z"
   },
   {
    "duration": 6,
    "start_time": "2022-01-24T17:26:42.863Z"
   },
   {
    "duration": 12,
    "start_time": "2022-01-24T17:27:03.552Z"
   },
   {
    "duration": 171,
    "start_time": "2022-01-24T17:27:13.751Z"
   },
   {
    "duration": 15,
    "start_time": "2022-01-24T17:27:53.690Z"
   },
   {
    "duration": 712,
    "start_time": "2022-01-24T17:28:07.007Z"
   },
   {
    "duration": 597,
    "start_time": "2022-01-24T17:28:14.777Z"
   },
   {
    "duration": 211,
    "start_time": "2022-01-24T17:28:23.280Z"
   },
   {
    "duration": 7,
    "start_time": "2022-01-24T17:28:32.615Z"
   },
   {
    "duration": 11,
    "start_time": "2022-01-24T17:29:29.760Z"
   },
   {
    "duration": 12,
    "start_time": "2022-01-24T17:29:37.362Z"
   },
   {
    "duration": 684,
    "start_time": "2022-01-24T17:30:11.539Z"
   },
   {
    "duration": 13,
    "start_time": "2022-01-24T17:30:20.223Z"
   },
   {
    "duration": 22,
    "start_time": "2022-01-24T17:30:50.665Z"
   },
   {
    "duration": 26,
    "start_time": "2022-01-24T17:30:59.752Z"
   },
   {
    "duration": 3,
    "start_time": "2022-01-24T17:32:10.307Z"
   },
   {
    "duration": 27,
    "start_time": "2022-01-24T17:32:55.409Z"
   },
   {
    "duration": 2523,
    "start_time": "2022-01-24T17:33:04.484Z"
   },
   {
    "duration": 462,
    "start_time": "2022-01-24T17:33:50.017Z"
   },
   {
    "duration": 3,
    "start_time": "2022-01-24T17:34:15.082Z"
   },
   {
    "duration": 233,
    "start_time": "2022-01-24T17:34:31.517Z"
   },
   {
    "duration": 352,
    "start_time": "2022-01-24T17:35:26.690Z"
   },
   {
    "duration": 275,
    "start_time": "2022-01-24T17:36:07.059Z"
   },
   {
    "duration": 38,
    "start_time": "2022-01-24T17:36:47.259Z"
   },
   {
    "duration": 31,
    "start_time": "2022-01-24T17:37:13.083Z"
   },
   {
    "duration": 2792,
    "start_time": "2022-01-24T17:37:22.635Z"
   },
   {
    "duration": 331,
    "start_time": "2022-01-24T17:38:04.988Z"
   },
   {
    "duration": 277,
    "start_time": "2022-01-24T17:38:40.092Z"
   },
   {
    "duration": 506,
    "start_time": "2022-01-24T17:39:29.894Z"
   },
   {
    "duration": 36,
    "start_time": "2022-01-24T17:40:43.373Z"
   },
   {
    "duration": 41,
    "start_time": "2022-01-24T17:41:27.141Z"
   },
   {
    "duration": 23,
    "start_time": "2022-01-24T17:41:34.050Z"
   },
   {
    "duration": 301,
    "start_time": "2022-01-24T17:41:46.902Z"
   },
   {
    "duration": 308,
    "start_time": "2022-01-24T17:43:36.853Z"
   },
   {
    "duration": 877,
    "start_time": "2022-01-24T17:45:07.855Z"
   },
   {
    "duration": 115,
    "start_time": "2022-01-24T17:45:09.525Z"
   },
   {
    "duration": 42,
    "start_time": "2022-01-24T17:45:10.303Z"
   },
   {
    "duration": 29,
    "start_time": "2022-01-24T17:45:11.868Z"
   },
   {
    "duration": 14,
    "start_time": "2022-01-24T17:45:14.421Z"
   },
   {
    "duration": 123,
    "start_time": "2022-01-24T17:45:15.812Z"
   },
   {
    "duration": 21,
    "start_time": "2022-01-24T17:45:20.030Z"
   },
   {
    "duration": 115,
    "start_time": "2022-01-24T17:45:22.226Z"
   },
   {
    "duration": 30,
    "start_time": "2022-01-24T17:45:25.801Z"
   },
   {
    "duration": 8,
    "start_time": "2022-01-24T17:45:28.053Z"
   },
   {
    "duration": 5,
    "start_time": "2022-01-24T17:45:29.396Z"
   },
   {
    "duration": 40,
    "start_time": "2022-01-24T17:45:31.583Z"
   },
   {
    "duration": 13,
    "start_time": "2022-01-24T17:45:33.263Z"
   },
   {
    "duration": 48,
    "start_time": "2022-01-24T17:45:34.287Z"
   },
   {
    "duration": 46,
    "start_time": "2022-01-24T17:45:37.118Z"
   },
   {
    "duration": 17,
    "start_time": "2022-01-24T17:45:38.605Z"
   },
   {
    "duration": 30,
    "start_time": "2022-01-24T17:45:41.117Z"
   },
   {
    "duration": 20,
    "start_time": "2022-01-24T17:45:42.220Z"
   },
   {
    "duration": 14,
    "start_time": "2022-01-24T17:45:43.397Z"
   },
   {
    "duration": 106,
    "start_time": "2022-01-24T17:45:46.078Z"
   },
   {
    "duration": 652,
    "start_time": "2022-01-24T17:45:47.558Z"
   },
   {
    "duration": 346,
    "start_time": "2022-01-24T17:45:50.127Z"
   },
   {
    "duration": 1062,
    "start_time": "2022-01-24T17:46:00.933Z"
   },
   {
    "duration": 8,
    "start_time": "2022-01-24T17:46:03.253Z"
   },
   {
    "duration": 133,
    "start_time": "2022-01-24T17:46:04.654Z"
   },
   {
    "duration": 12,
    "start_time": "2022-01-24T17:46:07.706Z"
   },
   {
    "duration": 644,
    "start_time": "2022-01-24T17:46:08.690Z"
   },
   {
    "duration": 229,
    "start_time": "2022-01-24T17:46:10.534Z"
   },
   {
    "duration": 7,
    "start_time": "2022-01-24T17:46:12.758Z"
   },
   {
    "duration": 739,
    "start_time": "2022-01-24T17:46:14.030Z"
   },
   {
    "duration": 163,
    "start_time": "2022-01-24T17:46:15.111Z"
   },
   {
    "duration": 12,
    "start_time": "2022-01-24T17:46:17.629Z"
   },
   {
    "duration": 1122,
    "start_time": "2022-01-24T17:46:18.653Z"
   },
   {
    "duration": 229,
    "start_time": "2022-01-24T17:46:20.949Z"
   },
   {
    "duration": 5,
    "start_time": "2022-01-24T17:46:22.117Z"
   },
   {
    "duration": 742,
    "start_time": "2022-01-24T17:46:24.848Z"
   },
   {
    "duration": 120,
    "start_time": "2022-01-24T17:46:25.757Z"
   },
   {
    "duration": 11,
    "start_time": "2022-01-24T17:46:28.397Z"
   },
   {
    "duration": 423,
    "start_time": "2022-01-24T17:46:29.245Z"
   },
   {
    "duration": 215,
    "start_time": "2022-01-24T17:46:31.663Z"
   },
   {
    "duration": 13,
    "start_time": "2022-01-24T17:46:34.341Z"
   },
   {
    "duration": 436,
    "start_time": "2022-01-24T17:46:35.613Z"
   },
   {
    "duration": 256,
    "start_time": "2022-01-24T17:46:37.271Z"
   },
   {
    "duration": 6,
    "start_time": "2022-01-24T17:46:38.814Z"
   },
   {
    "duration": 121,
    "start_time": "2022-01-24T17:46:40.709Z"
   },
   {
    "duration": 15,
    "start_time": "2022-01-24T17:46:42.998Z"
   },
   {
    "duration": 643,
    "start_time": "2022-01-24T17:46:44.126Z"
   },
   {
    "duration": 601,
    "start_time": "2022-01-24T17:46:45.214Z"
   },
   {
    "duration": 209,
    "start_time": "2022-01-24T17:46:47.805Z"
   },
   {
    "duration": 6,
    "start_time": "2022-01-24T17:46:50.334Z"
   },
   {
    "duration": 13,
    "start_time": "2022-01-24T17:46:52.158Z"
   },
   {
    "duration": 13,
    "start_time": "2022-01-24T17:46:53.057Z"
   },
   {
    "duration": 663,
    "start_time": "2022-01-24T17:46:55.557Z"
   },
   {
    "duration": 9,
    "start_time": "2022-01-24T17:46:57.333Z"
   },
   {
    "duration": 22,
    "start_time": "2022-01-24T17:46:59.149Z"
   },
   {
    "duration": 34,
    "start_time": "2022-01-24T17:47:00.182Z"
   },
   {
    "duration": 25,
    "start_time": "2022-01-24T17:47:04.390Z"
   },
   {
    "duration": 2559,
    "start_time": "2022-01-24T17:47:05.589Z"
   },
   {
    "duration": 434,
    "start_time": "2022-01-24T17:47:12.111Z"
   },
   {
    "duration": 253,
    "start_time": "2022-01-24T17:47:15.357Z"
   },
   {
    "duration": 361,
    "start_time": "2022-01-24T17:47:17.119Z"
   },
   {
    "duration": 268,
    "start_time": "2022-01-24T17:47:21.238Z"
   },
   {
    "duration": 37,
    "start_time": "2022-01-24T17:47:23.430Z"
   },
   {
    "duration": 25,
    "start_time": "2022-01-24T17:47:25.461Z"
   },
   {
    "duration": 2382,
    "start_time": "2022-01-24T17:47:27.351Z"
   },
   {
    "duration": 312,
    "start_time": "2022-01-24T17:47:32.575Z"
   },
   {
    "duration": 369,
    "start_time": "2022-01-24T17:47:34.854Z"
   },
   {
    "duration": 304,
    "start_time": "2022-01-24T17:47:37.463Z"
   },
   {
    "duration": 38,
    "start_time": "2022-01-24T17:47:40.374Z"
   },
   {
    "duration": 23,
    "start_time": "2022-01-24T17:47:41.646Z"
   },
   {
    "duration": 400,
    "start_time": "2022-01-24T17:47:43.582Z"
   },
   {
    "duration": 314,
    "start_time": "2022-01-24T17:49:10.760Z"
   },
   {
    "duration": 380,
    "start_time": "2022-01-24T17:50:05.279Z"
   },
   {
    "duration": 286,
    "start_time": "2022-01-24T17:52:30.712Z"
   },
   {
    "duration": 279,
    "start_time": "2022-01-24T17:59:14.561Z"
   },
   {
    "duration": 6,
    "start_time": "2022-01-24T18:07:41.873Z"
   },
   {
    "duration": 280,
    "start_time": "2022-01-24T18:07:59.118Z"
   },
   {
    "duration": 317,
    "start_time": "2022-01-24T18:08:46.837Z"
   },
   {
    "duration": 332,
    "start_time": "2022-01-24T18:14:30.661Z"
   },
   {
    "duration": 291,
    "start_time": "2022-01-24T18:16:54.975Z"
   },
   {
    "duration": 295,
    "start_time": "2022-01-24T18:17:37.802Z"
   },
   {
    "duration": 492,
    "start_time": "2022-01-24T18:18:02.308Z"
   },
   {
    "duration": 318,
    "start_time": "2022-01-24T18:19:17.936Z"
   },
   {
    "duration": 277,
    "start_time": "2022-01-24T18:33:25.490Z"
   },
   {
    "duration": 60,
    "start_time": "2022-01-24T18:34:15.997Z"
   },
   {
    "duration": 7,
    "start_time": "2022-01-24T18:34:30.045Z"
   },
   {
    "duration": 32,
    "start_time": "2022-01-24T18:34:45.773Z"
   },
   {
    "duration": 399,
    "start_time": "2022-01-24T18:34:57.608Z"
   },
   {
    "duration": 19,
    "start_time": "2022-01-24T18:35:20.238Z"
   },
   {
    "duration": 625,
    "start_time": "2022-01-24T18:35:34.118Z"
   },
   {
    "duration": 108,
    "start_time": "2022-01-24T18:36:11.005Z"
   },
   {
    "duration": 26,
    "start_time": "2022-01-24T18:36:27.110Z"
   },
   {
    "duration": 31,
    "start_time": "2022-01-24T18:36:37.015Z"
   },
   {
    "duration": 281,
    "start_time": "2022-01-24T18:37:25.879Z"
   },
   {
    "duration": 305,
    "start_time": "2022-01-24T18:38:28.704Z"
   },
   {
    "duration": 332,
    "start_time": "2022-01-24T18:38:38.485Z"
   },
   {
    "duration": 544,
    "start_time": "2022-01-24T18:39:25.156Z"
   },
   {
    "duration": 24,
    "start_time": "2022-01-24T18:39:36.713Z"
   },
   {
    "duration": 23,
    "start_time": "2022-01-24T18:39:46.495Z"
   },
   {
    "duration": 294,
    "start_time": "2022-01-24T18:40:12.673Z"
   },
   {
    "duration": 401,
    "start_time": "2022-01-24T18:40:23.722Z"
   },
   {
    "duration": 298,
    "start_time": "2022-01-24T18:40:56.216Z"
   },
   {
    "duration": 337,
    "start_time": "2022-01-24T18:41:06.156Z"
   },
   {
    "duration": 1005,
    "start_time": "2022-01-24T18:46:17.501Z"
   },
   {
    "duration": 158,
    "start_time": "2022-01-24T18:46:18.510Z"
   },
   {
    "duration": 63,
    "start_time": "2022-01-24T18:46:18.781Z"
   },
   {
    "duration": 36,
    "start_time": "2022-01-24T18:46:22.021Z"
   },
   {
    "duration": 17,
    "start_time": "2022-01-24T18:46:27.216Z"
   },
   {
    "duration": 143,
    "start_time": "2022-01-24T18:46:29.317Z"
   },
   {
    "duration": 32,
    "start_time": "2022-01-24T18:46:31.104Z"
   },
   {
    "duration": 107,
    "start_time": "2022-01-24T18:46:34.662Z"
   },
   {
    "duration": 28,
    "start_time": "2022-01-24T18:46:38.329Z"
   },
   {
    "duration": 8,
    "start_time": "2022-01-24T18:46:42.694Z"
   },
   {
    "duration": 5,
    "start_time": "2022-01-24T18:46:44.669Z"
   },
   {
    "duration": 34,
    "start_time": "2022-01-24T18:46:46.894Z"
   },
   {
    "duration": 14,
    "start_time": "2022-01-24T18:46:48.580Z"
   },
   {
    "duration": 47,
    "start_time": "2022-01-24T18:46:52.465Z"
   },
   {
    "duration": 33,
    "start_time": "2022-01-24T18:46:57.047Z"
   },
   {
    "duration": 22,
    "start_time": "2022-01-24T18:46:57.918Z"
   },
   {
    "duration": 32,
    "start_time": "2022-01-24T18:47:02.485Z"
   },
   {
    "duration": 20,
    "start_time": "2022-01-24T18:47:03.462Z"
   },
   {
    "duration": 14,
    "start_time": "2022-01-24T18:47:06.121Z"
   },
   {
    "duration": 113,
    "start_time": "2022-01-24T18:47:11.406Z"
   },
   {
    "duration": 629,
    "start_time": "2022-01-24T18:47:13.282Z"
   },
   {
    "duration": 384,
    "start_time": "2022-01-24T18:47:18.104Z"
   },
   {
    "duration": 981,
    "start_time": "2022-01-24T18:47:21.324Z"
   },
   {
    "duration": 8,
    "start_time": "2022-01-24T18:47:25.630Z"
   },
   {
    "duration": 119,
    "start_time": "2022-01-24T18:47:26.229Z"
   },
   {
    "duration": 14,
    "start_time": "2022-01-24T18:47:30.623Z"
   },
   {
    "duration": 623,
    "start_time": "2022-01-24T18:47:31.222Z"
   },
   {
    "duration": 238,
    "start_time": "2022-01-24T18:47:35.966Z"
   },
   {
    "duration": 6,
    "start_time": "2022-01-24T18:47:39.154Z"
   },
   {
    "duration": 690,
    "start_time": "2022-01-24T18:47:40.680Z"
   },
   {
    "duration": 147,
    "start_time": "2022-01-24T18:47:43.337Z"
   },
   {
    "duration": 13,
    "start_time": "2022-01-24T18:47:45.968Z"
   },
   {
    "duration": 1016,
    "start_time": "2022-01-24T18:47:47.403Z"
   },
   {
    "duration": 295,
    "start_time": "2022-01-24T18:47:49.985Z"
   },
   {
    "duration": 8,
    "start_time": "2022-01-24T18:47:53.621Z"
   },
   {
    "duration": 816,
    "start_time": "2022-01-24T18:47:55.701Z"
   },
   {
    "duration": 120,
    "start_time": "2022-01-24T18:47:57.759Z"
   },
   {
    "duration": 11,
    "start_time": "2022-01-24T18:48:01.728Z"
   },
   {
    "duration": 422,
    "start_time": "2022-01-24T18:48:09.492Z"
   },
   {
    "duration": 215,
    "start_time": "2022-01-24T18:48:13.252Z"
   },
   {
    "duration": 12,
    "start_time": "2022-01-24T18:48:17.008Z"
   },
   {
    "duration": 420,
    "start_time": "2022-01-24T18:48:17.637Z"
   },
   {
    "duration": 239,
    "start_time": "2022-01-24T18:48:20.092Z"
   },
   {
    "duration": 6,
    "start_time": "2022-01-24T18:48:21.998Z"
   },
   {
    "duration": 124,
    "start_time": "2022-01-24T18:48:25.064Z"
   },
   {
    "duration": 11,
    "start_time": "2022-01-24T18:48:28.188Z"
   },
   {
    "duration": 683,
    "start_time": "2022-01-24T18:48:29.943Z"
   },
   {
    "duration": 618,
    "start_time": "2022-01-24T18:48:33.129Z"
   },
   {
    "duration": 241,
    "start_time": "2022-01-24T18:48:33.750Z"
   },
   {
    "duration": 6,
    "start_time": "2022-01-24T18:48:37.430Z"
   },
   {
    "duration": 14,
    "start_time": "2022-01-24T18:48:39.791Z"
   },
   {
    "duration": 13,
    "start_time": "2022-01-24T18:48:40.460Z"
   },
   {
    "duration": 702,
    "start_time": "2022-01-24T18:48:44.772Z"
   },
   {
    "duration": 9,
    "start_time": "2022-01-24T18:48:45.896Z"
   },
   {
    "duration": 25,
    "start_time": "2022-01-24T18:48:50.125Z"
   },
   {
    "duration": 24,
    "start_time": "2022-01-24T18:48:50.679Z"
   },
   {
    "duration": 26,
    "start_time": "2022-01-24T18:48:55.550Z"
   },
   {
    "duration": 2450,
    "start_time": "2022-01-24T18:48:58.046Z"
   },
   {
    "duration": 470,
    "start_time": "2022-01-24T18:49:08.549Z"
   },
   {
    "duration": 4,
    "start_time": "2022-02-01T08:05:39.284Z"
   },
   {
    "duration": 3,
    "start_time": "2022-02-01T08:05:42.076Z"
   },
   {
    "duration": 3,
    "start_time": "2022-02-01T08:06:20.230Z"
   },
   {
    "duration": 4,
    "start_time": "2022-02-01T08:06:21.734Z"
   }
  ],
  "kernelspec": {
   "display_name": "Python 3 (ipykernel)",
   "language": "python",
   "name": "python3"
  },
  "language_info": {
   "codemirror_mode": {
    "name": "ipython",
    "version": 3
   },
   "file_extension": ".py",
   "mimetype": "text/x-python",
   "name": "python",
   "nbconvert_exporter": "python",
   "pygments_lexer": "ipython3",
   "version": "3.7.8"
  },
  "toc": {
   "base_numbering": 1,
   "nav_menu": {},
   "number_sections": true,
   "sideBar": true,
   "skip_h1_title": true,
   "title_cell": "Содержание",
   "title_sidebar": "Contents",
   "toc_cell": true,
   "toc_position": {
    "height": "calc(100% - 180px)",
    "left": "10px",
    "top": "150px",
    "width": "366.594px"
   },
   "toc_section_display": true,
   "toc_window_display": true
  }
 },
 "nbformat": 4,
 "nbformat_minor": 2
}
